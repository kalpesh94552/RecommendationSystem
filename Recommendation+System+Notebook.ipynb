{
  "nbformat": 4,
  "nbformat_minor": 0,
  "metadata": {
    "kernelspec": {
      "name": "python380jvsc74a57bd00ed9aa097be2cebb5888fd12c731c6c40efb952c2a2faa8d27abb7dff4d06448",
      "display_name": "Python 3.8.0 64-bit ('rasaenv': conda)"
    },
    "language_info": {
      "codemirror_mode": {
        "name": "ipython",
        "version": 3
      },
      "file_extension": ".py",
      "mimetype": "text/x-python",
      "name": "python",
      "nbconvert_exporter": "python",
      "pygments_lexer": "ipython3",
      "version": "3.8.0"
    },
    "colab": {
      "name": "Recommendation+System+Notebook.ipynb",
      "provenance": [],
      "collapsed_sections": []
    }
  },
  "cells": [
    {
      "cell_type": "markdown",
      "metadata": {
        "id": "PQpJLewaExc5"
      },
      "source": [
        "# Recommendation System Notebook\n",
        "- User based recommendation\n",
        "- User based prediction & evaluation\n",
        "- Item based recommendation\n",
        "- Item based prediction & evaluation"
      ]
    },
    {
      "cell_type": "markdown",
      "metadata": {
        "id": "e_mRKDXIYF4e"
      },
      "source": [
        "Different Approaches to develop Recommendation System -\n",
        "\n",
        "1. Demographich based Recommendation System\n",
        "\n",
        "2. Content Based Recommendation System\n",
        "\n",
        "3. Collaborative filtering Recommendation System"
      ]
    },
    {
      "cell_type": "code",
      "metadata": {
        "id": "Vze08MDYExc_"
      },
      "source": [
        "# import libraties\n",
        "import pandas as pd\n",
        "import numpy as np\n",
        "import matplotlib.pyplot as plt"
      ],
      "execution_count": 1,
      "outputs": []
    },
    {
      "cell_type": "code",
      "metadata": {
        "id": "624Z4KUlHoeZ",
        "colab": {
          "base_uri": "https://localhost:8080/",
          "height": 202
        },
        "outputId": "c7df4d00-be97-4862-d695-25687deaa9b6"
      },
      "source": [
        "# Reading ratings file from GitHub. # MovieLens\n",
        "ratings = pd.read_csv('https://raw.githubusercontent.com/antrikshsaxena/NLPCapstone/main/ratings_final.csv' , encoding='latin-1')\n",
        "ratings.head()"
      ],
      "execution_count": 2,
      "outputs": [
        {
          "output_type": "execute_result",
          "data": {
            "text/plain": [
              "   userId  movieId  rating   timestamp\n",
              "0       1      296     5.0  1147880044\n",
              "1       1      306     3.5  1147868817\n",
              "2       1      307     5.0  1147868828\n",
              "3       1      665     5.0  1147878820\n",
              "4       1      899     3.5  1147868510"
            ],
            "text/html": "<div>\n<style scoped>\n    .dataframe tbody tr th:only-of-type {\n        vertical-align: middle;\n    }\n\n    .dataframe tbody tr th {\n        vertical-align: top;\n    }\n\n    .dataframe thead th {\n        text-align: right;\n    }\n</style>\n<table border=\"1\" class=\"dataframe\">\n  <thead>\n    <tr style=\"text-align: right;\">\n      <th></th>\n      <th>userId</th>\n      <th>movieId</th>\n      <th>rating</th>\n      <th>timestamp</th>\n    </tr>\n  </thead>\n  <tbody>\n    <tr>\n      <th>0</th>\n      <td>1</td>\n      <td>296</td>\n      <td>5.0</td>\n      <td>1147880044</td>\n    </tr>\n    <tr>\n      <th>1</th>\n      <td>1</td>\n      <td>306</td>\n      <td>3.5</td>\n      <td>1147868817</td>\n    </tr>\n    <tr>\n      <th>2</th>\n      <td>1</td>\n      <td>307</td>\n      <td>5.0</td>\n      <td>1147868828</td>\n    </tr>\n    <tr>\n      <th>3</th>\n      <td>1</td>\n      <td>665</td>\n      <td>5.0</td>\n      <td>1147878820</td>\n    </tr>\n    <tr>\n      <th>4</th>\n      <td>1</td>\n      <td>899</td>\n      <td>3.5</td>\n      <td>1147868510</td>\n    </tr>\n  </tbody>\n</table>\n</div>"
          },
          "metadata": {},
          "execution_count": 2
        }
      ]
    },
    {
      "cell_type": "markdown",
      "metadata": {
        "id": "VGRnMjUFExdB"
      },
      "source": [
        "## Dividing the dataset into train and test"
      ]
    },
    {
      "cell_type": "code",
      "metadata": {
        "id": "yW5T0yiYExdB"
      },
      "source": [
        "# Test and Train split of the dataset.\n",
        "from sklearn.model_selection import train_test_split\n",
        "train, test = train_test_split(ratings, test_size=0.30, random_state=31)"
      ],
      "execution_count": 3,
      "outputs": []
    },
    {
      "cell_type": "code",
      "metadata": {
        "colab": {
          "base_uri": "https://localhost:8080/"
        },
        "id": "zJFq41WVExdB",
        "outputId": "6e6a664f-5816-4e7e-9134-41ddc10484f9"
      },
      "source": [
        "print(train.shape)\n",
        "print(test.shape)"
      ],
      "execution_count": 4,
      "outputs": [
        {
          "output_type": "stream",
          "name": "stdout",
          "text": [
            "(210088, 4)\n(90038, 4)\n"
          ]
        }
      ]
    },
    {
      "cell_type": "code",
      "metadata": {
        "id": "8mCE__XgExdC",
        "colab": {
          "base_uri": "https://localhost:8080/",
          "height": 221
        },
        "outputId": "5ec8dd59-d3c7-4d08-bdb9-20a72645e1bd"
      },
      "source": [
        "# Pivot the train ratings' dataset into matrix format in which columns are movies and the rows are user IDs.\n",
        "df_pivot = train.pivot(\n",
        "    index='userId',\n",
        "    columns='movieId',\n",
        "    values='rating'\n",
        ").fillna(0)\n",
        "\n",
        "df_pivot.head(3)"
      ],
      "execution_count": 5,
      "outputs": [
        {
          "output_type": "execute_result",
          "data": {
            "text/plain": [
              "movieId  1       2       3       4       5       6       7       8       \\\n",
              "userId                                                                    \n",
              "1           0.0     0.0     0.0     0.0     0.0     0.0     0.0     0.0   \n",
              "2           3.5     0.0     0.0     0.0     0.0     0.0     0.0     0.0   \n",
              "3           0.0     0.0     0.0     0.0     0.0     0.0     0.0     0.0   \n",
              "\n",
              "movieId  9       10      ...  205967  206272  206293  206499  206523  206845  \\\n",
              "userId                   ...                                                   \n",
              "1           0.0     0.0  ...     0.0     0.0     0.0     0.0     0.0     0.0   \n",
              "2           0.0     0.0  ...     0.0     0.0     0.0     0.0     0.0     0.0   \n",
              "3           0.0     0.0  ...     0.0     0.0     0.0     0.0     0.0     0.0   \n",
              "\n",
              "movieId  206861  207309  208002  208793  \n",
              "userId                                   \n",
              "1           0.0     0.0     0.0     0.0  \n",
              "2           0.0     0.0     0.0     0.0  \n",
              "3           0.0     0.0     0.0     0.0  \n",
              "\n",
              "[3 rows x 12911 columns]"
            ],
            "text/html": "<div>\n<style scoped>\n    .dataframe tbody tr th:only-of-type {\n        vertical-align: middle;\n    }\n\n    .dataframe tbody tr th {\n        vertical-align: top;\n    }\n\n    .dataframe thead th {\n        text-align: right;\n    }\n</style>\n<table border=\"1\" class=\"dataframe\">\n  <thead>\n    <tr style=\"text-align: right;\">\n      <th>movieId</th>\n      <th>1</th>\n      <th>2</th>\n      <th>3</th>\n      <th>4</th>\n      <th>5</th>\n      <th>6</th>\n      <th>7</th>\n      <th>8</th>\n      <th>9</th>\n      <th>10</th>\n      <th>...</th>\n      <th>205967</th>\n      <th>206272</th>\n      <th>206293</th>\n      <th>206499</th>\n      <th>206523</th>\n      <th>206845</th>\n      <th>206861</th>\n      <th>207309</th>\n      <th>208002</th>\n      <th>208793</th>\n    </tr>\n    <tr>\n      <th>userId</th>\n      <th></th>\n      <th></th>\n      <th></th>\n      <th></th>\n      <th></th>\n      <th></th>\n      <th></th>\n      <th></th>\n      <th></th>\n      <th></th>\n      <th></th>\n      <th></th>\n      <th></th>\n      <th></th>\n      <th></th>\n      <th></th>\n      <th></th>\n      <th></th>\n      <th></th>\n      <th></th>\n      <th></th>\n    </tr>\n  </thead>\n  <tbody>\n    <tr>\n      <th>1</th>\n      <td>0.0</td>\n      <td>0.0</td>\n      <td>0.0</td>\n      <td>0.0</td>\n      <td>0.0</td>\n      <td>0.0</td>\n      <td>0.0</td>\n      <td>0.0</td>\n      <td>0.0</td>\n      <td>0.0</td>\n      <td>...</td>\n      <td>0.0</td>\n      <td>0.0</td>\n      <td>0.0</td>\n      <td>0.0</td>\n      <td>0.0</td>\n      <td>0.0</td>\n      <td>0.0</td>\n      <td>0.0</td>\n      <td>0.0</td>\n      <td>0.0</td>\n    </tr>\n    <tr>\n      <th>2</th>\n      <td>3.5</td>\n      <td>0.0</td>\n      <td>0.0</td>\n      <td>0.0</td>\n      <td>0.0</td>\n      <td>0.0</td>\n      <td>0.0</td>\n      <td>0.0</td>\n      <td>0.0</td>\n      <td>0.0</td>\n      <td>...</td>\n      <td>0.0</td>\n      <td>0.0</td>\n      <td>0.0</td>\n      <td>0.0</td>\n      <td>0.0</td>\n      <td>0.0</td>\n      <td>0.0</td>\n      <td>0.0</td>\n      <td>0.0</td>\n      <td>0.0</td>\n    </tr>\n    <tr>\n      <th>3</th>\n      <td>0.0</td>\n      <td>0.0</td>\n      <td>0.0</td>\n      <td>0.0</td>\n      <td>0.0</td>\n      <td>0.0</td>\n      <td>0.0</td>\n      <td>0.0</td>\n      <td>0.0</td>\n      <td>0.0</td>\n      <td>...</td>\n      <td>0.0</td>\n      <td>0.0</td>\n      <td>0.0</td>\n      <td>0.0</td>\n      <td>0.0</td>\n      <td>0.0</td>\n      <td>0.0</td>\n      <td>0.0</td>\n      <td>0.0</td>\n      <td>0.0</td>\n    </tr>\n  </tbody>\n</table>\n<p>3 rows × 12911 columns</p>\n</div>"
          },
          "metadata": {},
          "execution_count": 5
        }
      ]
    },
    {
      "cell_type": "markdown",
      "metadata": {
        "id": "Gc8gJh-YExdC"
      },
      "source": [
        "### Creating dummy train & dummy test dataset\n",
        "These dataset will be used for prediction \n",
        "- Dummy train will be used later for prediction of the movies which has not been rated by the user. To ignore the movies rated by the user, we will mark it as 0 during prediction. The movies not rated by user is marked as 1 for prediction in dummy train dataset. \n",
        "\n",
        "- Dummy test will be used for evaluation. To evaluate, we will only make prediction on the movies rated by the user. So, this is marked as 1. This is just opposite of dummy_train."
      ]
    },
    {
      "cell_type": "code",
      "metadata": {
        "id": "zttrkghGExdD"
      },
      "source": [
        "# Copy the train dataset into dummy_train\n",
        "dummy_train = train.copy()"
      ],
      "execution_count": 6,
      "outputs": []
    },
    {
      "cell_type": "code",
      "metadata": {
        "colab": {
          "base_uri": "https://localhost:8080/",
          "height": 202
        },
        "id": "BYBtNn3MAIAe",
        "outputId": "ae72cc92-f25e-451c-eab5-303f8cb07800"
      },
      "source": [
        "dummy_train.head()"
      ],
      "execution_count": 7,
      "outputs": [
        {
          "output_type": "execute_result",
          "data": {
            "text/plain": [
              "        userId  movieId  rating   timestamp\n",
              "285695    1986     5618     5.0  1468556487\n",
              "216175    1525     1357     3.0   860937440\n",
              "223915    1591     2571     5.0  1446621026\n",
              "200924    1418     2060     3.0  1034922803\n",
              "217719    1536     1704     4.0  1225328446"
            ],
            "text/html": "<div>\n<style scoped>\n    .dataframe tbody tr th:only-of-type {\n        vertical-align: middle;\n    }\n\n    .dataframe tbody tr th {\n        vertical-align: top;\n    }\n\n    .dataframe thead th {\n        text-align: right;\n    }\n</style>\n<table border=\"1\" class=\"dataframe\">\n  <thead>\n    <tr style=\"text-align: right;\">\n      <th></th>\n      <th>userId</th>\n      <th>movieId</th>\n      <th>rating</th>\n      <th>timestamp</th>\n    </tr>\n  </thead>\n  <tbody>\n    <tr>\n      <th>285695</th>\n      <td>1986</td>\n      <td>5618</td>\n      <td>5.0</td>\n      <td>1468556487</td>\n    </tr>\n    <tr>\n      <th>216175</th>\n      <td>1525</td>\n      <td>1357</td>\n      <td>3.0</td>\n      <td>860937440</td>\n    </tr>\n    <tr>\n      <th>223915</th>\n      <td>1591</td>\n      <td>2571</td>\n      <td>5.0</td>\n      <td>1446621026</td>\n    </tr>\n    <tr>\n      <th>200924</th>\n      <td>1418</td>\n      <td>2060</td>\n      <td>3.0</td>\n      <td>1034922803</td>\n    </tr>\n    <tr>\n      <th>217719</th>\n      <td>1536</td>\n      <td>1704</td>\n      <td>4.0</td>\n      <td>1225328446</td>\n    </tr>\n  </tbody>\n</table>\n</div>"
          },
          "metadata": {},
          "execution_count": 7
        }
      ]
    },
    {
      "cell_type": "code",
      "metadata": {
        "id": "3G4s9lvVExdD"
      },
      "source": [
        "# The movies not rated by user is marked as 1 for prediction. \n",
        "dummy_train['rating'] = dummy_train['rating'].apply(lambda x: 0 if x>=1 else 1)"
      ],
      "execution_count": 8,
      "outputs": []
    },
    {
      "cell_type": "code",
      "metadata": {
        "id": "UFSn3np7ExdD"
      },
      "source": [
        "# Convert the dummy train dataset into matrix format.\n",
        "dummy_train = dummy_train.pivot(\n",
        "    index='userId',\n",
        "    columns='movieId',\n",
        "    values='rating'\n",
        ").fillna(1)"
      ],
      "execution_count": 9,
      "outputs": []
    },
    {
      "cell_type": "code",
      "metadata": {
        "colab": {
          "base_uri": "https://localhost:8080/",
          "height": 282
        },
        "id": "Of3c1dioExdD",
        "outputId": "6e98adbc-0d32-49b9-df1e-5f084981b24b"
      },
      "source": [
        "dummy_train.head()"
      ],
      "execution_count": 10,
      "outputs": [
        {
          "output_type": "execute_result",
          "data": {
            "text/plain": [
              "movieId  1       2       3       4       5       6       7       8       \\\n",
              "userId                                                                    \n",
              "1           1.0     1.0     1.0     1.0     1.0     1.0     1.0     1.0   \n",
              "2           0.0     1.0     1.0     1.0     1.0     1.0     1.0     1.0   \n",
              "3           1.0     1.0     1.0     1.0     1.0     1.0     1.0     1.0   \n",
              "4           0.0     1.0     1.0     1.0     1.0     1.0     1.0     1.0   \n",
              "5           0.0     1.0     1.0     1.0     1.0     1.0     1.0     1.0   \n",
              "\n",
              "movieId  9       10      ...  205967  206272  206293  206499  206523  206845  \\\n",
              "userId                   ...                                                   \n",
              "1           1.0     1.0  ...     1.0     1.0     1.0     1.0     1.0     1.0   \n",
              "2           1.0     1.0  ...     1.0     1.0     1.0     1.0     1.0     1.0   \n",
              "3           1.0     1.0  ...     1.0     1.0     1.0     1.0     1.0     1.0   \n",
              "4           1.0     1.0  ...     1.0     1.0     1.0     1.0     1.0     1.0   \n",
              "5           1.0     1.0  ...     1.0     1.0     1.0     1.0     1.0     1.0   \n",
              "\n",
              "movieId  206861  207309  208002  208793  \n",
              "userId                                   \n",
              "1           1.0     1.0     1.0     1.0  \n",
              "2           1.0     1.0     1.0     1.0  \n",
              "3           1.0     1.0     1.0     1.0  \n",
              "4           1.0     1.0     1.0     1.0  \n",
              "5           1.0     1.0     1.0     1.0  \n",
              "\n",
              "[5 rows x 12911 columns]"
            ],
            "text/html": "<div>\n<style scoped>\n    .dataframe tbody tr th:only-of-type {\n        vertical-align: middle;\n    }\n\n    .dataframe tbody tr th {\n        vertical-align: top;\n    }\n\n    .dataframe thead th {\n        text-align: right;\n    }\n</style>\n<table border=\"1\" class=\"dataframe\">\n  <thead>\n    <tr style=\"text-align: right;\">\n      <th>movieId</th>\n      <th>1</th>\n      <th>2</th>\n      <th>3</th>\n      <th>4</th>\n      <th>5</th>\n      <th>6</th>\n      <th>7</th>\n      <th>8</th>\n      <th>9</th>\n      <th>10</th>\n      <th>...</th>\n      <th>205967</th>\n      <th>206272</th>\n      <th>206293</th>\n      <th>206499</th>\n      <th>206523</th>\n      <th>206845</th>\n      <th>206861</th>\n      <th>207309</th>\n      <th>208002</th>\n      <th>208793</th>\n    </tr>\n    <tr>\n      <th>userId</th>\n      <th></th>\n      <th></th>\n      <th></th>\n      <th></th>\n      <th></th>\n      <th></th>\n      <th></th>\n      <th></th>\n      <th></th>\n      <th></th>\n      <th></th>\n      <th></th>\n      <th></th>\n      <th></th>\n      <th></th>\n      <th></th>\n      <th></th>\n      <th></th>\n      <th></th>\n      <th></th>\n      <th></th>\n    </tr>\n  </thead>\n  <tbody>\n    <tr>\n      <th>1</th>\n      <td>1.0</td>\n      <td>1.0</td>\n      <td>1.0</td>\n      <td>1.0</td>\n      <td>1.0</td>\n      <td>1.0</td>\n      <td>1.0</td>\n      <td>1.0</td>\n      <td>1.0</td>\n      <td>1.0</td>\n      <td>...</td>\n      <td>1.0</td>\n      <td>1.0</td>\n      <td>1.0</td>\n      <td>1.0</td>\n      <td>1.0</td>\n      <td>1.0</td>\n      <td>1.0</td>\n      <td>1.0</td>\n      <td>1.0</td>\n      <td>1.0</td>\n    </tr>\n    <tr>\n      <th>2</th>\n      <td>0.0</td>\n      <td>1.0</td>\n      <td>1.0</td>\n      <td>1.0</td>\n      <td>1.0</td>\n      <td>1.0</td>\n      <td>1.0</td>\n      <td>1.0</td>\n      <td>1.0</td>\n      <td>1.0</td>\n      <td>...</td>\n      <td>1.0</td>\n      <td>1.0</td>\n      <td>1.0</td>\n      <td>1.0</td>\n      <td>1.0</td>\n      <td>1.0</td>\n      <td>1.0</td>\n      <td>1.0</td>\n      <td>1.0</td>\n      <td>1.0</td>\n    </tr>\n    <tr>\n      <th>3</th>\n      <td>1.0</td>\n      <td>1.0</td>\n      <td>1.0</td>\n      <td>1.0</td>\n      <td>1.0</td>\n      <td>1.0</td>\n      <td>1.0</td>\n      <td>1.0</td>\n      <td>1.0</td>\n      <td>1.0</td>\n      <td>...</td>\n      <td>1.0</td>\n      <td>1.0</td>\n      <td>1.0</td>\n      <td>1.0</td>\n      <td>1.0</td>\n      <td>1.0</td>\n      <td>1.0</td>\n      <td>1.0</td>\n      <td>1.0</td>\n      <td>1.0</td>\n    </tr>\n    <tr>\n      <th>4</th>\n      <td>0.0</td>\n      <td>1.0</td>\n      <td>1.0</td>\n      <td>1.0</td>\n      <td>1.0</td>\n      <td>1.0</td>\n      <td>1.0</td>\n      <td>1.0</td>\n      <td>1.0</td>\n      <td>1.0</td>\n      <td>...</td>\n      <td>1.0</td>\n      <td>1.0</td>\n      <td>1.0</td>\n      <td>1.0</td>\n      <td>1.0</td>\n      <td>1.0</td>\n      <td>1.0</td>\n      <td>1.0</td>\n      <td>1.0</td>\n      <td>1.0</td>\n    </tr>\n    <tr>\n      <th>5</th>\n      <td>0.0</td>\n      <td>1.0</td>\n      <td>1.0</td>\n      <td>1.0</td>\n      <td>1.0</td>\n      <td>1.0</td>\n      <td>1.0</td>\n      <td>1.0</td>\n      <td>1.0</td>\n      <td>1.0</td>\n      <td>...</td>\n      <td>1.0</td>\n      <td>1.0</td>\n      <td>1.0</td>\n      <td>1.0</td>\n      <td>1.0</td>\n      <td>1.0</td>\n      <td>1.0</td>\n      <td>1.0</td>\n      <td>1.0</td>\n      <td>1.0</td>\n    </tr>\n  </tbody>\n</table>\n<p>5 rows × 12911 columns</p>\n</div>"
          },
          "metadata": {},
          "execution_count": 10
        }
      ]
    },
    {
      "cell_type": "markdown",
      "metadata": {
        "id": "UXqgMNIjfQ2-"
      },
      "source": [
        "**Cosine Similarity**\n",
        "\n",
        "Cosine Similarity is a measurement that quantifies the similarity between two vectors [Which is Rating Vector in this case] \n",
        "\n",
        "**Adjusted Cosine**\n",
        "\n",
        "Adjusted cosine similarity is a modified version of vector-based similarity where we incorporate the fact that different users have different ratings schemes. In other words, some users might rate items highly in general, and others might give items lower ratings as a preference. To handle this nature from rating given by user , we subtract average ratings for each user from each user's rating for different movies.\n",
        "\n"
      ]
    },
    {
      "cell_type": "markdown",
      "metadata": {
        "id": "1g14byvoExdE"
      },
      "source": [
        "# User Similarity Matrix"
      ]
    },
    {
      "cell_type": "markdown",
      "metadata": {
        "id": "xCN3f1X0ExdE"
      },
      "source": [
        "## Using Cosine Similarity"
      ]
    },
    {
      "cell_type": "code",
      "metadata": {
        "colab": {
          "base_uri": "https://localhost:8080/"
        },
        "id": "X0oq4IH6O0jw",
        "outputId": "224cbef8-42d9-42e1-b478-06fa5b221f0e"
      },
      "source": [
        "df_pivot.index.nunique()"
      ],
      "execution_count": 11,
      "outputs": [
        {
          "output_type": "execute_result",
          "data": {
            "text/plain": [
              "2071"
            ]
          },
          "metadata": {},
          "execution_count": 11
        }
      ]
    },
    {
      "cell_type": "code",
      "metadata": {
        "colab": {
          "base_uri": "https://localhost:8080/"
        },
        "id": "AerlX5jdExdE",
        "outputId": "cc13191f-c962-40f4-ae89-7b73df3d90d4"
      },
      "source": [
        "from sklearn.metrics.pairwise import pairwise_distances\n",
        "\n",
        "# Creating the User Similarity Matrix using pairwise_distance function.\n",
        "user_correlation = 1 - pairwise_distances(df_pivot, metric='cosine')\n",
        "user_correlation[np.isnan(user_correlation)] = 0\n",
        "print(user_correlation)"
      ],
      "execution_count": 12,
      "outputs": [
        {
          "output_type": "stream",
          "name": "stdout",
          "text": [
            "[[1.         0.02834514 0.04260006 ... 0.02010714 0.         0.02016493]\n [0.02834514 1.         0.12915063 ... 0.16690495 0.         0.11004906]\n [0.04260006 0.12915063 1.         ... 0.17826473 0.         0.04473138]\n ...\n [0.02010714 0.16690495 0.17826473 ... 1.         0.00286873 0.09695713]\n [0.         0.         0.         ... 0.00286873 1.         0.01475374]\n [0.02016493 0.11004906 0.04473138 ... 0.09695713 0.01475374 1.        ]]\n"
          ]
        }
      ]
    },
    {
      "cell_type": "code",
      "metadata": {
        "colab": {
          "base_uri": "https://localhost:8080/"
        },
        "id": "5EA6M0wUExdF",
        "outputId": "3bb8cf91-707a-4b3b-d833-d997e18157da"
      },
      "source": [
        "user_correlation.shape"
      ],
      "execution_count": 13,
      "outputs": [
        {
          "output_type": "execute_result",
          "data": {
            "text/plain": [
              "(2071, 2071)"
            ]
          },
          "metadata": {},
          "execution_count": 13
        }
      ]
    },
    {
      "cell_type": "markdown",
      "metadata": {
        "id": "UqRArQEDExdF"
      },
      "source": [
        "## Using adjusted Cosine "
      ]
    },
    {
      "cell_type": "markdown",
      "metadata": {
        "id": "oP9vrfQuExdF"
      },
      "source": [
        "### Here, we are not removing the NaN values and calculating the mean only for the movies rated by the user"
      ]
    },
    {
      "cell_type": "code",
      "metadata": {
        "id": "NK8Z9wxKExdF"
      },
      "source": [
        "# Create a user-movie matrix.\n",
        "df_pivot = train.pivot(\n",
        "    index='userId',\n",
        "    columns='movieId',\n",
        "    values='rating'\n",
        ")"
      ],
      "execution_count": 14,
      "outputs": []
    },
    {
      "cell_type": "code",
      "metadata": {
        "colab": {
          "base_uri": "https://localhost:8080/",
          "height": 282
        },
        "id": "2M9VgXElExdG",
        "outputId": "0ff28797-4094-41d9-abc5-871bacf66934"
      },
      "source": [
        "df_pivot.head()"
      ],
      "execution_count": 15,
      "outputs": [
        {
          "output_type": "execute_result",
          "data": {
            "text/plain": [
              "movieId  1       2       3       4       5       6       7       8       \\\n",
              "userId                                                                    \n",
              "1           NaN     NaN     NaN     NaN     NaN     NaN     NaN     NaN   \n",
              "2           3.5     NaN     NaN     NaN     NaN     NaN     NaN     NaN   \n",
              "3           NaN     NaN     NaN     NaN     NaN     NaN     NaN     NaN   \n",
              "4           3.0     NaN     NaN     NaN     NaN     NaN     NaN     NaN   \n",
              "5           4.0     NaN     NaN     NaN     NaN     NaN     NaN     NaN   \n",
              "\n",
              "movieId  9       10      ...  205967  206272  206293  206499  206523  206845  \\\n",
              "userId                   ...                                                   \n",
              "1           NaN     NaN  ...     NaN     NaN     NaN     NaN     NaN     NaN   \n",
              "2           NaN     NaN  ...     NaN     NaN     NaN     NaN     NaN     NaN   \n",
              "3           NaN     NaN  ...     NaN     NaN     NaN     NaN     NaN     NaN   \n",
              "4           NaN     NaN  ...     NaN     NaN     NaN     NaN     NaN     NaN   \n",
              "5           NaN     NaN  ...     NaN     NaN     NaN     NaN     NaN     NaN   \n",
              "\n",
              "movieId  206861  207309  208002  208793  \n",
              "userId                                   \n",
              "1           NaN     NaN     NaN     NaN  \n",
              "2           NaN     NaN     NaN     NaN  \n",
              "3           NaN     NaN     NaN     NaN  \n",
              "4           NaN     NaN     NaN     NaN  \n",
              "5           NaN     NaN     NaN     NaN  \n",
              "\n",
              "[5 rows x 12911 columns]"
            ],
            "text/html": "<div>\n<style scoped>\n    .dataframe tbody tr th:only-of-type {\n        vertical-align: middle;\n    }\n\n    .dataframe tbody tr th {\n        vertical-align: top;\n    }\n\n    .dataframe thead th {\n        text-align: right;\n    }\n</style>\n<table border=\"1\" class=\"dataframe\">\n  <thead>\n    <tr style=\"text-align: right;\">\n      <th>movieId</th>\n      <th>1</th>\n      <th>2</th>\n      <th>3</th>\n      <th>4</th>\n      <th>5</th>\n      <th>6</th>\n      <th>7</th>\n      <th>8</th>\n      <th>9</th>\n      <th>10</th>\n      <th>...</th>\n      <th>205967</th>\n      <th>206272</th>\n      <th>206293</th>\n      <th>206499</th>\n      <th>206523</th>\n      <th>206845</th>\n      <th>206861</th>\n      <th>207309</th>\n      <th>208002</th>\n      <th>208793</th>\n    </tr>\n    <tr>\n      <th>userId</th>\n      <th></th>\n      <th></th>\n      <th></th>\n      <th></th>\n      <th></th>\n      <th></th>\n      <th></th>\n      <th></th>\n      <th></th>\n      <th></th>\n      <th></th>\n      <th></th>\n      <th></th>\n      <th></th>\n      <th></th>\n      <th></th>\n      <th></th>\n      <th></th>\n      <th></th>\n      <th></th>\n      <th></th>\n    </tr>\n  </thead>\n  <tbody>\n    <tr>\n      <th>1</th>\n      <td>NaN</td>\n      <td>NaN</td>\n      <td>NaN</td>\n      <td>NaN</td>\n      <td>NaN</td>\n      <td>NaN</td>\n      <td>NaN</td>\n      <td>NaN</td>\n      <td>NaN</td>\n      <td>NaN</td>\n      <td>...</td>\n      <td>NaN</td>\n      <td>NaN</td>\n      <td>NaN</td>\n      <td>NaN</td>\n      <td>NaN</td>\n      <td>NaN</td>\n      <td>NaN</td>\n      <td>NaN</td>\n      <td>NaN</td>\n      <td>NaN</td>\n    </tr>\n    <tr>\n      <th>2</th>\n      <td>3.5</td>\n      <td>NaN</td>\n      <td>NaN</td>\n      <td>NaN</td>\n      <td>NaN</td>\n      <td>NaN</td>\n      <td>NaN</td>\n      <td>NaN</td>\n      <td>NaN</td>\n      <td>NaN</td>\n      <td>...</td>\n      <td>NaN</td>\n      <td>NaN</td>\n      <td>NaN</td>\n      <td>NaN</td>\n      <td>NaN</td>\n      <td>NaN</td>\n      <td>NaN</td>\n      <td>NaN</td>\n      <td>NaN</td>\n      <td>NaN</td>\n    </tr>\n    <tr>\n      <th>3</th>\n      <td>NaN</td>\n      <td>NaN</td>\n      <td>NaN</td>\n      <td>NaN</td>\n      <td>NaN</td>\n      <td>NaN</td>\n      <td>NaN</td>\n      <td>NaN</td>\n      <td>NaN</td>\n      <td>NaN</td>\n      <td>...</td>\n      <td>NaN</td>\n      <td>NaN</td>\n      <td>NaN</td>\n      <td>NaN</td>\n      <td>NaN</td>\n      <td>NaN</td>\n      <td>NaN</td>\n      <td>NaN</td>\n      <td>NaN</td>\n      <td>NaN</td>\n    </tr>\n    <tr>\n      <th>4</th>\n      <td>3.0</td>\n      <td>NaN</td>\n      <td>NaN</td>\n      <td>NaN</td>\n      <td>NaN</td>\n      <td>NaN</td>\n      <td>NaN</td>\n      <td>NaN</td>\n      <td>NaN</td>\n      <td>NaN</td>\n      <td>...</td>\n      <td>NaN</td>\n      <td>NaN</td>\n      <td>NaN</td>\n      <td>NaN</td>\n      <td>NaN</td>\n      <td>NaN</td>\n      <td>NaN</td>\n      <td>NaN</td>\n      <td>NaN</td>\n      <td>NaN</td>\n    </tr>\n    <tr>\n      <th>5</th>\n      <td>4.0</td>\n      <td>NaN</td>\n      <td>NaN</td>\n      <td>NaN</td>\n      <td>NaN</td>\n      <td>NaN</td>\n      <td>NaN</td>\n      <td>NaN</td>\n      <td>NaN</td>\n      <td>NaN</td>\n      <td>...</td>\n      <td>NaN</td>\n      <td>NaN</td>\n      <td>NaN</td>\n      <td>NaN</td>\n      <td>NaN</td>\n      <td>NaN</td>\n      <td>NaN</td>\n      <td>NaN</td>\n      <td>NaN</td>\n      <td>NaN</td>\n    </tr>\n  </tbody>\n</table>\n<p>5 rows × 12911 columns</p>\n</div>"
          },
          "metadata": {},
          "execution_count": 15
        }
      ]
    },
    {
      "cell_type": "markdown",
      "metadata": {
        "id": "3xIwq2tEExdG"
      },
      "source": [
        "### Normalising the rating of the movie for each user around 0 mean"
      ]
    },
    {
      "cell_type": "code",
      "metadata": {
        "id": "iIPOrBJJExdG"
      },
      "source": [
        "mean = np.nanmean(df_pivot, axis=1)\n",
        "df_subtracted = (df_pivot.T-mean).T"
      ],
      "execution_count": 16,
      "outputs": []
    },
    {
      "cell_type": "code",
      "metadata": {
        "colab": {
          "base_uri": "https://localhost:8080/",
          "height": 282
        },
        "id": "YG9wWuF6ExdG",
        "outputId": "6f8e290e-5461-4aeb-c351-db0e03caddd6"
      },
      "source": [
        "df_subtracted.head()"
      ],
      "execution_count": 17,
      "outputs": [
        {
          "output_type": "execute_result",
          "data": {
            "text/plain": [
              "movieId    1       2       3       4       5       6       7       8       \\\n",
              "userId                                                                      \n",
              "1             NaN     NaN     NaN     NaN     NaN     NaN     NaN     NaN   \n",
              "2       -0.169355     NaN     NaN     NaN     NaN     NaN     NaN     NaN   \n",
              "3             NaN     NaN     NaN     NaN     NaN     NaN     NaN     NaN   \n",
              "4       -0.368421     NaN     NaN     NaN     NaN     NaN     NaN     NaN   \n",
              "5        0.105263     NaN     NaN     NaN     NaN     NaN     NaN     NaN   \n",
              "\n",
              "movieId  9       10      ...  205967  206272  206293  206499  206523  206845  \\\n",
              "userId                   ...                                                   \n",
              "1           NaN     NaN  ...     NaN     NaN     NaN     NaN     NaN     NaN   \n",
              "2           NaN     NaN  ...     NaN     NaN     NaN     NaN     NaN     NaN   \n",
              "3           NaN     NaN  ...     NaN     NaN     NaN     NaN     NaN     NaN   \n",
              "4           NaN     NaN  ...     NaN     NaN     NaN     NaN     NaN     NaN   \n",
              "5           NaN     NaN  ...     NaN     NaN     NaN     NaN     NaN     NaN   \n",
              "\n",
              "movieId  206861  207309  208002  208793  \n",
              "userId                                   \n",
              "1           NaN     NaN     NaN     NaN  \n",
              "2           NaN     NaN     NaN     NaN  \n",
              "3           NaN     NaN     NaN     NaN  \n",
              "4           NaN     NaN     NaN     NaN  \n",
              "5           NaN     NaN     NaN     NaN  \n",
              "\n",
              "[5 rows x 12911 columns]"
            ],
            "text/html": "<div>\n<style scoped>\n    .dataframe tbody tr th:only-of-type {\n        vertical-align: middle;\n    }\n\n    .dataframe tbody tr th {\n        vertical-align: top;\n    }\n\n    .dataframe thead th {\n        text-align: right;\n    }\n</style>\n<table border=\"1\" class=\"dataframe\">\n  <thead>\n    <tr style=\"text-align: right;\">\n      <th>movieId</th>\n      <th>1</th>\n      <th>2</th>\n      <th>3</th>\n      <th>4</th>\n      <th>5</th>\n      <th>6</th>\n      <th>7</th>\n      <th>8</th>\n      <th>9</th>\n      <th>10</th>\n      <th>...</th>\n      <th>205967</th>\n      <th>206272</th>\n      <th>206293</th>\n      <th>206499</th>\n      <th>206523</th>\n      <th>206845</th>\n      <th>206861</th>\n      <th>207309</th>\n      <th>208002</th>\n      <th>208793</th>\n    </tr>\n    <tr>\n      <th>userId</th>\n      <th></th>\n      <th></th>\n      <th></th>\n      <th></th>\n      <th></th>\n      <th></th>\n      <th></th>\n      <th></th>\n      <th></th>\n      <th></th>\n      <th></th>\n      <th></th>\n      <th></th>\n      <th></th>\n      <th></th>\n      <th></th>\n      <th></th>\n      <th></th>\n      <th></th>\n      <th></th>\n      <th></th>\n    </tr>\n  </thead>\n  <tbody>\n    <tr>\n      <th>1</th>\n      <td>NaN</td>\n      <td>NaN</td>\n      <td>NaN</td>\n      <td>NaN</td>\n      <td>NaN</td>\n      <td>NaN</td>\n      <td>NaN</td>\n      <td>NaN</td>\n      <td>NaN</td>\n      <td>NaN</td>\n      <td>...</td>\n      <td>NaN</td>\n      <td>NaN</td>\n      <td>NaN</td>\n      <td>NaN</td>\n      <td>NaN</td>\n      <td>NaN</td>\n      <td>NaN</td>\n      <td>NaN</td>\n      <td>NaN</td>\n      <td>NaN</td>\n    </tr>\n    <tr>\n      <th>2</th>\n      <td>-0.169355</td>\n      <td>NaN</td>\n      <td>NaN</td>\n      <td>NaN</td>\n      <td>NaN</td>\n      <td>NaN</td>\n      <td>NaN</td>\n      <td>NaN</td>\n      <td>NaN</td>\n      <td>NaN</td>\n      <td>...</td>\n      <td>NaN</td>\n      <td>NaN</td>\n      <td>NaN</td>\n      <td>NaN</td>\n      <td>NaN</td>\n      <td>NaN</td>\n      <td>NaN</td>\n      <td>NaN</td>\n      <td>NaN</td>\n      <td>NaN</td>\n    </tr>\n    <tr>\n      <th>3</th>\n      <td>NaN</td>\n      <td>NaN</td>\n      <td>NaN</td>\n      <td>NaN</td>\n      <td>NaN</td>\n      <td>NaN</td>\n      <td>NaN</td>\n      <td>NaN</td>\n      <td>NaN</td>\n      <td>NaN</td>\n      <td>...</td>\n      <td>NaN</td>\n      <td>NaN</td>\n      <td>NaN</td>\n      <td>NaN</td>\n      <td>NaN</td>\n      <td>NaN</td>\n      <td>NaN</td>\n      <td>NaN</td>\n      <td>NaN</td>\n      <td>NaN</td>\n    </tr>\n    <tr>\n      <th>4</th>\n      <td>-0.368421</td>\n      <td>NaN</td>\n      <td>NaN</td>\n      <td>NaN</td>\n      <td>NaN</td>\n      <td>NaN</td>\n      <td>NaN</td>\n      <td>NaN</td>\n      <td>NaN</td>\n      <td>NaN</td>\n      <td>...</td>\n      <td>NaN</td>\n      <td>NaN</td>\n      <td>NaN</td>\n      <td>NaN</td>\n      <td>NaN</td>\n      <td>NaN</td>\n      <td>NaN</td>\n      <td>NaN</td>\n      <td>NaN</td>\n      <td>NaN</td>\n    </tr>\n    <tr>\n      <th>5</th>\n      <td>0.105263</td>\n      <td>NaN</td>\n      <td>NaN</td>\n      <td>NaN</td>\n      <td>NaN</td>\n      <td>NaN</td>\n      <td>NaN</td>\n      <td>NaN</td>\n      <td>NaN</td>\n      <td>NaN</td>\n      <td>...</td>\n      <td>NaN</td>\n      <td>NaN</td>\n      <td>NaN</td>\n      <td>NaN</td>\n      <td>NaN</td>\n      <td>NaN</td>\n      <td>NaN</td>\n      <td>NaN</td>\n      <td>NaN</td>\n      <td>NaN</td>\n    </tr>\n  </tbody>\n</table>\n<p>5 rows × 12911 columns</p>\n</div>"
          },
          "metadata": {},
          "execution_count": 17
        }
      ]
    },
    {
      "cell_type": "markdown",
      "metadata": {
        "id": "Hhn3tGtCExdG"
      },
      "source": [
        "### Finding cosine similarity"
      ]
    },
    {
      "cell_type": "code",
      "metadata": {
        "id": "cz9Mt3W0ExdH"
      },
      "source": [
        "from sklearn.metrics.pairwise import pairwise_distances"
      ],
      "execution_count": 18,
      "outputs": []
    },
    {
      "cell_type": "code",
      "metadata": {
        "id": "p6WRLBAIPd_k",
        "colab": {
          "base_uri": "https://localhost:8080/"
        },
        "outputId": "9b2842f5-31d7-42b3-b9d3-92c021aa49b2"
      },
      "source": [
        "# Creating the User Similarity Matrix using pairwise_distance function.\n",
        "user_correlation = 1 - pairwise_distances(df_subtracted.fillna(0), metric='cosine')\n",
        "user_correlation[np.isnan(user_correlation)] = 0\n",
        "print(user_correlation)"
      ],
      "execution_count": 19,
      "outputs": [
        {
          "output_type": "stream",
          "name": "stdout",
          "text": [
            "[[ 1.00000000e+00  1.89942155e-03  1.65714482e-02 ...  2.02835872e-02\n   0.00000000e+00  4.45393263e-03]\n [ 1.89942155e-03  1.00000000e+00  2.43906478e-02 ...  3.46154488e-02\n   0.00000000e+00 -6.29642259e-04]\n [ 1.65714482e-02  2.43906478e-02  1.00000000e+00 ...  1.12606845e-01\n   0.00000000e+00  1.72034212e-02]\n ...\n [ 2.02835872e-02  3.46154488e-02  1.12606845e-01 ...  1.00000000e+00\n   1.50194969e-02  4.05549027e-03]\n [ 0.00000000e+00  0.00000000e+00  0.00000000e+00 ...  1.50194969e-02\n   1.00000000e+00 -3.89401922e-02]\n [ 4.45393263e-03 -6.29642259e-04  1.72034212e-02 ...  4.05549027e-03\n  -3.89401922e-02  1.00000000e+00]]\n"
          ]
        }
      ]
    },
    {
      "cell_type": "code",
      "metadata": {
        "colab": {
          "base_uri": "https://localhost:8080/"
        },
        "id": "Dztq2bLvQNQW",
        "outputId": "8c4788d8-b303-4fff-b888-e805d25a5306"
      },
      "source": [
        "user_correlation.shape"
      ],
      "execution_count": 20,
      "outputs": [
        {
          "output_type": "execute_result",
          "data": {
            "text/plain": [
              "(2071, 2071)"
            ]
          },
          "metadata": {},
          "execution_count": 20
        }
      ]
    },
    {
      "cell_type": "markdown",
      "metadata": {
        "id": "ZclauxcCExdH"
      },
      "source": [
        "## Prediction - User User"
      ]
    },
    {
      "cell_type": "markdown",
      "metadata": {
        "id": "1Gv7jXwsExdH"
      },
      "source": [
        "Doing the prediction for the users which are positively related with other users, and not the users which are negatively related as we are interested in the users which are more similar to the current users. So, ignoring the correlation for values less than 0. "
      ]
    },
    {
      "cell_type": "code",
      "metadata": {
        "colab": {
          "base_uri": "https://localhost:8080/"
        },
        "id": "fY1304VMExdH",
        "outputId": "6a827553-8f59-4cd5-af42-1da1f33f51bf"
      },
      "source": [
        "user_correlation[user_correlation<0]=0\n",
        "user_correlation"
      ],
      "execution_count": 21,
      "outputs": [
        {
          "output_type": "execute_result",
          "data": {
            "text/plain": [
              "array([[1.        , 0.00189942, 0.01657145, ..., 0.02028359, 0.        ,\n",
              "        0.00445393],\n",
              "       [0.00189942, 1.        , 0.02439065, ..., 0.03461545, 0.        ,\n",
              "        0.        ],\n",
              "       [0.01657145, 0.02439065, 1.        , ..., 0.11260685, 0.        ,\n",
              "        0.01720342],\n",
              "       ...,\n",
              "       [0.02028359, 0.03461545, 0.11260685, ..., 1.        , 0.0150195 ,\n",
              "        0.00405549],\n",
              "       [0.        , 0.        , 0.        , ..., 0.0150195 , 1.        ,\n",
              "        0.        ],\n",
              "       [0.00445393, 0.        , 0.01720342, ..., 0.00405549, 0.        ,\n",
              "        1.        ]])"
            ]
          },
          "metadata": {},
          "execution_count": 21
        }
      ]
    },
    {
      "cell_type": "markdown",
      "metadata": {
        "id": "TjdiwJIzExdI"
      },
      "source": [
        "Rating predicted by the user (for movies rated as well as not rated) is the weighted sum of correlation with the movie rating (as present in the rating dataset). "
      ]
    },
    {
      "cell_type": "code",
      "metadata": {
        "colab": {
          "base_uri": "https://localhost:8080/"
        },
        "id": "9OqMKQHSExdI",
        "outputId": "3ebc7a8d-a55c-4408-ec44-8df66e776ac3"
      },
      "source": [
        "user_predicted_ratings = np.dot(user_correlation, df_pivot.fillna(0))\n",
        "user_predicted_ratings"
      ],
      "execution_count": 22,
      "outputs": [
        {
          "output_type": "execute_result",
          "data": {
            "text/plain": [
              "array([[9.55212958e+00, 3.29449494e+00, 1.47095436e+00, ...,\n",
              "        0.00000000e+00, 0.00000000e+00, 7.45759814e-02],\n",
              "       [4.27943869e+01, 1.49257424e+01, 7.10816723e+00, ...,\n",
              "        1.13239244e-01, 1.13239244e-01, 5.83545467e-02],\n",
              "       [6.61412412e+01, 2.27700115e+01, 1.08069083e+01, ...,\n",
              "        3.65238676e-01, 3.65238676e-01, 2.34784706e-01],\n",
              "       ...,\n",
              "       [7.09804143e+01, 2.56071809e+01, 1.05493425e+01, ...,\n",
              "        1.01014810e-01, 1.01014810e-01, 1.07246400e-01],\n",
              "       [1.12478540e+01, 3.37613436e+00, 2.67961234e+00, ...,\n",
              "        0.00000000e+00, 0.00000000e+00, 3.20864676e-03],\n",
              "       [3.75005766e+01, 1.31940683e+01, 8.47280930e+00, ...,\n",
              "        3.98994887e-02, 3.98994887e-02, 9.16359183e-02]])"
            ]
          },
          "metadata": {},
          "execution_count": 22
        }
      ]
    },
    {
      "cell_type": "code",
      "metadata": {
        "colab": {
          "base_uri": "https://localhost:8080/"
        },
        "id": "M5ZIjVkQExdI",
        "outputId": "af700a1d-8473-4d62-8dcf-b3db520e1337"
      },
      "source": [
        "user_predicted_ratings.shape"
      ],
      "execution_count": 23,
      "outputs": [
        {
          "output_type": "execute_result",
          "data": {
            "text/plain": [
              "(2071, 12911)"
            ]
          },
          "metadata": {},
          "execution_count": 23
        }
      ]
    },
    {
      "cell_type": "code",
      "metadata": {
        "colab": {
          "base_uri": "https://localhost:8080/"
        },
        "id": "JlBIEfqJQiqq",
        "outputId": "3542e2e0-8417-4047-c9c1-5c93902f7e5d"
      },
      "source": [
        "user_predicted_ratings"
      ],
      "execution_count": 24,
      "outputs": [
        {
          "output_type": "execute_result",
          "data": {
            "text/plain": [
              "array([[9.55212958e+00, 3.29449494e+00, 1.47095436e+00, ...,\n",
              "        0.00000000e+00, 0.00000000e+00, 7.45759814e-02],\n",
              "       [4.27943869e+01, 1.49257424e+01, 7.10816723e+00, ...,\n",
              "        1.13239244e-01, 1.13239244e-01, 5.83545467e-02],\n",
              "       [6.61412412e+01, 2.27700115e+01, 1.08069083e+01, ...,\n",
              "        3.65238676e-01, 3.65238676e-01, 2.34784706e-01],\n",
              "       ...,\n",
              "       [7.09804143e+01, 2.56071809e+01, 1.05493425e+01, ...,\n",
              "        1.01014810e-01, 1.01014810e-01, 1.07246400e-01],\n",
              "       [1.12478540e+01, 3.37613436e+00, 2.67961234e+00, ...,\n",
              "        0.00000000e+00, 0.00000000e+00, 3.20864676e-03],\n",
              "       [3.75005766e+01, 1.31940683e+01, 8.47280930e+00, ...,\n",
              "        3.98994887e-02, 3.98994887e-02, 9.16359183e-02]])"
            ]
          },
          "metadata": {},
          "execution_count": 24
        }
      ]
    },
    {
      "cell_type": "markdown",
      "metadata": {
        "id": "w2WW_MKlExdI"
      },
      "source": [
        "Since we are interested only in the movies not rated by the user, we will ignore the movies rated by the user by making it zero. "
      ]
    },
    {
      "cell_type": "code",
      "metadata": {
        "colab": {
          "base_uri": "https://localhost:8080/",
          "height": 282
        },
        "id": "4MYZss5bExdI",
        "outputId": "9fb8a9b4-9247-44f1-f6a6-37a2a1cf29fd"
      },
      "source": [
        "user_final_rating = np.multiply(user_predicted_ratings,dummy_train)\n",
        "user_final_rating.head()"
      ],
      "execution_count": 25,
      "outputs": [
        {
          "output_type": "execute_result",
          "data": {
            "text/plain": [
              "movieId     1          2          3         4          5          6       \\\n",
              "userId                                                                     \n",
              "1         9.552130   3.294495   1.470954  0.040189   1.020561   5.201704   \n",
              "2         0.000000  14.925742   7.108167  0.908528   4.979097  14.034879   \n",
              "3        66.141241  22.770011  10.806908  1.206505   6.685770  34.141321   \n",
              "4         0.000000  10.226084   2.658416  0.299828   2.207704  12.222046   \n",
              "5         0.000000  19.867664  17.681491  2.762963  12.826641  32.774931   \n",
              "\n",
              "movieId     7         8         9          10      ...    205967    206272  \\\n",
              "userId                                             ...                       \n",
              "1         1.659968  0.054285  0.349317   5.031108  ...  0.000000  0.003304   \n",
              "2         7.099211  0.785965  1.635084  19.880080  ...  0.024640  0.061503   \n",
              "3         9.858038  0.669255  2.676321  32.180909  ...  0.171026  0.100944   \n",
              "4         3.007363  0.123162  0.998604  12.896807  ...  0.324958  0.172648   \n",
              "5        16.062810  1.801925  3.842096  35.779545  ...  0.073628  0.000000   \n",
              "\n",
              "movieId    206293    206499    206523    206845    206861    207309    208002  \\\n",
              "userId                                                                          \n",
              "1        0.008125  0.000000  0.033861  0.000000  0.000000  0.000000  0.000000   \n",
              "2        0.013683  0.000000  0.054489  0.000000  0.017600  0.113239  0.113239   \n",
              "3        0.124693  0.080384  0.133438  0.317882  0.122161  0.365239  0.365239   \n",
              "4        0.064566  0.009314  0.211999  0.144026  0.232113  0.346767  0.346767   \n",
              "5        0.025125  0.025513  0.044435  0.156123  0.052592  0.060123  0.060123   \n",
              "\n",
              "movieId    208793  \n",
              "userId             \n",
              "1        0.074576  \n",
              "2        0.058355  \n",
              "3        0.234785  \n",
              "4        0.200223  \n",
              "5        0.082602  \n",
              "\n",
              "[5 rows x 12911 columns]"
            ],
            "text/html": "<div>\n<style scoped>\n    .dataframe tbody tr th:only-of-type {\n        vertical-align: middle;\n    }\n\n    .dataframe tbody tr th {\n        vertical-align: top;\n    }\n\n    .dataframe thead th {\n        text-align: right;\n    }\n</style>\n<table border=\"1\" class=\"dataframe\">\n  <thead>\n    <tr style=\"text-align: right;\">\n      <th>movieId</th>\n      <th>1</th>\n      <th>2</th>\n      <th>3</th>\n      <th>4</th>\n      <th>5</th>\n      <th>6</th>\n      <th>7</th>\n      <th>8</th>\n      <th>9</th>\n      <th>10</th>\n      <th>...</th>\n      <th>205967</th>\n      <th>206272</th>\n      <th>206293</th>\n      <th>206499</th>\n      <th>206523</th>\n      <th>206845</th>\n      <th>206861</th>\n      <th>207309</th>\n      <th>208002</th>\n      <th>208793</th>\n    </tr>\n    <tr>\n      <th>userId</th>\n      <th></th>\n      <th></th>\n      <th></th>\n      <th></th>\n      <th></th>\n      <th></th>\n      <th></th>\n      <th></th>\n      <th></th>\n      <th></th>\n      <th></th>\n      <th></th>\n      <th></th>\n      <th></th>\n      <th></th>\n      <th></th>\n      <th></th>\n      <th></th>\n      <th></th>\n      <th></th>\n      <th></th>\n    </tr>\n  </thead>\n  <tbody>\n    <tr>\n      <th>1</th>\n      <td>9.552130</td>\n      <td>3.294495</td>\n      <td>1.470954</td>\n      <td>0.040189</td>\n      <td>1.020561</td>\n      <td>5.201704</td>\n      <td>1.659968</td>\n      <td>0.054285</td>\n      <td>0.349317</td>\n      <td>5.031108</td>\n      <td>...</td>\n      <td>0.000000</td>\n      <td>0.003304</td>\n      <td>0.008125</td>\n      <td>0.000000</td>\n      <td>0.033861</td>\n      <td>0.000000</td>\n      <td>0.000000</td>\n      <td>0.000000</td>\n      <td>0.000000</td>\n      <td>0.074576</td>\n    </tr>\n    <tr>\n      <th>2</th>\n      <td>0.000000</td>\n      <td>14.925742</td>\n      <td>7.108167</td>\n      <td>0.908528</td>\n      <td>4.979097</td>\n      <td>14.034879</td>\n      <td>7.099211</td>\n      <td>0.785965</td>\n      <td>1.635084</td>\n      <td>19.880080</td>\n      <td>...</td>\n      <td>0.024640</td>\n      <td>0.061503</td>\n      <td>0.013683</td>\n      <td>0.000000</td>\n      <td>0.054489</td>\n      <td>0.000000</td>\n      <td>0.017600</td>\n      <td>0.113239</td>\n      <td>0.113239</td>\n      <td>0.058355</td>\n    </tr>\n    <tr>\n      <th>3</th>\n      <td>66.141241</td>\n      <td>22.770011</td>\n      <td>10.806908</td>\n      <td>1.206505</td>\n      <td>6.685770</td>\n      <td>34.141321</td>\n      <td>9.858038</td>\n      <td>0.669255</td>\n      <td>2.676321</td>\n      <td>32.180909</td>\n      <td>...</td>\n      <td>0.171026</td>\n      <td>0.100944</td>\n      <td>0.124693</td>\n      <td>0.080384</td>\n      <td>0.133438</td>\n      <td>0.317882</td>\n      <td>0.122161</td>\n      <td>0.365239</td>\n      <td>0.365239</td>\n      <td>0.234785</td>\n    </tr>\n    <tr>\n      <th>4</th>\n      <td>0.000000</td>\n      <td>10.226084</td>\n      <td>2.658416</td>\n      <td>0.299828</td>\n      <td>2.207704</td>\n      <td>12.222046</td>\n      <td>3.007363</td>\n      <td>0.123162</td>\n      <td>0.998604</td>\n      <td>12.896807</td>\n      <td>...</td>\n      <td>0.324958</td>\n      <td>0.172648</td>\n      <td>0.064566</td>\n      <td>0.009314</td>\n      <td>0.211999</td>\n      <td>0.144026</td>\n      <td>0.232113</td>\n      <td>0.346767</td>\n      <td>0.346767</td>\n      <td>0.200223</td>\n    </tr>\n    <tr>\n      <th>5</th>\n      <td>0.000000</td>\n      <td>19.867664</td>\n      <td>17.681491</td>\n      <td>2.762963</td>\n      <td>12.826641</td>\n      <td>32.774931</td>\n      <td>16.062810</td>\n      <td>1.801925</td>\n      <td>3.842096</td>\n      <td>35.779545</td>\n      <td>...</td>\n      <td>0.073628</td>\n      <td>0.000000</td>\n      <td>0.025125</td>\n      <td>0.025513</td>\n      <td>0.044435</td>\n      <td>0.156123</td>\n      <td>0.052592</td>\n      <td>0.060123</td>\n      <td>0.060123</td>\n      <td>0.082602</td>\n    </tr>\n  </tbody>\n</table>\n<p>5 rows × 12911 columns</p>\n</div>"
          },
          "metadata": {},
          "execution_count": 25
        }
      ]
    },
    {
      "cell_type": "markdown",
      "metadata": {
        "id": "7W_Kr8N8ExdJ"
      },
      "source": [
        "### Finding the top 5 recommendation for the *user*"
      ]
    },
    {
      "cell_type": "code",
      "metadata": {
        "id": "WL8Yt7ZRSiev",
        "colab": {
          "base_uri": "https://localhost:8080/"
        },
        "outputId": "25bd2ac2-8cfc-4b3a-fa44-3ad0980e42f1"
      },
      "source": [
        "# Take the user ID as input.\n",
        "user_input = int(input(\"Enter your user name\"))\n",
        "print(user_input)"
      ],
      "execution_count": 36,
      "outputs": [
        {
          "output_type": "stream",
          "name": "stdout",
          "text": [
            "1\n"
          ]
        }
      ]
    },
    {
      "cell_type": "code",
      "metadata": {
        "colab": {
          "base_uri": "https://localhost:8080/",
          "height": 343
        },
        "id": "PzZygPXjuN-a",
        "outputId": "afd85e22-086b-4c23-8fe0-73a1499a28c5"
      },
      "source": [
        "user_final_rating.head(7)"
      ],
      "execution_count": 37,
      "outputs": [
        {
          "output_type": "execute_result",
          "data": {
            "text/plain": [
              "movieId     1          2          3         4          5          6       \\\n",
              "userId                                                                     \n",
              "1         9.552130   3.294495   1.470954  0.040189   1.020561   5.201704   \n",
              "2         0.000000  14.925742   7.108167  0.908528   4.979097  14.034879   \n",
              "3        66.141241  22.770011  10.806908  1.206505   6.685770  34.141321   \n",
              "4         0.000000  10.226084   2.658416  0.299828   2.207704  12.222046   \n",
              "5         0.000000  19.867664  17.681491  2.762963  12.826641  32.774931   \n",
              "6        54.596352  18.590832  10.839627  1.625053   6.980606  19.860430   \n",
              "7        38.539643  21.516050   6.704593  2.044780   5.817238  16.263696   \n",
              "\n",
              "movieId     7         8         9          10      ...    205967    206272  \\\n",
              "userId                                             ...                       \n",
              "1         1.659968  0.054285  0.349317   5.031108  ...  0.000000  0.003304   \n",
              "2         7.099211  0.785965  1.635084  19.880080  ...  0.024640  0.061503   \n",
              "3         9.858038  0.669255  2.676321  32.180909  ...  0.171026  0.100944   \n",
              "4         3.007363  0.123162  0.998604  12.896807  ...  0.324958  0.172648   \n",
              "5        16.062810  1.801925  3.842096  35.779545  ...  0.073628  0.000000   \n",
              "6         9.067216  0.607714  2.267193  22.297943  ...  0.100707  0.004889   \n",
              "7        10.569066  2.010323  1.381648   0.000000  ...  0.187936  0.187699   \n",
              "\n",
              "movieId    206293    206499    206523    206845    206861    207309    208002  \\\n",
              "userId                                                                          \n",
              "1        0.008125  0.000000  0.033861  0.000000  0.000000  0.000000  0.000000   \n",
              "2        0.013683  0.000000  0.054489  0.000000  0.017600  0.113239  0.113239   \n",
              "3        0.124693  0.080384  0.133438  0.317882  0.122161  0.365239  0.365239   \n",
              "4        0.064566  0.009314  0.211999  0.144026  0.232113  0.346767  0.346767   \n",
              "5        0.025125  0.025513  0.044435  0.156123  0.052592  0.060123  0.060123   \n",
              "6        0.009237  0.082974  0.033177  0.139444  0.071933  0.122900  0.122900   \n",
              "7        0.015714  0.031614  0.000000  0.007392  0.134240  0.000000  0.000000   \n",
              "\n",
              "movieId    208793  \n",
              "userId             \n",
              "1        0.074576  \n",
              "2        0.058355  \n",
              "3        0.234785  \n",
              "4        0.200223  \n",
              "5        0.082602  \n",
              "6        0.091053  \n",
              "7        0.042459  \n",
              "\n",
              "[7 rows x 12911 columns]"
            ],
            "text/html": "<div>\n<style scoped>\n    .dataframe tbody tr th:only-of-type {\n        vertical-align: middle;\n    }\n\n    .dataframe tbody tr th {\n        vertical-align: top;\n    }\n\n    .dataframe thead th {\n        text-align: right;\n    }\n</style>\n<table border=\"1\" class=\"dataframe\">\n  <thead>\n    <tr style=\"text-align: right;\">\n      <th>movieId</th>\n      <th>1</th>\n      <th>2</th>\n      <th>3</th>\n      <th>4</th>\n      <th>5</th>\n      <th>6</th>\n      <th>7</th>\n      <th>8</th>\n      <th>9</th>\n      <th>10</th>\n      <th>...</th>\n      <th>205967</th>\n      <th>206272</th>\n      <th>206293</th>\n      <th>206499</th>\n      <th>206523</th>\n      <th>206845</th>\n      <th>206861</th>\n      <th>207309</th>\n      <th>208002</th>\n      <th>208793</th>\n    </tr>\n    <tr>\n      <th>userId</th>\n      <th></th>\n      <th></th>\n      <th></th>\n      <th></th>\n      <th></th>\n      <th></th>\n      <th></th>\n      <th></th>\n      <th></th>\n      <th></th>\n      <th></th>\n      <th></th>\n      <th></th>\n      <th></th>\n      <th></th>\n      <th></th>\n      <th></th>\n      <th></th>\n      <th></th>\n      <th></th>\n      <th></th>\n    </tr>\n  </thead>\n  <tbody>\n    <tr>\n      <th>1</th>\n      <td>9.552130</td>\n      <td>3.294495</td>\n      <td>1.470954</td>\n      <td>0.040189</td>\n      <td>1.020561</td>\n      <td>5.201704</td>\n      <td>1.659968</td>\n      <td>0.054285</td>\n      <td>0.349317</td>\n      <td>5.031108</td>\n      <td>...</td>\n      <td>0.000000</td>\n      <td>0.003304</td>\n      <td>0.008125</td>\n      <td>0.000000</td>\n      <td>0.033861</td>\n      <td>0.000000</td>\n      <td>0.000000</td>\n      <td>0.000000</td>\n      <td>0.000000</td>\n      <td>0.074576</td>\n    </tr>\n    <tr>\n      <th>2</th>\n      <td>0.000000</td>\n      <td>14.925742</td>\n      <td>7.108167</td>\n      <td>0.908528</td>\n      <td>4.979097</td>\n      <td>14.034879</td>\n      <td>7.099211</td>\n      <td>0.785965</td>\n      <td>1.635084</td>\n      <td>19.880080</td>\n      <td>...</td>\n      <td>0.024640</td>\n      <td>0.061503</td>\n      <td>0.013683</td>\n      <td>0.000000</td>\n      <td>0.054489</td>\n      <td>0.000000</td>\n      <td>0.017600</td>\n      <td>0.113239</td>\n      <td>0.113239</td>\n      <td>0.058355</td>\n    </tr>\n    <tr>\n      <th>3</th>\n      <td>66.141241</td>\n      <td>22.770011</td>\n      <td>10.806908</td>\n      <td>1.206505</td>\n      <td>6.685770</td>\n      <td>34.141321</td>\n      <td>9.858038</td>\n      <td>0.669255</td>\n      <td>2.676321</td>\n      <td>32.180909</td>\n      <td>...</td>\n      <td>0.171026</td>\n      <td>0.100944</td>\n      <td>0.124693</td>\n      <td>0.080384</td>\n      <td>0.133438</td>\n      <td>0.317882</td>\n      <td>0.122161</td>\n      <td>0.365239</td>\n      <td>0.365239</td>\n      <td>0.234785</td>\n    </tr>\n    <tr>\n      <th>4</th>\n      <td>0.000000</td>\n      <td>10.226084</td>\n      <td>2.658416</td>\n      <td>0.299828</td>\n      <td>2.207704</td>\n      <td>12.222046</td>\n      <td>3.007363</td>\n      <td>0.123162</td>\n      <td>0.998604</td>\n      <td>12.896807</td>\n      <td>...</td>\n      <td>0.324958</td>\n      <td>0.172648</td>\n      <td>0.064566</td>\n      <td>0.009314</td>\n      <td>0.211999</td>\n      <td>0.144026</td>\n      <td>0.232113</td>\n      <td>0.346767</td>\n      <td>0.346767</td>\n      <td>0.200223</td>\n    </tr>\n    <tr>\n      <th>5</th>\n      <td>0.000000</td>\n      <td>19.867664</td>\n      <td>17.681491</td>\n      <td>2.762963</td>\n      <td>12.826641</td>\n      <td>32.774931</td>\n      <td>16.062810</td>\n      <td>1.801925</td>\n      <td>3.842096</td>\n      <td>35.779545</td>\n      <td>...</td>\n      <td>0.073628</td>\n      <td>0.000000</td>\n      <td>0.025125</td>\n      <td>0.025513</td>\n      <td>0.044435</td>\n      <td>0.156123</td>\n      <td>0.052592</td>\n      <td>0.060123</td>\n      <td>0.060123</td>\n      <td>0.082602</td>\n    </tr>\n    <tr>\n      <th>6</th>\n      <td>54.596352</td>\n      <td>18.590832</td>\n      <td>10.839627</td>\n      <td>1.625053</td>\n      <td>6.980606</td>\n      <td>19.860430</td>\n      <td>9.067216</td>\n      <td>0.607714</td>\n      <td>2.267193</td>\n      <td>22.297943</td>\n      <td>...</td>\n      <td>0.100707</td>\n      <td>0.004889</td>\n      <td>0.009237</td>\n      <td>0.082974</td>\n      <td>0.033177</td>\n      <td>0.139444</td>\n      <td>0.071933</td>\n      <td>0.122900</td>\n      <td>0.122900</td>\n      <td>0.091053</td>\n    </tr>\n    <tr>\n      <th>7</th>\n      <td>38.539643</td>\n      <td>21.516050</td>\n      <td>6.704593</td>\n      <td>2.044780</td>\n      <td>5.817238</td>\n      <td>16.263696</td>\n      <td>10.569066</td>\n      <td>2.010323</td>\n      <td>1.381648</td>\n      <td>0.000000</td>\n      <td>...</td>\n      <td>0.187936</td>\n      <td>0.187699</td>\n      <td>0.015714</td>\n      <td>0.031614</td>\n      <td>0.000000</td>\n      <td>0.007392</td>\n      <td>0.134240</td>\n      <td>0.000000</td>\n      <td>0.000000</td>\n      <td>0.042459</td>\n    </tr>\n  </tbody>\n</table>\n<p>7 rows × 12911 columns</p>\n</div>"
          },
          "metadata": {},
          "execution_count": 37
        }
      ]
    },
    {
      "cell_type": "code",
      "metadata": {
        "colab": {
          "base_uri": "https://localhost:8080/"
        },
        "id": "B9KjLfI9ExdJ",
        "outputId": "0436ac33-8f5e-492a-f448-d4ef733f9ce1"
      },
      "source": [
        "d = user_final_rating.loc[user_input].sort_values(ascending=False)[0:5]\n",
        "d"
      ],
      "execution_count": 38,
      "outputs": [
        {
          "output_type": "execute_result",
          "data": {
            "text/plain": [
              "movieId\n",
              "296     21.108130\n",
              "2571    19.782259\n",
              "318     19.307398\n",
              "2959    18.667860\n",
              "593     18.643623\n",
              "Name: 1, dtype: float64"
            ]
          },
          "metadata": {},
          "execution_count": 38
        }
      ]
    },
    {
      "cell_type": "code",
      "metadata": {
        "id": "q5vbgzTRFe_M",
        "colab": {
          "base_uri": "https://localhost:8080/",
          "height": 202
        },
        "outputId": "4709ffa5-d146-4e7c-86b1-067e0574f3d2"
      },
      "source": [
        "#Mapping with Movie Title / Genres \n",
        "movie_mapping = pd.read_csv('https://raw.githubusercontent.com/antrikshsaxena/NLPCapstone/main/movies.csv')\n",
        "movie_mapping.head()"
      ],
      "execution_count": 39,
      "outputs": [
        {
          "output_type": "execute_result",
          "data": {
            "text/plain": [
              "   movieId                               title  \\\n",
              "0        1                    Toy Story (1995)   \n",
              "1        2                      Jumanji (1995)   \n",
              "2        3             Grumpier Old Men (1995)   \n",
              "3        4            Waiting to Exhale (1995)   \n",
              "4        5  Father of the Bride Part II (1995)   \n",
              "\n",
              "                                        genres  \n",
              "0  Adventure|Animation|Children|Comedy|Fantasy  \n",
              "1                   Adventure|Children|Fantasy  \n",
              "2                               Comedy|Romance  \n",
              "3                         Comedy|Drama|Romance  \n",
              "4                                       Comedy  "
            ],
            "text/html": "<div>\n<style scoped>\n    .dataframe tbody tr th:only-of-type {\n        vertical-align: middle;\n    }\n\n    .dataframe tbody tr th {\n        vertical-align: top;\n    }\n\n    .dataframe thead th {\n        text-align: right;\n    }\n</style>\n<table border=\"1\" class=\"dataframe\">\n  <thead>\n    <tr style=\"text-align: right;\">\n      <th></th>\n      <th>movieId</th>\n      <th>title</th>\n      <th>genres</th>\n    </tr>\n  </thead>\n  <tbody>\n    <tr>\n      <th>0</th>\n      <td>1</td>\n      <td>Toy Story (1995)</td>\n      <td>Adventure|Animation|Children|Comedy|Fantasy</td>\n    </tr>\n    <tr>\n      <th>1</th>\n      <td>2</td>\n      <td>Jumanji (1995)</td>\n      <td>Adventure|Children|Fantasy</td>\n    </tr>\n    <tr>\n      <th>2</th>\n      <td>3</td>\n      <td>Grumpier Old Men (1995)</td>\n      <td>Comedy|Romance</td>\n    </tr>\n    <tr>\n      <th>3</th>\n      <td>4</td>\n      <td>Waiting to Exhale (1995)</td>\n      <td>Comedy|Drama|Romance</td>\n    </tr>\n    <tr>\n      <th>4</th>\n      <td>5</td>\n      <td>Father of the Bride Part II (1995)</td>\n      <td>Comedy</td>\n    </tr>\n  </tbody>\n</table>\n</div>"
          },
          "metadata": {},
          "execution_count": 39
        }
      ]
    },
    {
      "cell_type": "code",
      "metadata": {
        "colab": {
          "base_uri": "https://localhost:8080/",
          "height": 202
        },
        "id": "WoyNBm8FwXYx",
        "outputId": "bbc5910b-5756-407c-fb01-f6111722e2d0"
      },
      "source": [
        "d = pd.merge(d,movie_mapping,left_on='movieId',right_on='movieId', how = 'left')\n",
        "d.head()"
      ],
      "execution_count": 40,
      "outputs": [
        {
          "output_type": "execute_result",
          "data": {
            "text/plain": [
              "   movieId          1                             title  \\\n",
              "0      296  21.108130               Pulp Fiction (1994)   \n",
              "1     2571  19.782259                Matrix, The (1999)   \n",
              "2      318  19.307398  Shawshank Redemption, The (1994)   \n",
              "3     2959  18.667860                 Fight Club (1999)   \n",
              "4      593  18.643623  Silence of the Lambs, The (1991)   \n",
              "\n",
              "                        genres  \n",
              "0  Comedy|Crime|Drama|Thriller  \n",
              "1       Action|Sci-Fi|Thriller  \n",
              "2                  Crime|Drama  \n",
              "3  Action|Crime|Drama|Thriller  \n",
              "4        Crime|Horror|Thriller  "
            ],
            "text/html": "<div>\n<style scoped>\n    .dataframe tbody tr th:only-of-type {\n        vertical-align: middle;\n    }\n\n    .dataframe tbody tr th {\n        vertical-align: top;\n    }\n\n    .dataframe thead th {\n        text-align: right;\n    }\n</style>\n<table border=\"1\" class=\"dataframe\">\n  <thead>\n    <tr style=\"text-align: right;\">\n      <th></th>\n      <th>movieId</th>\n      <th>1</th>\n      <th>title</th>\n      <th>genres</th>\n    </tr>\n  </thead>\n  <tbody>\n    <tr>\n      <th>0</th>\n      <td>296</td>\n      <td>21.108130</td>\n      <td>Pulp Fiction (1994)</td>\n      <td>Comedy|Crime|Drama|Thriller</td>\n    </tr>\n    <tr>\n      <th>1</th>\n      <td>2571</td>\n      <td>19.782259</td>\n      <td>Matrix, The (1999)</td>\n      <td>Action|Sci-Fi|Thriller</td>\n    </tr>\n    <tr>\n      <th>2</th>\n      <td>318</td>\n      <td>19.307398</td>\n      <td>Shawshank Redemption, The (1994)</td>\n      <td>Crime|Drama</td>\n    </tr>\n    <tr>\n      <th>3</th>\n      <td>2959</td>\n      <td>18.667860</td>\n      <td>Fight Club (1999)</td>\n      <td>Action|Crime|Drama|Thriller</td>\n    </tr>\n    <tr>\n      <th>4</th>\n      <td>593</td>\n      <td>18.643623</td>\n      <td>Silence of the Lambs, The (1991)</td>\n      <td>Crime|Horror|Thriller</td>\n    </tr>\n  </tbody>\n</table>\n</div>"
          },
          "metadata": {},
          "execution_count": 40
        }
      ]
    },
    {
      "cell_type": "markdown",
      "metadata": {
        "id": "pV2YmSaHoflL"
      },
      "source": [
        "# Evaluation - User User "
      ]
    },
    {
      "cell_type": "markdown",
      "metadata": {
        "id": "Sv4DnzeboflU"
      },
      "source": [
        "Evaluation will we same as you have seen above for the prediction. The only difference being, you will evaluate for the movie already rated by the user insead of predicting it for the movie not rated by the user. "
      ]
    },
    {
      "cell_type": "code",
      "metadata": {
        "colab": {
          "base_uri": "https://localhost:8080/"
        },
        "id": "jTAMAiCqoflV",
        "outputId": "7e59ac51-d39f-4886-baab-36e2c2068f40"
      },
      "source": [
        "# Find out the common users of test and train dataset.\n",
        "common = test[test.userId.isin(train.userId)]\n",
        "common.shape"
      ],
      "execution_count": 41,
      "outputs": [
        {
          "output_type": "execute_result",
          "data": {
            "text/plain": [
              "(90038, 4)"
            ]
          },
          "metadata": {},
          "execution_count": 41
        }
      ]
    },
    {
      "cell_type": "code",
      "metadata": {
        "colab": {
          "base_uri": "https://localhost:8080/",
          "height": 202
        },
        "id": "sTMqgWYtoflV",
        "outputId": "e6db31e3-3720-4641-8d79-a84a4256be2f"
      },
      "source": [
        "common.head()"
      ],
      "execution_count": 42,
      "outputs": [
        {
          "output_type": "execute_result",
          "data": {
            "text/plain": [
              "        userId  movieId  rating   timestamp\n",
              "29643      226     3156     1.0  1059516139\n",
              "152649    1074     2194     3.0   906133915\n",
              "123175     886     4886     3.5  1168350634\n",
              "23712      185     1101     4.0  1191923488\n",
              "99726      757      908     3.5  1184016903"
            ],
            "text/html": "<div>\n<style scoped>\n    .dataframe tbody tr th:only-of-type {\n        vertical-align: middle;\n    }\n\n    .dataframe tbody tr th {\n        vertical-align: top;\n    }\n\n    .dataframe thead th {\n        text-align: right;\n    }\n</style>\n<table border=\"1\" class=\"dataframe\">\n  <thead>\n    <tr style=\"text-align: right;\">\n      <th></th>\n      <th>userId</th>\n      <th>movieId</th>\n      <th>rating</th>\n      <th>timestamp</th>\n    </tr>\n  </thead>\n  <tbody>\n    <tr>\n      <th>29643</th>\n      <td>226</td>\n      <td>3156</td>\n      <td>1.0</td>\n      <td>1059516139</td>\n    </tr>\n    <tr>\n      <th>152649</th>\n      <td>1074</td>\n      <td>2194</td>\n      <td>3.0</td>\n      <td>906133915</td>\n    </tr>\n    <tr>\n      <th>123175</th>\n      <td>886</td>\n      <td>4886</td>\n      <td>3.5</td>\n      <td>1168350634</td>\n    </tr>\n    <tr>\n      <th>23712</th>\n      <td>185</td>\n      <td>1101</td>\n      <td>4.0</td>\n      <td>1191923488</td>\n    </tr>\n    <tr>\n      <th>99726</th>\n      <td>757</td>\n      <td>908</td>\n      <td>3.5</td>\n      <td>1184016903</td>\n    </tr>\n  </tbody>\n</table>\n</div>"
          },
          "metadata": {},
          "execution_count": 42
        }
      ]
    },
    {
      "cell_type": "code",
      "metadata": {
        "id": "4IFpOTyeoflW"
      },
      "source": [
        "# convert into the user-movie matrix.\n",
        "common_user_based_matrix = common.pivot_table(index='userId', columns='movieId', values='rating')"
      ],
      "execution_count": 43,
      "outputs": []
    },
    {
      "cell_type": "code",
      "metadata": {
        "colab": {
          "base_uri": "https://localhost:8080/",
          "height": 282
        },
        "id": "bBCHJw5WSPEF",
        "outputId": "3b9783c5-c554-4d13-9aa3-712f492476d7"
      },
      "source": [
        "common_user_based_matrix.head()"
      ],
      "execution_count": 44,
      "outputs": [
        {
          "output_type": "execute_result",
          "data": {
            "text/plain": [
              "movieId  1       2       3       4       5       6       7       8       \\\n",
              "userId                                                                    \n",
              "1           NaN     NaN     NaN     NaN     NaN     NaN     NaN     NaN   \n",
              "2           NaN     NaN     NaN     NaN     NaN     NaN     NaN     NaN   \n",
              "3           4.0     NaN     NaN     NaN     NaN     NaN     NaN     NaN   \n",
              "4           NaN     NaN     NaN     NaN     NaN     NaN     NaN     NaN   \n",
              "5           NaN     NaN     NaN     NaN     NaN     NaN     NaN     NaN   \n",
              "\n",
              "movieId  9       10      ...  204704  204780  205054  205106  205156  205383  \\\n",
              "userId                   ...                                                   \n",
              "1           NaN     NaN  ...     NaN     NaN     NaN     NaN     NaN     NaN   \n",
              "2           NaN     NaN  ...     NaN     NaN     NaN     NaN     NaN     NaN   \n",
              "3           NaN     NaN  ...     NaN     NaN     NaN     NaN     NaN     NaN   \n",
              "4           NaN     NaN  ...     NaN     NaN     NaN     NaN     NaN     NaN   \n",
              "5           NaN     NaN  ...     NaN     NaN     NaN     NaN     NaN     NaN   \n",
              "\n",
              "movieId  205499  206499  206805  207309  \n",
              "userId                                   \n",
              "1           NaN     NaN     NaN     NaN  \n",
              "2           NaN     NaN     NaN     NaN  \n",
              "3           NaN     NaN     NaN     NaN  \n",
              "4           NaN     NaN     NaN     NaN  \n",
              "5           NaN     NaN     NaN     NaN  \n",
              "\n",
              "[5 rows x 9529 columns]"
            ],
            "text/html": "<div>\n<style scoped>\n    .dataframe tbody tr th:only-of-type {\n        vertical-align: middle;\n    }\n\n    .dataframe tbody tr th {\n        vertical-align: top;\n    }\n\n    .dataframe thead th {\n        text-align: right;\n    }\n</style>\n<table border=\"1\" class=\"dataframe\">\n  <thead>\n    <tr style=\"text-align: right;\">\n      <th>movieId</th>\n      <th>1</th>\n      <th>2</th>\n      <th>3</th>\n      <th>4</th>\n      <th>5</th>\n      <th>6</th>\n      <th>7</th>\n      <th>8</th>\n      <th>9</th>\n      <th>10</th>\n      <th>...</th>\n      <th>204704</th>\n      <th>204780</th>\n      <th>205054</th>\n      <th>205106</th>\n      <th>205156</th>\n      <th>205383</th>\n      <th>205499</th>\n      <th>206499</th>\n      <th>206805</th>\n      <th>207309</th>\n    </tr>\n    <tr>\n      <th>userId</th>\n      <th></th>\n      <th></th>\n      <th></th>\n      <th></th>\n      <th></th>\n      <th></th>\n      <th></th>\n      <th></th>\n      <th></th>\n      <th></th>\n      <th></th>\n      <th></th>\n      <th></th>\n      <th></th>\n      <th></th>\n      <th></th>\n      <th></th>\n      <th></th>\n      <th></th>\n      <th></th>\n      <th></th>\n    </tr>\n  </thead>\n  <tbody>\n    <tr>\n      <th>1</th>\n      <td>NaN</td>\n      <td>NaN</td>\n      <td>NaN</td>\n      <td>NaN</td>\n      <td>NaN</td>\n      <td>NaN</td>\n      <td>NaN</td>\n      <td>NaN</td>\n      <td>NaN</td>\n      <td>NaN</td>\n      <td>...</td>\n      <td>NaN</td>\n      <td>NaN</td>\n      <td>NaN</td>\n      <td>NaN</td>\n      <td>NaN</td>\n      <td>NaN</td>\n      <td>NaN</td>\n      <td>NaN</td>\n      <td>NaN</td>\n      <td>NaN</td>\n    </tr>\n    <tr>\n      <th>2</th>\n      <td>NaN</td>\n      <td>NaN</td>\n      <td>NaN</td>\n      <td>NaN</td>\n      <td>NaN</td>\n      <td>NaN</td>\n      <td>NaN</td>\n      <td>NaN</td>\n      <td>NaN</td>\n      <td>NaN</td>\n      <td>...</td>\n      <td>NaN</td>\n      <td>NaN</td>\n      <td>NaN</td>\n      <td>NaN</td>\n      <td>NaN</td>\n      <td>NaN</td>\n      <td>NaN</td>\n      <td>NaN</td>\n      <td>NaN</td>\n      <td>NaN</td>\n    </tr>\n    <tr>\n      <th>3</th>\n      <td>4.0</td>\n      <td>NaN</td>\n      <td>NaN</td>\n      <td>NaN</td>\n      <td>NaN</td>\n      <td>NaN</td>\n      <td>NaN</td>\n      <td>NaN</td>\n      <td>NaN</td>\n      <td>NaN</td>\n      <td>...</td>\n      <td>NaN</td>\n      <td>NaN</td>\n      <td>NaN</td>\n      <td>NaN</td>\n      <td>NaN</td>\n      <td>NaN</td>\n      <td>NaN</td>\n      <td>NaN</td>\n      <td>NaN</td>\n      <td>NaN</td>\n    </tr>\n    <tr>\n      <th>4</th>\n      <td>NaN</td>\n      <td>NaN</td>\n      <td>NaN</td>\n      <td>NaN</td>\n      <td>NaN</td>\n      <td>NaN</td>\n      <td>NaN</td>\n      <td>NaN</td>\n      <td>NaN</td>\n      <td>NaN</td>\n      <td>...</td>\n      <td>NaN</td>\n      <td>NaN</td>\n      <td>NaN</td>\n      <td>NaN</td>\n      <td>NaN</td>\n      <td>NaN</td>\n      <td>NaN</td>\n      <td>NaN</td>\n      <td>NaN</td>\n      <td>NaN</td>\n    </tr>\n    <tr>\n      <th>5</th>\n      <td>NaN</td>\n      <td>NaN</td>\n      <td>NaN</td>\n      <td>NaN</td>\n      <td>NaN</td>\n      <td>NaN</td>\n      <td>NaN</td>\n      <td>NaN</td>\n      <td>NaN</td>\n      <td>NaN</td>\n      <td>...</td>\n      <td>NaN</td>\n      <td>NaN</td>\n      <td>NaN</td>\n      <td>NaN</td>\n      <td>NaN</td>\n      <td>NaN</td>\n      <td>NaN</td>\n      <td>NaN</td>\n      <td>NaN</td>\n      <td>NaN</td>\n    </tr>\n  </tbody>\n</table>\n<p>5 rows × 9529 columns</p>\n</div>"
          },
          "metadata": {},
          "execution_count": 44
        }
      ]
    },
    {
      "cell_type": "code",
      "metadata": {
        "id": "SH7i0WFfoflW"
      },
      "source": [
        "# Convert the user_correlation matrix into dataframe.\n",
        "user_correlation_df = pd.DataFrame(user_correlation)"
      ],
      "execution_count": 45,
      "outputs": []
    },
    {
      "cell_type": "code",
      "execution_count": 46,
      "metadata": {},
      "outputs": [
        {
          "output_type": "execute_result",
          "data": {
            "text/plain": [
              "(2071, 2071)"
            ]
          },
          "metadata": {},
          "execution_count": 46
        }
      ],
      "source": [
        "user_correlation_df.shape"
      ]
    },
    {
      "cell_type": "code",
      "metadata": {
        "colab": {
          "base_uri": "https://localhost:8080/",
          "height": 251
        },
        "id": "oN1QnRjKSjSU",
        "outputId": "fcb18c6a-e0be-45cb-972b-1324b04bf2a1"
      },
      "source": [
        "user_correlation_df.head()"
      ],
      "execution_count": 47,
      "outputs": [
        {
          "output_type": "execute_result",
          "data": {
            "text/plain": [
              "       0         1         2         3         4         5         6     \\\n",
              "0  1.000000  0.001899  0.016571  0.000000  0.000000  0.000000  0.039761   \n",
              "1  0.001899  1.000000  0.024391  0.014429  0.009537  0.034863  0.000000   \n",
              "2  0.016571  0.024391  1.000000  0.062999  0.040416  0.009671  0.000000   \n",
              "3  0.000000  0.014429  0.062999  1.000000  0.000000  0.011082  0.000000   \n",
              "4  0.000000  0.009537  0.040416  0.000000  1.000000  0.051212  0.045804   \n",
              "\n",
              "       7         8         9     ...  2061      2062      2063      2064  \\\n",
              "0  0.000000  0.003991  0.000000  ...   0.0  0.000000  0.000829  0.000000   \n",
              "1  0.000000  0.000000  0.003106  ...   0.0  0.051286  0.036513  0.029803   \n",
              "2  0.017017  0.000000  0.036063  ...   0.0  0.061911  0.017470  0.083151   \n",
              "3  0.000000  0.000000  0.027750  ...   0.0  0.013295  0.000000  0.003963   \n",
              "4  0.088584  0.079276  0.133326  ...   0.0  0.033921  0.103921  0.007723   \n",
              "\n",
              "       2065      2066      2067      2068     2069      2070  \n",
              "0  0.053598  0.015322  0.000000  0.020284  0.00000  0.004454  \n",
              "1  0.000000  0.045524  0.010638  0.034615  0.00000  0.000000  \n",
              "2  0.038958  0.060932  0.028651  0.112607  0.00000  0.017203  \n",
              "3  0.000000  0.022046  0.020043  0.045028  0.00000  0.004144  \n",
              "4  0.000000  0.081722  0.106743  0.014523  0.03769  0.009734  \n",
              "\n",
              "[5 rows x 2071 columns]"
            ],
            "text/html": "<div>\n<style scoped>\n    .dataframe tbody tr th:only-of-type {\n        vertical-align: middle;\n    }\n\n    .dataframe tbody tr th {\n        vertical-align: top;\n    }\n\n    .dataframe thead th {\n        text-align: right;\n    }\n</style>\n<table border=\"1\" class=\"dataframe\">\n  <thead>\n    <tr style=\"text-align: right;\">\n      <th></th>\n      <th>0</th>\n      <th>1</th>\n      <th>2</th>\n      <th>3</th>\n      <th>4</th>\n      <th>5</th>\n      <th>6</th>\n      <th>7</th>\n      <th>8</th>\n      <th>9</th>\n      <th>...</th>\n      <th>2061</th>\n      <th>2062</th>\n      <th>2063</th>\n      <th>2064</th>\n      <th>2065</th>\n      <th>2066</th>\n      <th>2067</th>\n      <th>2068</th>\n      <th>2069</th>\n      <th>2070</th>\n    </tr>\n  </thead>\n  <tbody>\n    <tr>\n      <th>0</th>\n      <td>1.000000</td>\n      <td>0.001899</td>\n      <td>0.016571</td>\n      <td>0.000000</td>\n      <td>0.000000</td>\n      <td>0.000000</td>\n      <td>0.039761</td>\n      <td>0.000000</td>\n      <td>0.003991</td>\n      <td>0.000000</td>\n      <td>...</td>\n      <td>0.0</td>\n      <td>0.000000</td>\n      <td>0.000829</td>\n      <td>0.000000</td>\n      <td>0.053598</td>\n      <td>0.015322</td>\n      <td>0.000000</td>\n      <td>0.020284</td>\n      <td>0.00000</td>\n      <td>0.004454</td>\n    </tr>\n    <tr>\n      <th>1</th>\n      <td>0.001899</td>\n      <td>1.000000</td>\n      <td>0.024391</td>\n      <td>0.014429</td>\n      <td>0.009537</td>\n      <td>0.034863</td>\n      <td>0.000000</td>\n      <td>0.000000</td>\n      <td>0.000000</td>\n      <td>0.003106</td>\n      <td>...</td>\n      <td>0.0</td>\n      <td>0.051286</td>\n      <td>0.036513</td>\n      <td>0.029803</td>\n      <td>0.000000</td>\n      <td>0.045524</td>\n      <td>0.010638</td>\n      <td>0.034615</td>\n      <td>0.00000</td>\n      <td>0.000000</td>\n    </tr>\n    <tr>\n      <th>2</th>\n      <td>0.016571</td>\n      <td>0.024391</td>\n      <td>1.000000</td>\n      <td>0.062999</td>\n      <td>0.040416</td>\n      <td>0.009671</td>\n      <td>0.000000</td>\n      <td>0.017017</td>\n      <td>0.000000</td>\n      <td>0.036063</td>\n      <td>...</td>\n      <td>0.0</td>\n      <td>0.061911</td>\n      <td>0.017470</td>\n      <td>0.083151</td>\n      <td>0.038958</td>\n      <td>0.060932</td>\n      <td>0.028651</td>\n      <td>0.112607</td>\n      <td>0.00000</td>\n      <td>0.017203</td>\n    </tr>\n    <tr>\n      <th>3</th>\n      <td>0.000000</td>\n      <td>0.014429</td>\n      <td>0.062999</td>\n      <td>1.000000</td>\n      <td>0.000000</td>\n      <td>0.011082</td>\n      <td>0.000000</td>\n      <td>0.000000</td>\n      <td>0.000000</td>\n      <td>0.027750</td>\n      <td>...</td>\n      <td>0.0</td>\n      <td>0.013295</td>\n      <td>0.000000</td>\n      <td>0.003963</td>\n      <td>0.000000</td>\n      <td>0.022046</td>\n      <td>0.020043</td>\n      <td>0.045028</td>\n      <td>0.00000</td>\n      <td>0.004144</td>\n    </tr>\n    <tr>\n      <th>4</th>\n      <td>0.000000</td>\n      <td>0.009537</td>\n      <td>0.040416</td>\n      <td>0.000000</td>\n      <td>1.000000</td>\n      <td>0.051212</td>\n      <td>0.045804</td>\n      <td>0.088584</td>\n      <td>0.079276</td>\n      <td>0.133326</td>\n      <td>...</td>\n      <td>0.0</td>\n      <td>0.033921</td>\n      <td>0.103921</td>\n      <td>0.007723</td>\n      <td>0.000000</td>\n      <td>0.081722</td>\n      <td>0.106743</td>\n      <td>0.014523</td>\n      <td>0.03769</td>\n      <td>0.009734</td>\n    </tr>\n  </tbody>\n</table>\n<p>5 rows × 2071 columns</p>\n</div>"
          },
          "metadata": {},
          "execution_count": 47
        }
      ]
    },
    {
      "cell_type": "code",
      "metadata": {
        "colab": {
          "base_uri": "https://localhost:8080/",
          "height": 159
        },
        "id": "LWhAv35foflW",
        "outputId": "976d26b5-020c-4478-f76b-bb6585efa800"
      },
      "source": [
        "df_subtracted.head(1)"
      ],
      "execution_count": 48,
      "outputs": [
        {
          "output_type": "execute_result",
          "data": {
            "text/plain": [
              "movieId  1       2       3       4       5       6       7       8       \\\n",
              "userId                                                                    \n",
              "1           NaN     NaN     NaN     NaN     NaN     NaN     NaN     NaN   \n",
              "\n",
              "movieId  9       10      ...  205967  206272  206293  206499  206523  206845  \\\n",
              "userId                   ...                                                   \n",
              "1           NaN     NaN  ...     NaN     NaN     NaN     NaN     NaN     NaN   \n",
              "\n",
              "movieId  206861  207309  208002  208793  \n",
              "userId                                   \n",
              "1           NaN     NaN     NaN     NaN  \n",
              "\n",
              "[1 rows x 12911 columns]"
            ],
            "text/html": "<div>\n<style scoped>\n    .dataframe tbody tr th:only-of-type {\n        vertical-align: middle;\n    }\n\n    .dataframe tbody tr th {\n        vertical-align: top;\n    }\n\n    .dataframe thead th {\n        text-align: right;\n    }\n</style>\n<table border=\"1\" class=\"dataframe\">\n  <thead>\n    <tr style=\"text-align: right;\">\n      <th>movieId</th>\n      <th>1</th>\n      <th>2</th>\n      <th>3</th>\n      <th>4</th>\n      <th>5</th>\n      <th>6</th>\n      <th>7</th>\n      <th>8</th>\n      <th>9</th>\n      <th>10</th>\n      <th>...</th>\n      <th>205967</th>\n      <th>206272</th>\n      <th>206293</th>\n      <th>206499</th>\n      <th>206523</th>\n      <th>206845</th>\n      <th>206861</th>\n      <th>207309</th>\n      <th>208002</th>\n      <th>208793</th>\n    </tr>\n    <tr>\n      <th>userId</th>\n      <th></th>\n      <th></th>\n      <th></th>\n      <th></th>\n      <th></th>\n      <th></th>\n      <th></th>\n      <th></th>\n      <th></th>\n      <th></th>\n      <th></th>\n      <th></th>\n      <th></th>\n      <th></th>\n      <th></th>\n      <th></th>\n      <th></th>\n      <th></th>\n      <th></th>\n      <th></th>\n      <th></th>\n    </tr>\n  </thead>\n  <tbody>\n    <tr>\n      <th>1</th>\n      <td>NaN</td>\n      <td>NaN</td>\n      <td>NaN</td>\n      <td>NaN</td>\n      <td>NaN</td>\n      <td>NaN</td>\n      <td>NaN</td>\n      <td>NaN</td>\n      <td>NaN</td>\n      <td>NaN</td>\n      <td>...</td>\n      <td>NaN</td>\n      <td>NaN</td>\n      <td>NaN</td>\n      <td>NaN</td>\n      <td>NaN</td>\n      <td>NaN</td>\n      <td>NaN</td>\n      <td>NaN</td>\n      <td>NaN</td>\n      <td>NaN</td>\n    </tr>\n  </tbody>\n</table>\n<p>1 rows × 12911 columns</p>\n</div>"
          },
          "metadata": {},
          "execution_count": 48
        }
      ]
    },
    {
      "cell_type": "code",
      "metadata": {
        "id": "kxnmbKupStN7"
      },
      "source": [
        "# df_subtracted.head()"
      ],
      "execution_count": 49,
      "outputs": []
    },
    {
      "cell_type": "code",
      "metadata": {
        "colab": {
          "base_uri": "https://localhost:8080/",
          "height": 282
        },
        "id": "wDVHF9tkoflX",
        "outputId": "c5362644-8cc3-40ee-ef65-11e1c3bf1a3c"
      },
      "source": [
        "user_correlation_df['userId'] = df_subtracted.index\n",
        "\n",
        "user_correlation_df.set_index('userId',inplace=True)\n",
        "user_correlation_df.head()"
      ],
      "execution_count": 50,
      "outputs": [
        {
          "output_type": "execute_result",
          "data": {
            "text/plain": [
              "            0         1         2         3         4         5         6     \\\n",
              "userId                                                                         \n",
              "1       1.000000  0.001899  0.016571  0.000000  0.000000  0.000000  0.039761   \n",
              "2       0.001899  1.000000  0.024391  0.014429  0.009537  0.034863  0.000000   \n",
              "3       0.016571  0.024391  1.000000  0.062999  0.040416  0.009671  0.000000   \n",
              "4       0.000000  0.014429  0.062999  1.000000  0.000000  0.011082  0.000000   \n",
              "5       0.000000  0.009537  0.040416  0.000000  1.000000  0.051212  0.045804   \n",
              "\n",
              "            7         8         9     ...  2061      2062      2063      2064  \\\n",
              "userId                                ...                                       \n",
              "1       0.000000  0.003991  0.000000  ...   0.0  0.000000  0.000829  0.000000   \n",
              "2       0.000000  0.000000  0.003106  ...   0.0  0.051286  0.036513  0.029803   \n",
              "3       0.017017  0.000000  0.036063  ...   0.0  0.061911  0.017470  0.083151   \n",
              "4       0.000000  0.000000  0.027750  ...   0.0  0.013295  0.000000  0.003963   \n",
              "5       0.088584  0.079276  0.133326  ...   0.0  0.033921  0.103921  0.007723   \n",
              "\n",
              "            2065      2066      2067      2068     2069      2070  \n",
              "userId                                                             \n",
              "1       0.053598  0.015322  0.000000  0.020284  0.00000  0.004454  \n",
              "2       0.000000  0.045524  0.010638  0.034615  0.00000  0.000000  \n",
              "3       0.038958  0.060932  0.028651  0.112607  0.00000  0.017203  \n",
              "4       0.000000  0.022046  0.020043  0.045028  0.00000  0.004144  \n",
              "5       0.000000  0.081722  0.106743  0.014523  0.03769  0.009734  \n",
              "\n",
              "[5 rows x 2071 columns]"
            ],
            "text/html": "<div>\n<style scoped>\n    .dataframe tbody tr th:only-of-type {\n        vertical-align: middle;\n    }\n\n    .dataframe tbody tr th {\n        vertical-align: top;\n    }\n\n    .dataframe thead th {\n        text-align: right;\n    }\n</style>\n<table border=\"1\" class=\"dataframe\">\n  <thead>\n    <tr style=\"text-align: right;\">\n      <th></th>\n      <th>0</th>\n      <th>1</th>\n      <th>2</th>\n      <th>3</th>\n      <th>4</th>\n      <th>5</th>\n      <th>6</th>\n      <th>7</th>\n      <th>8</th>\n      <th>9</th>\n      <th>...</th>\n      <th>2061</th>\n      <th>2062</th>\n      <th>2063</th>\n      <th>2064</th>\n      <th>2065</th>\n      <th>2066</th>\n      <th>2067</th>\n      <th>2068</th>\n      <th>2069</th>\n      <th>2070</th>\n    </tr>\n    <tr>\n      <th>userId</th>\n      <th></th>\n      <th></th>\n      <th></th>\n      <th></th>\n      <th></th>\n      <th></th>\n      <th></th>\n      <th></th>\n      <th></th>\n      <th></th>\n      <th></th>\n      <th></th>\n      <th></th>\n      <th></th>\n      <th></th>\n      <th></th>\n      <th></th>\n      <th></th>\n      <th></th>\n      <th></th>\n      <th></th>\n    </tr>\n  </thead>\n  <tbody>\n    <tr>\n      <th>1</th>\n      <td>1.000000</td>\n      <td>0.001899</td>\n      <td>0.016571</td>\n      <td>0.000000</td>\n      <td>0.000000</td>\n      <td>0.000000</td>\n      <td>0.039761</td>\n      <td>0.000000</td>\n      <td>0.003991</td>\n      <td>0.000000</td>\n      <td>...</td>\n      <td>0.0</td>\n      <td>0.000000</td>\n      <td>0.000829</td>\n      <td>0.000000</td>\n      <td>0.053598</td>\n      <td>0.015322</td>\n      <td>0.000000</td>\n      <td>0.020284</td>\n      <td>0.00000</td>\n      <td>0.004454</td>\n    </tr>\n    <tr>\n      <th>2</th>\n      <td>0.001899</td>\n      <td>1.000000</td>\n      <td>0.024391</td>\n      <td>0.014429</td>\n      <td>0.009537</td>\n      <td>0.034863</td>\n      <td>0.000000</td>\n      <td>0.000000</td>\n      <td>0.000000</td>\n      <td>0.003106</td>\n      <td>...</td>\n      <td>0.0</td>\n      <td>0.051286</td>\n      <td>0.036513</td>\n      <td>0.029803</td>\n      <td>0.000000</td>\n      <td>0.045524</td>\n      <td>0.010638</td>\n      <td>0.034615</td>\n      <td>0.00000</td>\n      <td>0.000000</td>\n    </tr>\n    <tr>\n      <th>3</th>\n      <td>0.016571</td>\n      <td>0.024391</td>\n      <td>1.000000</td>\n      <td>0.062999</td>\n      <td>0.040416</td>\n      <td>0.009671</td>\n      <td>0.000000</td>\n      <td>0.017017</td>\n      <td>0.000000</td>\n      <td>0.036063</td>\n      <td>...</td>\n      <td>0.0</td>\n      <td>0.061911</td>\n      <td>0.017470</td>\n      <td>0.083151</td>\n      <td>0.038958</td>\n      <td>0.060932</td>\n      <td>0.028651</td>\n      <td>0.112607</td>\n      <td>0.00000</td>\n      <td>0.017203</td>\n    </tr>\n    <tr>\n      <th>4</th>\n      <td>0.000000</td>\n      <td>0.014429</td>\n      <td>0.062999</td>\n      <td>1.000000</td>\n      <td>0.000000</td>\n      <td>0.011082</td>\n      <td>0.000000</td>\n      <td>0.000000</td>\n      <td>0.000000</td>\n      <td>0.027750</td>\n      <td>...</td>\n      <td>0.0</td>\n      <td>0.013295</td>\n      <td>0.000000</td>\n      <td>0.003963</td>\n      <td>0.000000</td>\n      <td>0.022046</td>\n      <td>0.020043</td>\n      <td>0.045028</td>\n      <td>0.00000</td>\n      <td>0.004144</td>\n    </tr>\n    <tr>\n      <th>5</th>\n      <td>0.000000</td>\n      <td>0.009537</td>\n      <td>0.040416</td>\n      <td>0.000000</td>\n      <td>1.000000</td>\n      <td>0.051212</td>\n      <td>0.045804</td>\n      <td>0.088584</td>\n      <td>0.079276</td>\n      <td>0.133326</td>\n      <td>...</td>\n      <td>0.0</td>\n      <td>0.033921</td>\n      <td>0.103921</td>\n      <td>0.007723</td>\n      <td>0.000000</td>\n      <td>0.081722</td>\n      <td>0.106743</td>\n      <td>0.014523</td>\n      <td>0.03769</td>\n      <td>0.009734</td>\n    </tr>\n  </tbody>\n</table>\n<p>5 rows × 2071 columns</p>\n</div>"
          },
          "metadata": {},
          "execution_count": 50
        }
      ]
    },
    {
      "cell_type": "code",
      "metadata": {
        "colab": {
          "base_uri": "https://localhost:8080/",
          "height": 79
        },
        "id": "K1LIYGngoflX",
        "outputId": "0bc995e8-4a1c-4e9e-dd03-7627bc47baf7"
      },
      "source": [
        "common.head(1)"
      ],
      "execution_count": 51,
      "outputs": [
        {
          "output_type": "execute_result",
          "data": {
            "text/plain": [
              "       userId  movieId  rating   timestamp\n",
              "29643     226     3156     1.0  1059516139"
            ],
            "text/html": "<div>\n<style scoped>\n    .dataframe tbody tr th:only-of-type {\n        vertical-align: middle;\n    }\n\n    .dataframe tbody tr th {\n        vertical-align: top;\n    }\n\n    .dataframe thead th {\n        text-align: right;\n    }\n</style>\n<table border=\"1\" class=\"dataframe\">\n  <thead>\n    <tr style=\"text-align: right;\">\n      <th></th>\n      <th>userId</th>\n      <th>movieId</th>\n      <th>rating</th>\n      <th>timestamp</th>\n    </tr>\n  </thead>\n  <tbody>\n    <tr>\n      <th>29643</th>\n      <td>226</td>\n      <td>3156</td>\n      <td>1.0</td>\n      <td>1059516139</td>\n    </tr>\n  </tbody>\n</table>\n</div>"
          },
          "metadata": {},
          "execution_count": 51
        }
      ]
    },
    {
      "cell_type": "code",
      "metadata": {
        "id": "vbVLc32woflX"
      },
      "source": [
        "list_name = common.userId.tolist()\n",
        "\n",
        "user_correlation_df.columns = df_subtracted.index.tolist()\n",
        "\n",
        "\n",
        "user_correlation_df_1 =  user_correlation_df[user_correlation_df.index.isin(list_name)]"
      ],
      "execution_count": 52,
      "outputs": []
    },
    {
      "cell_type": "code",
      "metadata": {
        "colab": {
          "base_uri": "https://localhost:8080/"
        },
        "id": "Ip3u4ITFoflX",
        "outputId": "1e71b67d-b964-425c-cfb2-42106c0d446e"
      },
      "source": [
        "user_correlation_df_1.shape"
      ],
      "execution_count": 53,
      "outputs": [
        {
          "output_type": "execute_result",
          "data": {
            "text/plain": [
              "(2071, 2071)"
            ]
          },
          "metadata": {},
          "execution_count": 53
        }
      ]
    },
    {
      "cell_type": "code",
      "metadata": {
        "id": "THqWM0btoflX"
      },
      "source": [
        "user_correlation_df_2 = user_correlation_df_1.T[user_correlation_df_1.T.index.isin(list_name)]"
      ],
      "execution_count": 54,
      "outputs": []
    },
    {
      "cell_type": "code",
      "metadata": {
        "id": "sNtBboRooflY"
      },
      "source": [
        "user_correlation_df_3 = user_correlation_df_2.T"
      ],
      "execution_count": 55,
      "outputs": []
    },
    {
      "cell_type": "code",
      "metadata": {
        "colab": {
          "base_uri": "https://localhost:8080/",
          "height": 282
        },
        "id": "dMT2WTq9oflY",
        "outputId": "40c39592-d9c3-48a3-8bd2-c7e1afbdfe7b"
      },
      "source": [
        "user_correlation_df_3.head()"
      ],
      "execution_count": 56,
      "outputs": [
        {
          "output_type": "execute_result",
          "data": {
            "text/plain": [
              "            1         2         3         4         5         6         7     \\\n",
              "userId                                                                         \n",
              "1       1.000000  0.001899  0.016571  0.000000  0.000000  0.000000  0.039761   \n",
              "2       0.001899  1.000000  0.024391  0.014429  0.009537  0.034863  0.000000   \n",
              "3       0.016571  0.024391  1.000000  0.062999  0.040416  0.009671  0.000000   \n",
              "4       0.000000  0.014429  0.062999  1.000000  0.000000  0.011082  0.000000   \n",
              "5       0.000000  0.009537  0.040416  0.000000  1.000000  0.051212  0.045804   \n",
              "\n",
              "            8         9         10    ...  2062      2063      2064      2065  \\\n",
              "userId                                ...                                       \n",
              "1       0.000000  0.003991  0.000000  ...   0.0  0.000000  0.000829  0.000000   \n",
              "2       0.000000  0.000000  0.003106  ...   0.0  0.051286  0.036513  0.029803   \n",
              "3       0.017017  0.000000  0.036063  ...   0.0  0.061911  0.017470  0.083151   \n",
              "4       0.000000  0.000000  0.027750  ...   0.0  0.013295  0.000000  0.003963   \n",
              "5       0.088584  0.079276  0.133326  ...   0.0  0.033921  0.103921  0.007723   \n",
              "\n",
              "            2066      2067      2068      2069     2070      2071  \n",
              "userId                                                             \n",
              "1       0.053598  0.015322  0.000000  0.020284  0.00000  0.004454  \n",
              "2       0.000000  0.045524  0.010638  0.034615  0.00000  0.000000  \n",
              "3       0.038958  0.060932  0.028651  0.112607  0.00000  0.017203  \n",
              "4       0.000000  0.022046  0.020043  0.045028  0.00000  0.004144  \n",
              "5       0.000000  0.081722  0.106743  0.014523  0.03769  0.009734  \n",
              "\n",
              "[5 rows x 2071 columns]"
            ],
            "text/html": "<div>\n<style scoped>\n    .dataframe tbody tr th:only-of-type {\n        vertical-align: middle;\n    }\n\n    .dataframe tbody tr th {\n        vertical-align: top;\n    }\n\n    .dataframe thead th {\n        text-align: right;\n    }\n</style>\n<table border=\"1\" class=\"dataframe\">\n  <thead>\n    <tr style=\"text-align: right;\">\n      <th></th>\n      <th>1</th>\n      <th>2</th>\n      <th>3</th>\n      <th>4</th>\n      <th>5</th>\n      <th>6</th>\n      <th>7</th>\n      <th>8</th>\n      <th>9</th>\n      <th>10</th>\n      <th>...</th>\n      <th>2062</th>\n      <th>2063</th>\n      <th>2064</th>\n      <th>2065</th>\n      <th>2066</th>\n      <th>2067</th>\n      <th>2068</th>\n      <th>2069</th>\n      <th>2070</th>\n      <th>2071</th>\n    </tr>\n    <tr>\n      <th>userId</th>\n      <th></th>\n      <th></th>\n      <th></th>\n      <th></th>\n      <th></th>\n      <th></th>\n      <th></th>\n      <th></th>\n      <th></th>\n      <th></th>\n      <th></th>\n      <th></th>\n      <th></th>\n      <th></th>\n      <th></th>\n      <th></th>\n      <th></th>\n      <th></th>\n      <th></th>\n      <th></th>\n      <th></th>\n    </tr>\n  </thead>\n  <tbody>\n    <tr>\n      <th>1</th>\n      <td>1.000000</td>\n      <td>0.001899</td>\n      <td>0.016571</td>\n      <td>0.000000</td>\n      <td>0.000000</td>\n      <td>0.000000</td>\n      <td>0.039761</td>\n      <td>0.000000</td>\n      <td>0.003991</td>\n      <td>0.000000</td>\n      <td>...</td>\n      <td>0.0</td>\n      <td>0.000000</td>\n      <td>0.000829</td>\n      <td>0.000000</td>\n      <td>0.053598</td>\n      <td>0.015322</td>\n      <td>0.000000</td>\n      <td>0.020284</td>\n      <td>0.00000</td>\n      <td>0.004454</td>\n    </tr>\n    <tr>\n      <th>2</th>\n      <td>0.001899</td>\n      <td>1.000000</td>\n      <td>0.024391</td>\n      <td>0.014429</td>\n      <td>0.009537</td>\n      <td>0.034863</td>\n      <td>0.000000</td>\n      <td>0.000000</td>\n      <td>0.000000</td>\n      <td>0.003106</td>\n      <td>...</td>\n      <td>0.0</td>\n      <td>0.051286</td>\n      <td>0.036513</td>\n      <td>0.029803</td>\n      <td>0.000000</td>\n      <td>0.045524</td>\n      <td>0.010638</td>\n      <td>0.034615</td>\n      <td>0.00000</td>\n      <td>0.000000</td>\n    </tr>\n    <tr>\n      <th>3</th>\n      <td>0.016571</td>\n      <td>0.024391</td>\n      <td>1.000000</td>\n      <td>0.062999</td>\n      <td>0.040416</td>\n      <td>0.009671</td>\n      <td>0.000000</td>\n      <td>0.017017</td>\n      <td>0.000000</td>\n      <td>0.036063</td>\n      <td>...</td>\n      <td>0.0</td>\n      <td>0.061911</td>\n      <td>0.017470</td>\n      <td>0.083151</td>\n      <td>0.038958</td>\n      <td>0.060932</td>\n      <td>0.028651</td>\n      <td>0.112607</td>\n      <td>0.00000</td>\n      <td>0.017203</td>\n    </tr>\n    <tr>\n      <th>4</th>\n      <td>0.000000</td>\n      <td>0.014429</td>\n      <td>0.062999</td>\n      <td>1.000000</td>\n      <td>0.000000</td>\n      <td>0.011082</td>\n      <td>0.000000</td>\n      <td>0.000000</td>\n      <td>0.000000</td>\n      <td>0.027750</td>\n      <td>...</td>\n      <td>0.0</td>\n      <td>0.013295</td>\n      <td>0.000000</td>\n      <td>0.003963</td>\n      <td>0.000000</td>\n      <td>0.022046</td>\n      <td>0.020043</td>\n      <td>0.045028</td>\n      <td>0.00000</td>\n      <td>0.004144</td>\n    </tr>\n    <tr>\n      <th>5</th>\n      <td>0.000000</td>\n      <td>0.009537</td>\n      <td>0.040416</td>\n      <td>0.000000</td>\n      <td>1.000000</td>\n      <td>0.051212</td>\n      <td>0.045804</td>\n      <td>0.088584</td>\n      <td>0.079276</td>\n      <td>0.133326</td>\n      <td>...</td>\n      <td>0.0</td>\n      <td>0.033921</td>\n      <td>0.103921</td>\n      <td>0.007723</td>\n      <td>0.000000</td>\n      <td>0.081722</td>\n      <td>0.106743</td>\n      <td>0.014523</td>\n      <td>0.03769</td>\n      <td>0.009734</td>\n    </tr>\n  </tbody>\n</table>\n<p>5 rows × 2071 columns</p>\n</div>"
          },
          "metadata": {},
          "execution_count": 56
        }
      ]
    },
    {
      "cell_type": "code",
      "metadata": {
        "colab": {
          "base_uri": "https://localhost:8080/"
        },
        "id": "9O2LDR78tiIw",
        "outputId": "103a0f7a-2b58-4dfb-c42d-611deb500e54"
      },
      "source": [
        "user_correlation_df_3.shape"
      ],
      "execution_count": 57,
      "outputs": [
        {
          "output_type": "execute_result",
          "data": {
            "text/plain": [
              "(2071, 2071)"
            ]
          },
          "metadata": {},
          "execution_count": 57
        }
      ]
    },
    {
      "cell_type": "code",
      "metadata": {
        "colab": {
          "base_uri": "https://localhost:8080/"
        },
        "id": "9CD6JjBVoflY",
        "outputId": "60d8f9e1-2195-46d3-9cdc-826d66252db0"
      },
      "source": [
        "user_correlation_df_3[user_correlation_df_3<0]=0\n",
        "\n",
        "common_user_predicted_ratings = np.dot(user_correlation_df_3, common_user_based_matrix.fillna(0))\n",
        "common_user_predicted_ratings"
      ],
      "execution_count": 58,
      "outputs": [
        {
          "output_type": "execute_result",
          "data": {
            "text/plain": [
              "array([[5.10460224e+00, 1.74539764e+00, 6.96831596e-01, ...,\n",
              "        0.00000000e+00, 0.00000000e+00, 0.00000000e+00],\n",
              "       [2.02224987e+01, 6.74419414e+00, 2.26162307e+00, ...,\n",
              "        1.99325288e-01, 0.00000000e+00, 0.00000000e+00],\n",
              "       [3.57707385e+01, 1.15467646e+01, 2.97886475e+00, ...,\n",
              "        4.02202154e-01, 1.42784707e-01, 1.42784707e-01],\n",
              "       ...,\n",
              "       [3.42388737e+01, 1.00466459e+01, 4.12806648e+00, ...,\n",
              "        2.66442361e-01, 3.56811942e-02, 3.56811942e-02],\n",
              "       [3.66282688e+00, 1.23265539e+00, 1.14883522e+00, ...,\n",
              "        0.00000000e+00, 0.00000000e+00, 0.00000000e+00],\n",
              "       [1.83078030e+01, 7.19569850e+00, 2.61970557e+00, ...,\n",
              "        6.05070641e-02, 7.60002285e-02, 7.60002285e-02]])"
            ]
          },
          "metadata": {},
          "execution_count": 58
        }
      ]
    },
    {
      "cell_type": "code",
      "metadata": {
        "id": "Mbe5y3mWoflY"
      },
      "source": [
        "dummy_test = common.copy()\n",
        "\n",
        "dummy_test['rating'] = dummy_test['rating'].apply(lambda x: 1 if x>=1 else 0)\n",
        "\n",
        "dummy_test = dummy_test.pivot_table(index='userId', columns='movieId', values='rating').fillna(0)"
      ],
      "execution_count": 59,
      "outputs": []
    },
    {
      "cell_type": "code",
      "metadata": {
        "colab": {
          "base_uri": "https://localhost:8080/"
        },
        "id": "jguea31yoflY",
        "outputId": "1d39a42c-6bf9-49da-c047-e4cd93826b15"
      },
      "source": [
        "dummy_test.shape"
      ],
      "execution_count": 60,
      "outputs": [
        {
          "output_type": "execute_result",
          "data": {
            "text/plain": [
              "(2071, 9529)"
            ]
          },
          "metadata": {},
          "execution_count": 60
        }
      ]
    },
    {
      "cell_type": "code",
      "metadata": {
        "colab": {
          "base_uri": "https://localhost:8080/",
          "height": 282
        },
        "id": "6A16BbnQG5iA",
        "outputId": "6caa3d07-b5e2-44a5-834d-7fd2a03ab5c6"
      },
      "source": [
        "common_user_based_matrix.head()"
      ],
      "execution_count": 61,
      "outputs": [
        {
          "output_type": "execute_result",
          "data": {
            "text/plain": [
              "movieId  1       2       3       4       5       6       7       8       \\\n",
              "userId                                                                    \n",
              "1           NaN     NaN     NaN     NaN     NaN     NaN     NaN     NaN   \n",
              "2           NaN     NaN     NaN     NaN     NaN     NaN     NaN     NaN   \n",
              "3           4.0     NaN     NaN     NaN     NaN     NaN     NaN     NaN   \n",
              "4           NaN     NaN     NaN     NaN     NaN     NaN     NaN     NaN   \n",
              "5           NaN     NaN     NaN     NaN     NaN     NaN     NaN     NaN   \n",
              "\n",
              "movieId  9       10      ...  204704  204780  205054  205106  205156  205383  \\\n",
              "userId                   ...                                                   \n",
              "1           NaN     NaN  ...     NaN     NaN     NaN     NaN     NaN     NaN   \n",
              "2           NaN     NaN  ...     NaN     NaN     NaN     NaN     NaN     NaN   \n",
              "3           NaN     NaN  ...     NaN     NaN     NaN     NaN     NaN     NaN   \n",
              "4           NaN     NaN  ...     NaN     NaN     NaN     NaN     NaN     NaN   \n",
              "5           NaN     NaN  ...     NaN     NaN     NaN     NaN     NaN     NaN   \n",
              "\n",
              "movieId  205499  206499  206805  207309  \n",
              "userId                                   \n",
              "1           NaN     NaN     NaN     NaN  \n",
              "2           NaN     NaN     NaN     NaN  \n",
              "3           NaN     NaN     NaN     NaN  \n",
              "4           NaN     NaN     NaN     NaN  \n",
              "5           NaN     NaN     NaN     NaN  \n",
              "\n",
              "[5 rows x 9529 columns]"
            ],
            "text/html": "<div>\n<style scoped>\n    .dataframe tbody tr th:only-of-type {\n        vertical-align: middle;\n    }\n\n    .dataframe tbody tr th {\n        vertical-align: top;\n    }\n\n    .dataframe thead th {\n        text-align: right;\n    }\n</style>\n<table border=\"1\" class=\"dataframe\">\n  <thead>\n    <tr style=\"text-align: right;\">\n      <th>movieId</th>\n      <th>1</th>\n      <th>2</th>\n      <th>3</th>\n      <th>4</th>\n      <th>5</th>\n      <th>6</th>\n      <th>7</th>\n      <th>8</th>\n      <th>9</th>\n      <th>10</th>\n      <th>...</th>\n      <th>204704</th>\n      <th>204780</th>\n      <th>205054</th>\n      <th>205106</th>\n      <th>205156</th>\n      <th>205383</th>\n      <th>205499</th>\n      <th>206499</th>\n      <th>206805</th>\n      <th>207309</th>\n    </tr>\n    <tr>\n      <th>userId</th>\n      <th></th>\n      <th></th>\n      <th></th>\n      <th></th>\n      <th></th>\n      <th></th>\n      <th></th>\n      <th></th>\n      <th></th>\n      <th></th>\n      <th></th>\n      <th></th>\n      <th></th>\n      <th></th>\n      <th></th>\n      <th></th>\n      <th></th>\n      <th></th>\n      <th></th>\n      <th></th>\n      <th></th>\n    </tr>\n  </thead>\n  <tbody>\n    <tr>\n      <th>1</th>\n      <td>NaN</td>\n      <td>NaN</td>\n      <td>NaN</td>\n      <td>NaN</td>\n      <td>NaN</td>\n      <td>NaN</td>\n      <td>NaN</td>\n      <td>NaN</td>\n      <td>NaN</td>\n      <td>NaN</td>\n      <td>...</td>\n      <td>NaN</td>\n      <td>NaN</td>\n      <td>NaN</td>\n      <td>NaN</td>\n      <td>NaN</td>\n      <td>NaN</td>\n      <td>NaN</td>\n      <td>NaN</td>\n      <td>NaN</td>\n      <td>NaN</td>\n    </tr>\n    <tr>\n      <th>2</th>\n      <td>NaN</td>\n      <td>NaN</td>\n      <td>NaN</td>\n      <td>NaN</td>\n      <td>NaN</td>\n      <td>NaN</td>\n      <td>NaN</td>\n      <td>NaN</td>\n      <td>NaN</td>\n      <td>NaN</td>\n      <td>...</td>\n      <td>NaN</td>\n      <td>NaN</td>\n      <td>NaN</td>\n      <td>NaN</td>\n      <td>NaN</td>\n      <td>NaN</td>\n      <td>NaN</td>\n      <td>NaN</td>\n      <td>NaN</td>\n      <td>NaN</td>\n    </tr>\n    <tr>\n      <th>3</th>\n      <td>4.0</td>\n      <td>NaN</td>\n      <td>NaN</td>\n      <td>NaN</td>\n      <td>NaN</td>\n      <td>NaN</td>\n      <td>NaN</td>\n      <td>NaN</td>\n      <td>NaN</td>\n      <td>NaN</td>\n      <td>...</td>\n      <td>NaN</td>\n      <td>NaN</td>\n      <td>NaN</td>\n      <td>NaN</td>\n      <td>NaN</td>\n      <td>NaN</td>\n      <td>NaN</td>\n      <td>NaN</td>\n      <td>NaN</td>\n      <td>NaN</td>\n    </tr>\n    <tr>\n      <th>4</th>\n      <td>NaN</td>\n      <td>NaN</td>\n      <td>NaN</td>\n      <td>NaN</td>\n      <td>NaN</td>\n      <td>NaN</td>\n      <td>NaN</td>\n      <td>NaN</td>\n      <td>NaN</td>\n      <td>NaN</td>\n      <td>...</td>\n      <td>NaN</td>\n      <td>NaN</td>\n      <td>NaN</td>\n      <td>NaN</td>\n      <td>NaN</td>\n      <td>NaN</td>\n      <td>NaN</td>\n      <td>NaN</td>\n      <td>NaN</td>\n      <td>NaN</td>\n    </tr>\n    <tr>\n      <th>5</th>\n      <td>NaN</td>\n      <td>NaN</td>\n      <td>NaN</td>\n      <td>NaN</td>\n      <td>NaN</td>\n      <td>NaN</td>\n      <td>NaN</td>\n      <td>NaN</td>\n      <td>NaN</td>\n      <td>NaN</td>\n      <td>...</td>\n      <td>NaN</td>\n      <td>NaN</td>\n      <td>NaN</td>\n      <td>NaN</td>\n      <td>NaN</td>\n      <td>NaN</td>\n      <td>NaN</td>\n      <td>NaN</td>\n      <td>NaN</td>\n      <td>NaN</td>\n    </tr>\n  </tbody>\n</table>\n<p>5 rows × 9529 columns</p>\n</div>"
          },
          "metadata": {},
          "execution_count": 61
        }
      ]
    },
    {
      "cell_type": "code",
      "metadata": {
        "colab": {
          "base_uri": "https://localhost:8080/",
          "height": 282
        },
        "id": "7VxG43ieG16j",
        "outputId": "14bcd343-4c44-4061-edb3-934e7dce4503"
      },
      "source": [
        "dummy_test.head()"
      ],
      "execution_count": 62,
      "outputs": [
        {
          "output_type": "execute_result",
          "data": {
            "text/plain": [
              "movieId  1       2       3       4       5       6       7       8       \\\n",
              "userId                                                                    \n",
              "1           0.0     0.0     0.0     0.0     0.0     0.0     0.0     0.0   \n",
              "2           0.0     0.0     0.0     0.0     0.0     0.0     0.0     0.0   \n",
              "3           1.0     0.0     0.0     0.0     0.0     0.0     0.0     0.0   \n",
              "4           0.0     0.0     0.0     0.0     0.0     0.0     0.0     0.0   \n",
              "5           0.0     0.0     0.0     0.0     0.0     0.0     0.0     0.0   \n",
              "\n",
              "movieId  9       10      ...  204704  204780  205054  205106  205156  205383  \\\n",
              "userId                   ...                                                   \n",
              "1           0.0     0.0  ...     0.0     0.0     0.0     0.0     0.0     0.0   \n",
              "2           0.0     0.0  ...     0.0     0.0     0.0     0.0     0.0     0.0   \n",
              "3           0.0     0.0  ...     0.0     0.0     0.0     0.0     0.0     0.0   \n",
              "4           0.0     0.0  ...     0.0     0.0     0.0     0.0     0.0     0.0   \n",
              "5           0.0     0.0  ...     0.0     0.0     0.0     0.0     0.0     0.0   \n",
              "\n",
              "movieId  205499  206499  206805  207309  \n",
              "userId                                   \n",
              "1           0.0     0.0     0.0     0.0  \n",
              "2           0.0     0.0     0.0     0.0  \n",
              "3           0.0     0.0     0.0     0.0  \n",
              "4           0.0     0.0     0.0     0.0  \n",
              "5           0.0     0.0     0.0     0.0  \n",
              "\n",
              "[5 rows x 9529 columns]"
            ],
            "text/html": "<div>\n<style scoped>\n    .dataframe tbody tr th:only-of-type {\n        vertical-align: middle;\n    }\n\n    .dataframe tbody tr th {\n        vertical-align: top;\n    }\n\n    .dataframe thead th {\n        text-align: right;\n    }\n</style>\n<table border=\"1\" class=\"dataframe\">\n  <thead>\n    <tr style=\"text-align: right;\">\n      <th>movieId</th>\n      <th>1</th>\n      <th>2</th>\n      <th>3</th>\n      <th>4</th>\n      <th>5</th>\n      <th>6</th>\n      <th>7</th>\n      <th>8</th>\n      <th>9</th>\n      <th>10</th>\n      <th>...</th>\n      <th>204704</th>\n      <th>204780</th>\n      <th>205054</th>\n      <th>205106</th>\n      <th>205156</th>\n      <th>205383</th>\n      <th>205499</th>\n      <th>206499</th>\n      <th>206805</th>\n      <th>207309</th>\n    </tr>\n    <tr>\n      <th>userId</th>\n      <th></th>\n      <th></th>\n      <th></th>\n      <th></th>\n      <th></th>\n      <th></th>\n      <th></th>\n      <th></th>\n      <th></th>\n      <th></th>\n      <th></th>\n      <th></th>\n      <th></th>\n      <th></th>\n      <th></th>\n      <th></th>\n      <th></th>\n      <th></th>\n      <th></th>\n      <th></th>\n      <th></th>\n    </tr>\n  </thead>\n  <tbody>\n    <tr>\n      <th>1</th>\n      <td>0.0</td>\n      <td>0.0</td>\n      <td>0.0</td>\n      <td>0.0</td>\n      <td>0.0</td>\n      <td>0.0</td>\n      <td>0.0</td>\n      <td>0.0</td>\n      <td>0.0</td>\n      <td>0.0</td>\n      <td>...</td>\n      <td>0.0</td>\n      <td>0.0</td>\n      <td>0.0</td>\n      <td>0.0</td>\n      <td>0.0</td>\n      <td>0.0</td>\n      <td>0.0</td>\n      <td>0.0</td>\n      <td>0.0</td>\n      <td>0.0</td>\n    </tr>\n    <tr>\n      <th>2</th>\n      <td>0.0</td>\n      <td>0.0</td>\n      <td>0.0</td>\n      <td>0.0</td>\n      <td>0.0</td>\n      <td>0.0</td>\n      <td>0.0</td>\n      <td>0.0</td>\n      <td>0.0</td>\n      <td>0.0</td>\n      <td>...</td>\n      <td>0.0</td>\n      <td>0.0</td>\n      <td>0.0</td>\n      <td>0.0</td>\n      <td>0.0</td>\n      <td>0.0</td>\n      <td>0.0</td>\n      <td>0.0</td>\n      <td>0.0</td>\n      <td>0.0</td>\n    </tr>\n    <tr>\n      <th>3</th>\n      <td>1.0</td>\n      <td>0.0</td>\n      <td>0.0</td>\n      <td>0.0</td>\n      <td>0.0</td>\n      <td>0.0</td>\n      <td>0.0</td>\n      <td>0.0</td>\n      <td>0.0</td>\n      <td>0.0</td>\n      <td>...</td>\n      <td>0.0</td>\n      <td>0.0</td>\n      <td>0.0</td>\n      <td>0.0</td>\n      <td>0.0</td>\n      <td>0.0</td>\n      <td>0.0</td>\n      <td>0.0</td>\n      <td>0.0</td>\n      <td>0.0</td>\n    </tr>\n    <tr>\n      <th>4</th>\n      <td>0.0</td>\n      <td>0.0</td>\n      <td>0.0</td>\n      <td>0.0</td>\n      <td>0.0</td>\n      <td>0.0</td>\n      <td>0.0</td>\n      <td>0.0</td>\n      <td>0.0</td>\n      <td>0.0</td>\n      <td>...</td>\n      <td>0.0</td>\n      <td>0.0</td>\n      <td>0.0</td>\n      <td>0.0</td>\n      <td>0.0</td>\n      <td>0.0</td>\n      <td>0.0</td>\n      <td>0.0</td>\n      <td>0.0</td>\n      <td>0.0</td>\n    </tr>\n    <tr>\n      <th>5</th>\n      <td>0.0</td>\n      <td>0.0</td>\n      <td>0.0</td>\n      <td>0.0</td>\n      <td>0.0</td>\n      <td>0.0</td>\n      <td>0.0</td>\n      <td>0.0</td>\n      <td>0.0</td>\n      <td>0.0</td>\n      <td>...</td>\n      <td>0.0</td>\n      <td>0.0</td>\n      <td>0.0</td>\n      <td>0.0</td>\n      <td>0.0</td>\n      <td>0.0</td>\n      <td>0.0</td>\n      <td>0.0</td>\n      <td>0.0</td>\n      <td>0.0</td>\n    </tr>\n  </tbody>\n</table>\n<p>5 rows × 9529 columns</p>\n</div>"
          },
          "metadata": {},
          "execution_count": 62
        }
      ]
    },
    {
      "cell_type": "code",
      "metadata": {
        "id": "mjBXh_z3oflZ"
      },
      "source": [
        "common_user_predicted_ratings = np.multiply(common_user_predicted_ratings,dummy_test)"
      ],
      "execution_count": 63,
      "outputs": []
    },
    {
      "cell_type": "code",
      "metadata": {
        "colab": {
          "base_uri": "https://localhost:8080/",
          "height": 282
        },
        "id": "h1GndCymoflZ",
        "outputId": "c74a2339-d268-4182-e226-45ae0ae4af6c"
      },
      "source": [
        "common_user_predicted_ratings.head()"
      ],
      "execution_count": 59,
      "outputs": [
        {
          "output_type": "execute_result",
          "data": {
            "text/html": [
              "<div>\n",
              "<style scoped>\n",
              "    .dataframe tbody tr th:only-of-type {\n",
              "        vertical-align: middle;\n",
              "    }\n",
              "\n",
              "    .dataframe tbody tr th {\n",
              "        vertical-align: top;\n",
              "    }\n",
              "\n",
              "    .dataframe thead th {\n",
              "        text-align: right;\n",
              "    }\n",
              "</style>\n",
              "<table border=\"1\" class=\"dataframe\">\n",
              "  <thead>\n",
              "    <tr style=\"text-align: right;\">\n",
              "      <th>movieId</th>\n",
              "      <th>1</th>\n",
              "      <th>2</th>\n",
              "      <th>3</th>\n",
              "      <th>4</th>\n",
              "      <th>5</th>\n",
              "      <th>6</th>\n",
              "      <th>7</th>\n",
              "      <th>8</th>\n",
              "      <th>9</th>\n",
              "      <th>10</th>\n",
              "      <th>11</th>\n",
              "      <th>12</th>\n",
              "      <th>13</th>\n",
              "      <th>14</th>\n",
              "      <th>15</th>\n",
              "      <th>16</th>\n",
              "      <th>17</th>\n",
              "      <th>18</th>\n",
              "      <th>19</th>\n",
              "      <th>20</th>\n",
              "      <th>21</th>\n",
              "      <th>22</th>\n",
              "      <th>23</th>\n",
              "      <th>24</th>\n",
              "      <th>25</th>\n",
              "      <th>26</th>\n",
              "      <th>27</th>\n",
              "      <th>28</th>\n",
              "      <th>29</th>\n",
              "      <th>30</th>\n",
              "      <th>31</th>\n",
              "      <th>32</th>\n",
              "      <th>34</th>\n",
              "      <th>35</th>\n",
              "      <th>36</th>\n",
              "      <th>37</th>\n",
              "      <th>39</th>\n",
              "      <th>40</th>\n",
              "      <th>41</th>\n",
              "      <th>42</th>\n",
              "      <th>...</th>\n",
              "      <th>200614</th>\n",
              "      <th>200618</th>\n",
              "      <th>200768</th>\n",
              "      <th>200818</th>\n",
              "      <th>200938</th>\n",
              "      <th>201242</th>\n",
              "      <th>201436</th>\n",
              "      <th>201586</th>\n",
              "      <th>201588</th>\n",
              "      <th>201646</th>\n",
              "      <th>201749</th>\n",
              "      <th>201773</th>\n",
              "      <th>201811</th>\n",
              "      <th>202103</th>\n",
              "      <th>202263</th>\n",
              "      <th>202429</th>\n",
              "      <th>202439</th>\n",
              "      <th>202495</th>\n",
              "      <th>203048</th>\n",
              "      <th>203208</th>\n",
              "      <th>203222</th>\n",
              "      <th>203411</th>\n",
              "      <th>203519</th>\n",
              "      <th>203649</th>\n",
              "      <th>203751</th>\n",
              "      <th>204352</th>\n",
              "      <th>204580</th>\n",
              "      <th>204692</th>\n",
              "      <th>204698</th>\n",
              "      <th>204702</th>\n",
              "      <th>204704</th>\n",
              "      <th>204780</th>\n",
              "      <th>205054</th>\n",
              "      <th>205106</th>\n",
              "      <th>205156</th>\n",
              "      <th>205383</th>\n",
              "      <th>205499</th>\n",
              "      <th>206499</th>\n",
              "      <th>206805</th>\n",
              "      <th>207309</th>\n",
              "    </tr>\n",
              "    <tr>\n",
              "      <th>userId</th>\n",
              "      <th></th>\n",
              "      <th></th>\n",
              "      <th></th>\n",
              "      <th></th>\n",
              "      <th></th>\n",
              "      <th></th>\n",
              "      <th></th>\n",
              "      <th></th>\n",
              "      <th></th>\n",
              "      <th></th>\n",
              "      <th></th>\n",
              "      <th></th>\n",
              "      <th></th>\n",
              "      <th></th>\n",
              "      <th></th>\n",
              "      <th></th>\n",
              "      <th></th>\n",
              "      <th></th>\n",
              "      <th></th>\n",
              "      <th></th>\n",
              "      <th></th>\n",
              "      <th></th>\n",
              "      <th></th>\n",
              "      <th></th>\n",
              "      <th></th>\n",
              "      <th></th>\n",
              "      <th></th>\n",
              "      <th></th>\n",
              "      <th></th>\n",
              "      <th></th>\n",
              "      <th></th>\n",
              "      <th></th>\n",
              "      <th></th>\n",
              "      <th></th>\n",
              "      <th></th>\n",
              "      <th></th>\n",
              "      <th></th>\n",
              "      <th></th>\n",
              "      <th></th>\n",
              "      <th></th>\n",
              "      <th></th>\n",
              "      <th></th>\n",
              "      <th></th>\n",
              "      <th></th>\n",
              "      <th></th>\n",
              "      <th></th>\n",
              "      <th></th>\n",
              "      <th></th>\n",
              "      <th></th>\n",
              "      <th></th>\n",
              "      <th></th>\n",
              "      <th></th>\n",
              "      <th></th>\n",
              "      <th></th>\n",
              "      <th></th>\n",
              "      <th></th>\n",
              "      <th></th>\n",
              "      <th></th>\n",
              "      <th></th>\n",
              "      <th></th>\n",
              "      <th></th>\n",
              "      <th></th>\n",
              "      <th></th>\n",
              "      <th></th>\n",
              "      <th></th>\n",
              "      <th></th>\n",
              "      <th></th>\n",
              "      <th></th>\n",
              "      <th></th>\n",
              "      <th></th>\n",
              "      <th></th>\n",
              "      <th></th>\n",
              "      <th></th>\n",
              "      <th></th>\n",
              "      <th></th>\n",
              "      <th></th>\n",
              "      <th></th>\n",
              "      <th></th>\n",
              "      <th></th>\n",
              "      <th></th>\n",
              "      <th></th>\n",
              "    </tr>\n",
              "  </thead>\n",
              "  <tbody>\n",
              "    <tr>\n",
              "      <th>1</th>\n",
              "      <td>0.000000</td>\n",
              "      <td>0.0</td>\n",
              "      <td>0.0</td>\n",
              "      <td>0.0</td>\n",
              "      <td>0.0</td>\n",
              "      <td>0.0</td>\n",
              "      <td>0.0</td>\n",
              "      <td>0.0</td>\n",
              "      <td>0.0</td>\n",
              "      <td>0.0</td>\n",
              "      <td>0.0</td>\n",
              "      <td>0.0</td>\n",
              "      <td>0.0</td>\n",
              "      <td>0.0</td>\n",
              "      <td>0.0</td>\n",
              "      <td>0.0</td>\n",
              "      <td>0.0</td>\n",
              "      <td>0.0</td>\n",
              "      <td>0.0</td>\n",
              "      <td>0.0</td>\n",
              "      <td>0.0</td>\n",
              "      <td>0.0</td>\n",
              "      <td>0.0</td>\n",
              "      <td>0.0</td>\n",
              "      <td>0.0</td>\n",
              "      <td>0.0</td>\n",
              "      <td>0.0</td>\n",
              "      <td>0.0</td>\n",
              "      <td>0.00000</td>\n",
              "      <td>0.0</td>\n",
              "      <td>0.0</td>\n",
              "      <td>0.000000</td>\n",
              "      <td>0.0</td>\n",
              "      <td>0.0</td>\n",
              "      <td>0.0</td>\n",
              "      <td>0.0</td>\n",
              "      <td>0.0</td>\n",
              "      <td>0.0</td>\n",
              "      <td>0.0</td>\n",
              "      <td>0.0</td>\n",
              "      <td>...</td>\n",
              "      <td>0.0</td>\n",
              "      <td>0.0</td>\n",
              "      <td>0.0</td>\n",
              "      <td>0.0</td>\n",
              "      <td>0.0</td>\n",
              "      <td>0.0</td>\n",
              "      <td>0.0</td>\n",
              "      <td>0.0</td>\n",
              "      <td>0.0</td>\n",
              "      <td>0.0</td>\n",
              "      <td>0.0</td>\n",
              "      <td>0.0</td>\n",
              "      <td>0.0</td>\n",
              "      <td>0.0</td>\n",
              "      <td>0.0</td>\n",
              "      <td>0.0</td>\n",
              "      <td>0.0</td>\n",
              "      <td>0.0</td>\n",
              "      <td>0.0</td>\n",
              "      <td>0.0</td>\n",
              "      <td>0.0</td>\n",
              "      <td>0.0</td>\n",
              "      <td>0.0</td>\n",
              "      <td>0.0</td>\n",
              "      <td>0.0</td>\n",
              "      <td>0.0</td>\n",
              "      <td>0.0</td>\n",
              "      <td>0.0</td>\n",
              "      <td>0.0</td>\n",
              "      <td>0.0</td>\n",
              "      <td>0.0</td>\n",
              "      <td>0.0</td>\n",
              "      <td>0.0</td>\n",
              "      <td>0.0</td>\n",
              "      <td>0.0</td>\n",
              "      <td>0.0</td>\n",
              "      <td>0.0</td>\n",
              "      <td>0.0</td>\n",
              "      <td>0.0</td>\n",
              "      <td>0.0</td>\n",
              "    </tr>\n",
              "    <tr>\n",
              "      <th>2</th>\n",
              "      <td>0.000000</td>\n",
              "      <td>0.0</td>\n",
              "      <td>0.0</td>\n",
              "      <td>0.0</td>\n",
              "      <td>0.0</td>\n",
              "      <td>0.0</td>\n",
              "      <td>0.0</td>\n",
              "      <td>0.0</td>\n",
              "      <td>0.0</td>\n",
              "      <td>0.0</td>\n",
              "      <td>0.0</td>\n",
              "      <td>0.0</td>\n",
              "      <td>0.0</td>\n",
              "      <td>0.0</td>\n",
              "      <td>0.0</td>\n",
              "      <td>0.0</td>\n",
              "      <td>0.0</td>\n",
              "      <td>0.0</td>\n",
              "      <td>0.0</td>\n",
              "      <td>0.0</td>\n",
              "      <td>0.0</td>\n",
              "      <td>0.0</td>\n",
              "      <td>0.0</td>\n",
              "      <td>0.0</td>\n",
              "      <td>0.0</td>\n",
              "      <td>0.0</td>\n",
              "      <td>0.0</td>\n",
              "      <td>0.0</td>\n",
              "      <td>0.00000</td>\n",
              "      <td>0.0</td>\n",
              "      <td>0.0</td>\n",
              "      <td>0.000000</td>\n",
              "      <td>0.0</td>\n",
              "      <td>0.0</td>\n",
              "      <td>0.0</td>\n",
              "      <td>0.0</td>\n",
              "      <td>0.0</td>\n",
              "      <td>0.0</td>\n",
              "      <td>0.0</td>\n",
              "      <td>0.0</td>\n",
              "      <td>...</td>\n",
              "      <td>0.0</td>\n",
              "      <td>0.0</td>\n",
              "      <td>0.0</td>\n",
              "      <td>0.0</td>\n",
              "      <td>0.0</td>\n",
              "      <td>0.0</td>\n",
              "      <td>0.0</td>\n",
              "      <td>0.0</td>\n",
              "      <td>0.0</td>\n",
              "      <td>0.0</td>\n",
              "      <td>0.0</td>\n",
              "      <td>0.0</td>\n",
              "      <td>0.0</td>\n",
              "      <td>0.0</td>\n",
              "      <td>0.0</td>\n",
              "      <td>0.0</td>\n",
              "      <td>0.0</td>\n",
              "      <td>0.0</td>\n",
              "      <td>0.0</td>\n",
              "      <td>0.0</td>\n",
              "      <td>0.0</td>\n",
              "      <td>0.0</td>\n",
              "      <td>0.0</td>\n",
              "      <td>0.0</td>\n",
              "      <td>0.0</td>\n",
              "      <td>0.0</td>\n",
              "      <td>0.0</td>\n",
              "      <td>0.0</td>\n",
              "      <td>0.0</td>\n",
              "      <td>0.0</td>\n",
              "      <td>0.0</td>\n",
              "      <td>0.0</td>\n",
              "      <td>0.0</td>\n",
              "      <td>0.0</td>\n",
              "      <td>0.0</td>\n",
              "      <td>0.0</td>\n",
              "      <td>0.0</td>\n",
              "      <td>0.0</td>\n",
              "      <td>0.0</td>\n",
              "      <td>0.0</td>\n",
              "    </tr>\n",
              "    <tr>\n",
              "      <th>3</th>\n",
              "      <td>35.770738</td>\n",
              "      <td>0.0</td>\n",
              "      <td>0.0</td>\n",
              "      <td>0.0</td>\n",
              "      <td>0.0</td>\n",
              "      <td>0.0</td>\n",
              "      <td>0.0</td>\n",
              "      <td>0.0</td>\n",
              "      <td>0.0</td>\n",
              "      <td>0.0</td>\n",
              "      <td>0.0</td>\n",
              "      <td>0.0</td>\n",
              "      <td>0.0</td>\n",
              "      <td>0.0</td>\n",
              "      <td>0.0</td>\n",
              "      <td>0.0</td>\n",
              "      <td>0.0</td>\n",
              "      <td>0.0</td>\n",
              "      <td>0.0</td>\n",
              "      <td>0.0</td>\n",
              "      <td>0.0</td>\n",
              "      <td>0.0</td>\n",
              "      <td>0.0</td>\n",
              "      <td>0.0</td>\n",
              "      <td>0.0</td>\n",
              "      <td>0.0</td>\n",
              "      <td>0.0</td>\n",
              "      <td>0.0</td>\n",
              "      <td>12.20301</td>\n",
              "      <td>0.0</td>\n",
              "      <td>0.0</td>\n",
              "      <td>0.000000</td>\n",
              "      <td>0.0</td>\n",
              "      <td>0.0</td>\n",
              "      <td>0.0</td>\n",
              "      <td>0.0</td>\n",
              "      <td>0.0</td>\n",
              "      <td>0.0</td>\n",
              "      <td>0.0</td>\n",
              "      <td>0.0</td>\n",
              "      <td>...</td>\n",
              "      <td>0.0</td>\n",
              "      <td>0.0</td>\n",
              "      <td>0.0</td>\n",
              "      <td>0.0</td>\n",
              "      <td>0.0</td>\n",
              "      <td>0.0</td>\n",
              "      <td>0.0</td>\n",
              "      <td>0.0</td>\n",
              "      <td>0.0</td>\n",
              "      <td>0.0</td>\n",
              "      <td>0.0</td>\n",
              "      <td>0.0</td>\n",
              "      <td>0.0</td>\n",
              "      <td>0.0</td>\n",
              "      <td>0.0</td>\n",
              "      <td>0.0</td>\n",
              "      <td>0.0</td>\n",
              "      <td>0.0</td>\n",
              "      <td>0.0</td>\n",
              "      <td>0.0</td>\n",
              "      <td>0.0</td>\n",
              "      <td>0.0</td>\n",
              "      <td>0.0</td>\n",
              "      <td>0.0</td>\n",
              "      <td>0.0</td>\n",
              "      <td>0.0</td>\n",
              "      <td>0.0</td>\n",
              "      <td>0.0</td>\n",
              "      <td>0.0</td>\n",
              "      <td>0.0</td>\n",
              "      <td>0.0</td>\n",
              "      <td>0.0</td>\n",
              "      <td>0.0</td>\n",
              "      <td>0.0</td>\n",
              "      <td>0.0</td>\n",
              "      <td>0.0</td>\n",
              "      <td>0.0</td>\n",
              "      <td>0.0</td>\n",
              "      <td>0.0</td>\n",
              "      <td>0.0</td>\n",
              "    </tr>\n",
              "    <tr>\n",
              "      <th>4</th>\n",
              "      <td>0.000000</td>\n",
              "      <td>0.0</td>\n",
              "      <td>0.0</td>\n",
              "      <td>0.0</td>\n",
              "      <td>0.0</td>\n",
              "      <td>0.0</td>\n",
              "      <td>0.0</td>\n",
              "      <td>0.0</td>\n",
              "      <td>0.0</td>\n",
              "      <td>0.0</td>\n",
              "      <td>0.0</td>\n",
              "      <td>0.0</td>\n",
              "      <td>0.0</td>\n",
              "      <td>0.0</td>\n",
              "      <td>0.0</td>\n",
              "      <td>0.0</td>\n",
              "      <td>0.0</td>\n",
              "      <td>0.0</td>\n",
              "      <td>0.0</td>\n",
              "      <td>0.0</td>\n",
              "      <td>0.0</td>\n",
              "      <td>0.0</td>\n",
              "      <td>0.0</td>\n",
              "      <td>0.0</td>\n",
              "      <td>0.0</td>\n",
              "      <td>0.0</td>\n",
              "      <td>0.0</td>\n",
              "      <td>0.0</td>\n",
              "      <td>0.00000</td>\n",
              "      <td>0.0</td>\n",
              "      <td>0.0</td>\n",
              "      <td>0.000000</td>\n",
              "      <td>0.0</td>\n",
              "      <td>0.0</td>\n",
              "      <td>0.0</td>\n",
              "      <td>0.0</td>\n",
              "      <td>0.0</td>\n",
              "      <td>0.0</td>\n",
              "      <td>0.0</td>\n",
              "      <td>0.0</td>\n",
              "      <td>...</td>\n",
              "      <td>0.0</td>\n",
              "      <td>0.0</td>\n",
              "      <td>0.0</td>\n",
              "      <td>0.0</td>\n",
              "      <td>0.0</td>\n",
              "      <td>0.0</td>\n",
              "      <td>0.0</td>\n",
              "      <td>0.0</td>\n",
              "      <td>0.0</td>\n",
              "      <td>0.0</td>\n",
              "      <td>0.0</td>\n",
              "      <td>0.0</td>\n",
              "      <td>0.0</td>\n",
              "      <td>0.0</td>\n",
              "      <td>0.0</td>\n",
              "      <td>0.0</td>\n",
              "      <td>0.0</td>\n",
              "      <td>0.0</td>\n",
              "      <td>0.0</td>\n",
              "      <td>0.0</td>\n",
              "      <td>0.0</td>\n",
              "      <td>0.0</td>\n",
              "      <td>2.5</td>\n",
              "      <td>0.0</td>\n",
              "      <td>0.0</td>\n",
              "      <td>0.0</td>\n",
              "      <td>0.0</td>\n",
              "      <td>0.0</td>\n",
              "      <td>0.0</td>\n",
              "      <td>0.0</td>\n",
              "      <td>0.0</td>\n",
              "      <td>0.0</td>\n",
              "      <td>0.0</td>\n",
              "      <td>0.0</td>\n",
              "      <td>0.0</td>\n",
              "      <td>0.0</td>\n",
              "      <td>0.0</td>\n",
              "      <td>0.0</td>\n",
              "      <td>0.0</td>\n",
              "      <td>0.0</td>\n",
              "    </tr>\n",
              "    <tr>\n",
              "      <th>5</th>\n",
              "      <td>0.000000</td>\n",
              "      <td>0.0</td>\n",
              "      <td>0.0</td>\n",
              "      <td>0.0</td>\n",
              "      <td>0.0</td>\n",
              "      <td>0.0</td>\n",
              "      <td>0.0</td>\n",
              "      <td>0.0</td>\n",
              "      <td>0.0</td>\n",
              "      <td>0.0</td>\n",
              "      <td>0.0</td>\n",
              "      <td>0.0</td>\n",
              "      <td>0.0</td>\n",
              "      <td>0.0</td>\n",
              "      <td>0.0</td>\n",
              "      <td>0.0</td>\n",
              "      <td>0.0</td>\n",
              "      <td>0.0</td>\n",
              "      <td>0.0</td>\n",
              "      <td>0.0</td>\n",
              "      <td>0.0</td>\n",
              "      <td>0.0</td>\n",
              "      <td>0.0</td>\n",
              "      <td>0.0</td>\n",
              "      <td>0.0</td>\n",
              "      <td>0.0</td>\n",
              "      <td>0.0</td>\n",
              "      <td>0.0</td>\n",
              "      <td>0.00000</td>\n",
              "      <td>0.0</td>\n",
              "      <td>0.0</td>\n",
              "      <td>36.388331</td>\n",
              "      <td>0.0</td>\n",
              "      <td>0.0</td>\n",
              "      <td>0.0</td>\n",
              "      <td>0.0</td>\n",
              "      <td>0.0</td>\n",
              "      <td>0.0</td>\n",
              "      <td>0.0</td>\n",
              "      <td>0.0</td>\n",
              "      <td>...</td>\n",
              "      <td>0.0</td>\n",
              "      <td>0.0</td>\n",
              "      <td>0.0</td>\n",
              "      <td>0.0</td>\n",
              "      <td>0.0</td>\n",
              "      <td>0.0</td>\n",
              "      <td>0.0</td>\n",
              "      <td>0.0</td>\n",
              "      <td>0.0</td>\n",
              "      <td>0.0</td>\n",
              "      <td>0.0</td>\n",
              "      <td>0.0</td>\n",
              "      <td>0.0</td>\n",
              "      <td>0.0</td>\n",
              "      <td>0.0</td>\n",
              "      <td>0.0</td>\n",
              "      <td>0.0</td>\n",
              "      <td>0.0</td>\n",
              "      <td>0.0</td>\n",
              "      <td>0.0</td>\n",
              "      <td>0.0</td>\n",
              "      <td>0.0</td>\n",
              "      <td>0.0</td>\n",
              "      <td>0.0</td>\n",
              "      <td>0.0</td>\n",
              "      <td>0.0</td>\n",
              "      <td>0.0</td>\n",
              "      <td>0.0</td>\n",
              "      <td>0.0</td>\n",
              "      <td>0.0</td>\n",
              "      <td>0.0</td>\n",
              "      <td>0.0</td>\n",
              "      <td>0.0</td>\n",
              "      <td>0.0</td>\n",
              "      <td>0.0</td>\n",
              "      <td>0.0</td>\n",
              "      <td>0.0</td>\n",
              "      <td>0.0</td>\n",
              "      <td>0.0</td>\n",
              "      <td>0.0</td>\n",
              "    </tr>\n",
              "  </tbody>\n",
              "</table>\n",
              "<p>5 rows × 9529 columns</p>\n",
              "</div>"
            ],
            "text/plain": [
              "movieId     1       2       3       4       ...  205499  206499  206805  207309\n",
              "userId                                      ...                                \n",
              "1         0.000000     0.0     0.0     0.0  ...     0.0     0.0     0.0     0.0\n",
              "2         0.000000     0.0     0.0     0.0  ...     0.0     0.0     0.0     0.0\n",
              "3        35.770738     0.0     0.0     0.0  ...     0.0     0.0     0.0     0.0\n",
              "4         0.000000     0.0     0.0     0.0  ...     0.0     0.0     0.0     0.0\n",
              "5         0.000000     0.0     0.0     0.0  ...     0.0     0.0     0.0     0.0\n",
              "\n",
              "[5 rows x 9529 columns]"
            ]
          },
          "metadata": {
            "tags": []
          },
          "execution_count": 59
        }
      ]
    },
    {
      "cell_type": "markdown",
      "metadata": {
        "id": "emGudTfJoflZ"
      },
      "source": [
        "Calculating the RMSE for only the movies rated by user. For RMSE, normalising the rating to (1,5) range."
      ]
    },
    {
      "cell_type": "code",
      "metadata": {
        "colab": {
          "base_uri": "https://localhost:8080/"
        },
        "id": "6hNEKDAwoflZ",
        "outputId": "bc2efe24-9a46-4904-a865-fcbdde4f2c35"
      },
      "source": [
        "from sklearn.preprocessing import MinMaxScaler\n",
        "from numpy import *\n",
        "\n",
        "X  = common_user_predicted_ratings.copy() \n",
        "X = X[X>0]\n",
        "\n",
        "scaler = MinMaxScaler(feature_range=(1, 5))\n",
        "print(scaler.fit(X))\n",
        "y = (scaler.transform(X))\n",
        "\n",
        "print(y)"
      ],
      "execution_count": 60,
      "outputs": [
        {
          "output_type": "stream",
          "text": [
            "/usr/local/lib/python3.7/dist-packages/sklearn/preprocessing/_data.py:375: RuntimeWarning: All-NaN slice encountered\n",
            "  data_min = np.nanmin(X, axis=0)\n",
            "/usr/local/lib/python3.7/dist-packages/sklearn/preprocessing/_data.py:376: RuntimeWarning: All-NaN slice encountered\n",
            "  data_max = np.nanmax(X, axis=0)\n"
          ],
          "name": "stderr"
        },
        {
          "output_type": "stream",
          "text": [
            "MinMaxScaler(copy=True, feature_range=(1, 5))\n",
            "[[     nan      nan      nan ...      nan      nan      nan]\n",
            " [     nan      nan      nan ...      nan      nan      nan]\n",
            " [3.563153      nan      nan ...      nan      nan      nan]\n",
            " ...\n",
            " [     nan      nan      nan ...      nan      nan      nan]\n",
            " [     nan      nan      nan ...      nan      nan      nan]\n",
            " [     nan      nan      nan ...      nan      nan      nan]]\n"
          ],
          "name": "stdout"
        }
      ]
    },
    {
      "cell_type": "code",
      "metadata": {
        "id": "Y-OYsB-4oflZ"
      },
      "source": [
        "common_ = common.pivot_table(index='userId', columns='movieId', values='rating')"
      ],
      "execution_count": 61,
      "outputs": []
    },
    {
      "cell_type": "code",
      "metadata": {
        "id": "aJRM9xMAofla"
      },
      "source": [
        "# Finding total non-NaN value\n",
        "total_non_nan = np.count_nonzero(~np.isnan(y))"
      ],
      "execution_count": 62,
      "outputs": []
    },
    {
      "cell_type": "code",
      "metadata": {
        "colab": {
          "base_uri": "https://localhost:8080/"
        },
        "id": "dhnKWyazofla",
        "outputId": "a521164f-d9ff-489d-aa6a-721a8c5d6465"
      },
      "source": [
        "rmse = (sum(sum((common_ - y )**2))/total_non_nan)**0.5\n",
        "print(rmse)"
      ],
      "execution_count": 63,
      "outputs": [
        {
          "output_type": "stream",
          "text": [
            "1.4350750583833054\n"
          ],
          "name": "stdout"
        }
      ]
    },
    {
      "cell_type": "markdown",
      "metadata": {
        "id": "0SLeLKr5ofla"
      },
      "source": [
        "## Using Item similarity"
      ]
    },
    {
      "cell_type": "markdown",
      "metadata": {
        "id": "5pN2OrMVExdJ"
      },
      "source": [
        "# Item Based Similarity"
      ]
    },
    {
      "cell_type": "markdown",
      "metadata": {
        "id": "AQR5JcURExdJ"
      },
      "source": [
        "Taking the transpose of the rating matrix to normalize the rating around the mean for different movie ID. In the user based similarity, we had taken mean for each user instead of each movie. "
      ]
    },
    {
      "cell_type": "code",
      "metadata": {
        "colab": {
          "base_uri": "https://localhost:8080/",
          "height": 282
        },
        "id": "PuZ_rfmWExdK",
        "outputId": "fb2872f8-cb90-4fd6-a727-f47c2eaed349"
      },
      "source": [
        "df_pivot = train.pivot(\n",
        "    index='userId',\n",
        "    columns='movieId',\n",
        "    values='rating'\n",
        ").T\n",
        "\n",
        "df_pivot.head()"
      ],
      "execution_count": null,
      "outputs": [
        {
          "output_type": "execute_result",
          "data": {
            "text/html": [
              "<div>\n",
              "<style scoped>\n",
              "    .dataframe tbody tr th:only-of-type {\n",
              "        vertical-align: middle;\n",
              "    }\n",
              "\n",
              "    .dataframe tbody tr th {\n",
              "        vertical-align: top;\n",
              "    }\n",
              "\n",
              "    .dataframe thead th {\n",
              "        text-align: right;\n",
              "    }\n",
              "</style>\n",
              "<table border=\"1\" class=\"dataframe\">\n",
              "  <thead>\n",
              "    <tr style=\"text-align: right;\">\n",
              "      <th>userId</th>\n",
              "      <th>1</th>\n",
              "      <th>2</th>\n",
              "      <th>3</th>\n",
              "      <th>4</th>\n",
              "      <th>5</th>\n",
              "      <th>6</th>\n",
              "      <th>7</th>\n",
              "      <th>8</th>\n",
              "      <th>9</th>\n",
              "      <th>10</th>\n",
              "      <th>11</th>\n",
              "      <th>12</th>\n",
              "      <th>13</th>\n",
              "      <th>14</th>\n",
              "      <th>15</th>\n",
              "      <th>16</th>\n",
              "      <th>17</th>\n",
              "      <th>18</th>\n",
              "      <th>19</th>\n",
              "      <th>20</th>\n",
              "      <th>21</th>\n",
              "      <th>22</th>\n",
              "      <th>23</th>\n",
              "      <th>24</th>\n",
              "      <th>25</th>\n",
              "      <th>26</th>\n",
              "      <th>27</th>\n",
              "      <th>28</th>\n",
              "      <th>29</th>\n",
              "      <th>30</th>\n",
              "      <th>31</th>\n",
              "      <th>32</th>\n",
              "      <th>33</th>\n",
              "      <th>34</th>\n",
              "      <th>35</th>\n",
              "      <th>36</th>\n",
              "      <th>37</th>\n",
              "      <th>38</th>\n",
              "      <th>39</th>\n",
              "      <th>40</th>\n",
              "      <th>...</th>\n",
              "      <th>2032</th>\n",
              "      <th>2033</th>\n",
              "      <th>2034</th>\n",
              "      <th>2035</th>\n",
              "      <th>2036</th>\n",
              "      <th>2037</th>\n",
              "      <th>2038</th>\n",
              "      <th>2039</th>\n",
              "      <th>2040</th>\n",
              "      <th>2041</th>\n",
              "      <th>2042</th>\n",
              "      <th>2043</th>\n",
              "      <th>2044</th>\n",
              "      <th>2045</th>\n",
              "      <th>2046</th>\n",
              "      <th>2047</th>\n",
              "      <th>2048</th>\n",
              "      <th>2049</th>\n",
              "      <th>2050</th>\n",
              "      <th>2051</th>\n",
              "      <th>2052</th>\n",
              "      <th>2053</th>\n",
              "      <th>2054</th>\n",
              "      <th>2055</th>\n",
              "      <th>2056</th>\n",
              "      <th>2057</th>\n",
              "      <th>2058</th>\n",
              "      <th>2059</th>\n",
              "      <th>2060</th>\n",
              "      <th>2061</th>\n",
              "      <th>2062</th>\n",
              "      <th>2063</th>\n",
              "      <th>2064</th>\n",
              "      <th>2065</th>\n",
              "      <th>2066</th>\n",
              "      <th>2067</th>\n",
              "      <th>2068</th>\n",
              "      <th>2069</th>\n",
              "      <th>2070</th>\n",
              "      <th>2071</th>\n",
              "    </tr>\n",
              "    <tr>\n",
              "      <th>movieId</th>\n",
              "      <th></th>\n",
              "      <th></th>\n",
              "      <th></th>\n",
              "      <th></th>\n",
              "      <th></th>\n",
              "      <th></th>\n",
              "      <th></th>\n",
              "      <th></th>\n",
              "      <th></th>\n",
              "      <th></th>\n",
              "      <th></th>\n",
              "      <th></th>\n",
              "      <th></th>\n",
              "      <th></th>\n",
              "      <th></th>\n",
              "      <th></th>\n",
              "      <th></th>\n",
              "      <th></th>\n",
              "      <th></th>\n",
              "      <th></th>\n",
              "      <th></th>\n",
              "      <th></th>\n",
              "      <th></th>\n",
              "      <th></th>\n",
              "      <th></th>\n",
              "      <th></th>\n",
              "      <th></th>\n",
              "      <th></th>\n",
              "      <th></th>\n",
              "      <th></th>\n",
              "      <th></th>\n",
              "      <th></th>\n",
              "      <th></th>\n",
              "      <th></th>\n",
              "      <th></th>\n",
              "      <th></th>\n",
              "      <th></th>\n",
              "      <th></th>\n",
              "      <th></th>\n",
              "      <th></th>\n",
              "      <th></th>\n",
              "      <th></th>\n",
              "      <th></th>\n",
              "      <th></th>\n",
              "      <th></th>\n",
              "      <th></th>\n",
              "      <th></th>\n",
              "      <th></th>\n",
              "      <th></th>\n",
              "      <th></th>\n",
              "      <th></th>\n",
              "      <th></th>\n",
              "      <th></th>\n",
              "      <th></th>\n",
              "      <th></th>\n",
              "      <th></th>\n",
              "      <th></th>\n",
              "      <th></th>\n",
              "      <th></th>\n",
              "      <th></th>\n",
              "      <th></th>\n",
              "      <th></th>\n",
              "      <th></th>\n",
              "      <th></th>\n",
              "      <th></th>\n",
              "      <th></th>\n",
              "      <th></th>\n",
              "      <th></th>\n",
              "      <th></th>\n",
              "      <th></th>\n",
              "      <th></th>\n",
              "      <th></th>\n",
              "      <th></th>\n",
              "      <th></th>\n",
              "      <th></th>\n",
              "      <th></th>\n",
              "      <th></th>\n",
              "      <th></th>\n",
              "      <th></th>\n",
              "      <th></th>\n",
              "      <th></th>\n",
              "    </tr>\n",
              "  </thead>\n",
              "  <tbody>\n",
              "    <tr>\n",
              "      <th>1</th>\n",
              "      <td>NaN</td>\n",
              "      <td>3.5</td>\n",
              "      <td>NaN</td>\n",
              "      <td>3.0</td>\n",
              "      <td>4.0</td>\n",
              "      <td>NaN</td>\n",
              "      <td>NaN</td>\n",
              "      <td>4.0</td>\n",
              "      <td>NaN</td>\n",
              "      <td>3.5</td>\n",
              "      <td>NaN</td>\n",
              "      <td>4.0</td>\n",
              "      <td>4.0</td>\n",
              "      <td>NaN</td>\n",
              "      <td>NaN</td>\n",
              "      <td>NaN</td>\n",
              "      <td>NaN</td>\n",
              "      <td>3.0</td>\n",
              "      <td>NaN</td>\n",
              "      <td>NaN</td>\n",
              "      <td>NaN</td>\n",
              "      <td>NaN</td>\n",
              "      <td>NaN</td>\n",
              "      <td>NaN</td>\n",
              "      <td>NaN</td>\n",
              "      <td>3.0</td>\n",
              "      <td>NaN</td>\n",
              "      <td>NaN</td>\n",
              "      <td>NaN</td>\n",
              "      <td>NaN</td>\n",
              "      <td>NaN</td>\n",
              "      <td>NaN</td>\n",
              "      <td>NaN</td>\n",
              "      <td>NaN</td>\n",
              "      <td>NaN</td>\n",
              "      <td>5.0</td>\n",
              "      <td>NaN</td>\n",
              "      <td>NaN</td>\n",
              "      <td>NaN</td>\n",
              "      <td>NaN</td>\n",
              "      <td>...</td>\n",
              "      <td>NaN</td>\n",
              "      <td>NaN</td>\n",
              "      <td>3.0</td>\n",
              "      <td>NaN</td>\n",
              "      <td>NaN</td>\n",
              "      <td>NaN</td>\n",
              "      <td>4.0</td>\n",
              "      <td>3.0</td>\n",
              "      <td>NaN</td>\n",
              "      <td>NaN</td>\n",
              "      <td>NaN</td>\n",
              "      <td>NaN</td>\n",
              "      <td>NaN</td>\n",
              "      <td>NaN</td>\n",
              "      <td>3.0</td>\n",
              "      <td>NaN</td>\n",
              "      <td>3.5</td>\n",
              "      <td>NaN</td>\n",
              "      <td>NaN</td>\n",
              "      <td>NaN</td>\n",
              "      <td>NaN</td>\n",
              "      <td>NaN</td>\n",
              "      <td>3.5</td>\n",
              "      <td>NaN</td>\n",
              "      <td>NaN</td>\n",
              "      <td>NaN</td>\n",
              "      <td>NaN</td>\n",
              "      <td>NaN</td>\n",
              "      <td>NaN</td>\n",
              "      <td>NaN</td>\n",
              "      <td>NaN</td>\n",
              "      <td>NaN</td>\n",
              "      <td>4.0</td>\n",
              "      <td>NaN</td>\n",
              "      <td>NaN</td>\n",
              "      <td>4.0</td>\n",
              "      <td>NaN</td>\n",
              "      <td>NaN</td>\n",
              "      <td>NaN</td>\n",
              "      <td>3.0</td>\n",
              "    </tr>\n",
              "    <tr>\n",
              "      <th>2</th>\n",
              "      <td>NaN</td>\n",
              "      <td>NaN</td>\n",
              "      <td>NaN</td>\n",
              "      <td>NaN</td>\n",
              "      <td>NaN</td>\n",
              "      <td>NaN</td>\n",
              "      <td>NaN</td>\n",
              "      <td>NaN</td>\n",
              "      <td>5.0</td>\n",
              "      <td>NaN</td>\n",
              "      <td>NaN</td>\n",
              "      <td>NaN</td>\n",
              "      <td>NaN</td>\n",
              "      <td>NaN</td>\n",
              "      <td>NaN</td>\n",
              "      <td>NaN</td>\n",
              "      <td>NaN</td>\n",
              "      <td>NaN</td>\n",
              "      <td>3.5</td>\n",
              "      <td>2.5</td>\n",
              "      <td>NaN</td>\n",
              "      <td>NaN</td>\n",
              "      <td>NaN</td>\n",
              "      <td>NaN</td>\n",
              "      <td>NaN</td>\n",
              "      <td>NaN</td>\n",
              "      <td>NaN</td>\n",
              "      <td>NaN</td>\n",
              "      <td>NaN</td>\n",
              "      <td>NaN</td>\n",
              "      <td>NaN</td>\n",
              "      <td>NaN</td>\n",
              "      <td>NaN</td>\n",
              "      <td>NaN</td>\n",
              "      <td>NaN</td>\n",
              "      <td>NaN</td>\n",
              "      <td>NaN</td>\n",
              "      <td>NaN</td>\n",
              "      <td>NaN</td>\n",
              "      <td>NaN</td>\n",
              "      <td>...</td>\n",
              "      <td>NaN</td>\n",
              "      <td>NaN</td>\n",
              "      <td>NaN</td>\n",
              "      <td>NaN</td>\n",
              "      <td>NaN</td>\n",
              "      <td>NaN</td>\n",
              "      <td>NaN</td>\n",
              "      <td>NaN</td>\n",
              "      <td>NaN</td>\n",
              "      <td>NaN</td>\n",
              "      <td>NaN</td>\n",
              "      <td>NaN</td>\n",
              "      <td>NaN</td>\n",
              "      <td>NaN</td>\n",
              "      <td>NaN</td>\n",
              "      <td>NaN</td>\n",
              "      <td>NaN</td>\n",
              "      <td>NaN</td>\n",
              "      <td>NaN</td>\n",
              "      <td>NaN</td>\n",
              "      <td>NaN</td>\n",
              "      <td>3.0</td>\n",
              "      <td>3.0</td>\n",
              "      <td>NaN</td>\n",
              "      <td>NaN</td>\n",
              "      <td>NaN</td>\n",
              "      <td>2.5</td>\n",
              "      <td>NaN</td>\n",
              "      <td>NaN</td>\n",
              "      <td>NaN</td>\n",
              "      <td>NaN</td>\n",
              "      <td>NaN</td>\n",
              "      <td>NaN</td>\n",
              "      <td>NaN</td>\n",
              "      <td>NaN</td>\n",
              "      <td>NaN</td>\n",
              "      <td>NaN</td>\n",
              "      <td>2.5</td>\n",
              "      <td>NaN</td>\n",
              "      <td>NaN</td>\n",
              "    </tr>\n",
              "    <tr>\n",
              "      <th>3</th>\n",
              "      <td>NaN</td>\n",
              "      <td>NaN</td>\n",
              "      <td>NaN</td>\n",
              "      <td>NaN</td>\n",
              "      <td>NaN</td>\n",
              "      <td>NaN</td>\n",
              "      <td>NaN</td>\n",
              "      <td>4.0</td>\n",
              "      <td>NaN</td>\n",
              "      <td>NaN</td>\n",
              "      <td>NaN</td>\n",
              "      <td>2.0</td>\n",
              "      <td>NaN</td>\n",
              "      <td>NaN</td>\n",
              "      <td>NaN</td>\n",
              "      <td>NaN</td>\n",
              "      <td>NaN</td>\n",
              "      <td>NaN</td>\n",
              "      <td>NaN</td>\n",
              "      <td>NaN</td>\n",
              "      <td>NaN</td>\n",
              "      <td>NaN</td>\n",
              "      <td>NaN</td>\n",
              "      <td>NaN</td>\n",
              "      <td>NaN</td>\n",
              "      <td>NaN</td>\n",
              "      <td>NaN</td>\n",
              "      <td>NaN</td>\n",
              "      <td>NaN</td>\n",
              "      <td>NaN</td>\n",
              "      <td>NaN</td>\n",
              "      <td>NaN</td>\n",
              "      <td>NaN</td>\n",
              "      <td>NaN</td>\n",
              "      <td>NaN</td>\n",
              "      <td>NaN</td>\n",
              "      <td>NaN</td>\n",
              "      <td>NaN</td>\n",
              "      <td>NaN</td>\n",
              "      <td>NaN</td>\n",
              "      <td>...</td>\n",
              "      <td>NaN</td>\n",
              "      <td>3.0</td>\n",
              "      <td>NaN</td>\n",
              "      <td>1.5</td>\n",
              "      <td>NaN</td>\n",
              "      <td>NaN</td>\n",
              "      <td>NaN</td>\n",
              "      <td>NaN</td>\n",
              "      <td>NaN</td>\n",
              "      <td>NaN</td>\n",
              "      <td>NaN</td>\n",
              "      <td>NaN</td>\n",
              "      <td>NaN</td>\n",
              "      <td>NaN</td>\n",
              "      <td>NaN</td>\n",
              "      <td>NaN</td>\n",
              "      <td>NaN</td>\n",
              "      <td>NaN</td>\n",
              "      <td>NaN</td>\n",
              "      <td>3.0</td>\n",
              "      <td>NaN</td>\n",
              "      <td>NaN</td>\n",
              "      <td>NaN</td>\n",
              "      <td>NaN</td>\n",
              "      <td>NaN</td>\n",
              "      <td>NaN</td>\n",
              "      <td>NaN</td>\n",
              "      <td>NaN</td>\n",
              "      <td>NaN</td>\n",
              "      <td>NaN</td>\n",
              "      <td>5.0</td>\n",
              "      <td>NaN</td>\n",
              "      <td>NaN</td>\n",
              "      <td>NaN</td>\n",
              "      <td>NaN</td>\n",
              "      <td>3.0</td>\n",
              "      <td>NaN</td>\n",
              "      <td>NaN</td>\n",
              "      <td>NaN</td>\n",
              "      <td>NaN</td>\n",
              "    </tr>\n",
              "    <tr>\n",
              "      <th>4</th>\n",
              "      <td>NaN</td>\n",
              "      <td>NaN</td>\n",
              "      <td>NaN</td>\n",
              "      <td>NaN</td>\n",
              "      <td>NaN</td>\n",
              "      <td>NaN</td>\n",
              "      <td>NaN</td>\n",
              "      <td>NaN</td>\n",
              "      <td>NaN</td>\n",
              "      <td>NaN</td>\n",
              "      <td>NaN</td>\n",
              "      <td>NaN</td>\n",
              "      <td>NaN</td>\n",
              "      <td>NaN</td>\n",
              "      <td>NaN</td>\n",
              "      <td>NaN</td>\n",
              "      <td>NaN</td>\n",
              "      <td>NaN</td>\n",
              "      <td>NaN</td>\n",
              "      <td>NaN</td>\n",
              "      <td>NaN</td>\n",
              "      <td>NaN</td>\n",
              "      <td>NaN</td>\n",
              "      <td>NaN</td>\n",
              "      <td>NaN</td>\n",
              "      <td>NaN</td>\n",
              "      <td>NaN</td>\n",
              "      <td>NaN</td>\n",
              "      <td>NaN</td>\n",
              "      <td>NaN</td>\n",
              "      <td>NaN</td>\n",
              "      <td>NaN</td>\n",
              "      <td>NaN</td>\n",
              "      <td>NaN</td>\n",
              "      <td>NaN</td>\n",
              "      <td>NaN</td>\n",
              "      <td>NaN</td>\n",
              "      <td>NaN</td>\n",
              "      <td>NaN</td>\n",
              "      <td>NaN</td>\n",
              "      <td>...</td>\n",
              "      <td>NaN</td>\n",
              "      <td>NaN</td>\n",
              "      <td>NaN</td>\n",
              "      <td>NaN</td>\n",
              "      <td>NaN</td>\n",
              "      <td>NaN</td>\n",
              "      <td>NaN</td>\n",
              "      <td>NaN</td>\n",
              "      <td>NaN</td>\n",
              "      <td>NaN</td>\n",
              "      <td>NaN</td>\n",
              "      <td>NaN</td>\n",
              "      <td>NaN</td>\n",
              "      <td>NaN</td>\n",
              "      <td>NaN</td>\n",
              "      <td>NaN</td>\n",
              "      <td>NaN</td>\n",
              "      <td>NaN</td>\n",
              "      <td>NaN</td>\n",
              "      <td>NaN</td>\n",
              "      <td>NaN</td>\n",
              "      <td>NaN</td>\n",
              "      <td>NaN</td>\n",
              "      <td>NaN</td>\n",
              "      <td>NaN</td>\n",
              "      <td>NaN</td>\n",
              "      <td>NaN</td>\n",
              "      <td>NaN</td>\n",
              "      <td>NaN</td>\n",
              "      <td>NaN</td>\n",
              "      <td>NaN</td>\n",
              "      <td>NaN</td>\n",
              "      <td>NaN</td>\n",
              "      <td>NaN</td>\n",
              "      <td>NaN</td>\n",
              "      <td>NaN</td>\n",
              "      <td>NaN</td>\n",
              "      <td>NaN</td>\n",
              "      <td>NaN</td>\n",
              "      <td>NaN</td>\n",
              "    </tr>\n",
              "    <tr>\n",
              "      <th>5</th>\n",
              "      <td>NaN</td>\n",
              "      <td>NaN</td>\n",
              "      <td>NaN</td>\n",
              "      <td>NaN</td>\n",
              "      <td>NaN</td>\n",
              "      <td>NaN</td>\n",
              "      <td>NaN</td>\n",
              "      <td>NaN</td>\n",
              "      <td>NaN</td>\n",
              "      <td>NaN</td>\n",
              "      <td>NaN</td>\n",
              "      <td>NaN</td>\n",
              "      <td>NaN</td>\n",
              "      <td>NaN</td>\n",
              "      <td>NaN</td>\n",
              "      <td>NaN</td>\n",
              "      <td>NaN</td>\n",
              "      <td>NaN</td>\n",
              "      <td>NaN</td>\n",
              "      <td>NaN</td>\n",
              "      <td>NaN</td>\n",
              "      <td>NaN</td>\n",
              "      <td>NaN</td>\n",
              "      <td>NaN</td>\n",
              "      <td>NaN</td>\n",
              "      <td>NaN</td>\n",
              "      <td>NaN</td>\n",
              "      <td>NaN</td>\n",
              "      <td>NaN</td>\n",
              "      <td>NaN</td>\n",
              "      <td>NaN</td>\n",
              "      <td>NaN</td>\n",
              "      <td>NaN</td>\n",
              "      <td>NaN</td>\n",
              "      <td>NaN</td>\n",
              "      <td>NaN</td>\n",
              "      <td>NaN</td>\n",
              "      <td>NaN</td>\n",
              "      <td>NaN</td>\n",
              "      <td>NaN</td>\n",
              "      <td>...</td>\n",
              "      <td>NaN</td>\n",
              "      <td>NaN</td>\n",
              "      <td>NaN</td>\n",
              "      <td>NaN</td>\n",
              "      <td>NaN</td>\n",
              "      <td>NaN</td>\n",
              "      <td>NaN</td>\n",
              "      <td>NaN</td>\n",
              "      <td>NaN</td>\n",
              "      <td>NaN</td>\n",
              "      <td>NaN</td>\n",
              "      <td>NaN</td>\n",
              "      <td>NaN</td>\n",
              "      <td>NaN</td>\n",
              "      <td>NaN</td>\n",
              "      <td>3.0</td>\n",
              "      <td>NaN</td>\n",
              "      <td>NaN</td>\n",
              "      <td>NaN</td>\n",
              "      <td>NaN</td>\n",
              "      <td>NaN</td>\n",
              "      <td>NaN</td>\n",
              "      <td>NaN</td>\n",
              "      <td>NaN</td>\n",
              "      <td>NaN</td>\n",
              "      <td>NaN</td>\n",
              "      <td>3.0</td>\n",
              "      <td>NaN</td>\n",
              "      <td>NaN</td>\n",
              "      <td>NaN</td>\n",
              "      <td>3.0</td>\n",
              "      <td>NaN</td>\n",
              "      <td>NaN</td>\n",
              "      <td>NaN</td>\n",
              "      <td>NaN</td>\n",
              "      <td>NaN</td>\n",
              "      <td>NaN</td>\n",
              "      <td>NaN</td>\n",
              "      <td>NaN</td>\n",
              "      <td>NaN</td>\n",
              "    </tr>\n",
              "  </tbody>\n",
              "</table>\n",
              "<p>5 rows × 2071 columns</p>\n",
              "</div>"
            ],
            "text/plain": [
              "userId   1     2     3     4     5     6     ...  2066  2067  2068  2069  2070  2071\n",
              "movieId                                      ...                                    \n",
              "1         NaN   3.5   NaN   3.0   4.0   NaN  ...   NaN   4.0   NaN   NaN   NaN   3.0\n",
              "2         NaN   NaN   NaN   NaN   NaN   NaN  ...   NaN   NaN   NaN   2.5   NaN   NaN\n",
              "3         NaN   NaN   NaN   NaN   NaN   NaN  ...   NaN   3.0   NaN   NaN   NaN   NaN\n",
              "4         NaN   NaN   NaN   NaN   NaN   NaN  ...   NaN   NaN   NaN   NaN   NaN   NaN\n",
              "5         NaN   NaN   NaN   NaN   NaN   NaN  ...   NaN   NaN   NaN   NaN   NaN   NaN\n",
              "\n",
              "[5 rows x 2071 columns]"
            ]
          },
          "metadata": {
            "tags": []
          },
          "execution_count": 66
        }
      ]
    },
    {
      "cell_type": "markdown",
      "metadata": {
        "id": "tXqVjcM8ExdK"
      },
      "source": [
        "Normalising the movie rating for each movie for using the Adujsted Cosine"
      ]
    },
    {
      "cell_type": "code",
      "metadata": {
        "id": "eZIvacU4ExdK"
      },
      "source": [
        "mean = np.nanmean(df_pivot, axis=1)\n",
        "df_subtracted = (df_pivot.T-mean).T"
      ],
      "execution_count": null,
      "outputs": []
    },
    {
      "cell_type": "code",
      "metadata": {
        "colab": {
          "base_uri": "https://localhost:8080/",
          "height": 282
        },
        "id": "or2hisf6ExdK",
        "outputId": "910e914e-f360-4034-ec43-1b4f6cbb2b9b"
      },
      "source": [
        "df_subtracted.head()"
      ],
      "execution_count": null,
      "outputs": [
        {
          "output_type": "execute_result",
          "data": {
            "text/html": [
              "<div>\n",
              "<style scoped>\n",
              "    .dataframe tbody tr th:only-of-type {\n",
              "        vertical-align: middle;\n",
              "    }\n",
              "\n",
              "    .dataframe tbody tr th {\n",
              "        vertical-align: top;\n",
              "    }\n",
              "\n",
              "    .dataframe thead th {\n",
              "        text-align: right;\n",
              "    }\n",
              "</style>\n",
              "<table border=\"1\" class=\"dataframe\">\n",
              "  <thead>\n",
              "    <tr style=\"text-align: right;\">\n",
              "      <th>userId</th>\n",
              "      <th>1</th>\n",
              "      <th>2</th>\n",
              "      <th>3</th>\n",
              "      <th>4</th>\n",
              "      <th>5</th>\n",
              "      <th>6</th>\n",
              "      <th>7</th>\n",
              "      <th>8</th>\n",
              "      <th>9</th>\n",
              "      <th>10</th>\n",
              "      <th>11</th>\n",
              "      <th>12</th>\n",
              "      <th>13</th>\n",
              "      <th>14</th>\n",
              "      <th>15</th>\n",
              "      <th>16</th>\n",
              "      <th>17</th>\n",
              "      <th>18</th>\n",
              "      <th>19</th>\n",
              "      <th>20</th>\n",
              "      <th>21</th>\n",
              "      <th>22</th>\n",
              "      <th>23</th>\n",
              "      <th>24</th>\n",
              "      <th>25</th>\n",
              "      <th>26</th>\n",
              "      <th>27</th>\n",
              "      <th>28</th>\n",
              "      <th>29</th>\n",
              "      <th>30</th>\n",
              "      <th>31</th>\n",
              "      <th>32</th>\n",
              "      <th>33</th>\n",
              "      <th>34</th>\n",
              "      <th>35</th>\n",
              "      <th>36</th>\n",
              "      <th>37</th>\n",
              "      <th>38</th>\n",
              "      <th>39</th>\n",
              "      <th>40</th>\n",
              "      <th>...</th>\n",
              "      <th>2032</th>\n",
              "      <th>2033</th>\n",
              "      <th>2034</th>\n",
              "      <th>2035</th>\n",
              "      <th>2036</th>\n",
              "      <th>2037</th>\n",
              "      <th>2038</th>\n",
              "      <th>2039</th>\n",
              "      <th>2040</th>\n",
              "      <th>2041</th>\n",
              "      <th>2042</th>\n",
              "      <th>2043</th>\n",
              "      <th>2044</th>\n",
              "      <th>2045</th>\n",
              "      <th>2046</th>\n",
              "      <th>2047</th>\n",
              "      <th>2048</th>\n",
              "      <th>2049</th>\n",
              "      <th>2050</th>\n",
              "      <th>2051</th>\n",
              "      <th>2052</th>\n",
              "      <th>2053</th>\n",
              "      <th>2054</th>\n",
              "      <th>2055</th>\n",
              "      <th>2056</th>\n",
              "      <th>2057</th>\n",
              "      <th>2058</th>\n",
              "      <th>2059</th>\n",
              "      <th>2060</th>\n",
              "      <th>2061</th>\n",
              "      <th>2062</th>\n",
              "      <th>2063</th>\n",
              "      <th>2064</th>\n",
              "      <th>2065</th>\n",
              "      <th>2066</th>\n",
              "      <th>2067</th>\n",
              "      <th>2068</th>\n",
              "      <th>2069</th>\n",
              "      <th>2070</th>\n",
              "      <th>2071</th>\n",
              "    </tr>\n",
              "    <tr>\n",
              "      <th>movieId</th>\n",
              "      <th></th>\n",
              "      <th></th>\n",
              "      <th></th>\n",
              "      <th></th>\n",
              "      <th></th>\n",
              "      <th></th>\n",
              "      <th></th>\n",
              "      <th></th>\n",
              "      <th></th>\n",
              "      <th></th>\n",
              "      <th></th>\n",
              "      <th></th>\n",
              "      <th></th>\n",
              "      <th></th>\n",
              "      <th></th>\n",
              "      <th></th>\n",
              "      <th></th>\n",
              "      <th></th>\n",
              "      <th></th>\n",
              "      <th></th>\n",
              "      <th></th>\n",
              "      <th></th>\n",
              "      <th></th>\n",
              "      <th></th>\n",
              "      <th></th>\n",
              "      <th></th>\n",
              "      <th></th>\n",
              "      <th></th>\n",
              "      <th></th>\n",
              "      <th></th>\n",
              "      <th></th>\n",
              "      <th></th>\n",
              "      <th></th>\n",
              "      <th></th>\n",
              "      <th></th>\n",
              "      <th></th>\n",
              "      <th></th>\n",
              "      <th></th>\n",
              "      <th></th>\n",
              "      <th></th>\n",
              "      <th></th>\n",
              "      <th></th>\n",
              "      <th></th>\n",
              "      <th></th>\n",
              "      <th></th>\n",
              "      <th></th>\n",
              "      <th></th>\n",
              "      <th></th>\n",
              "      <th></th>\n",
              "      <th></th>\n",
              "      <th></th>\n",
              "      <th></th>\n",
              "      <th></th>\n",
              "      <th></th>\n",
              "      <th></th>\n",
              "      <th></th>\n",
              "      <th></th>\n",
              "      <th></th>\n",
              "      <th></th>\n",
              "      <th></th>\n",
              "      <th></th>\n",
              "      <th></th>\n",
              "      <th></th>\n",
              "      <th></th>\n",
              "      <th></th>\n",
              "      <th></th>\n",
              "      <th></th>\n",
              "      <th></th>\n",
              "      <th></th>\n",
              "      <th></th>\n",
              "      <th></th>\n",
              "      <th></th>\n",
              "      <th></th>\n",
              "      <th></th>\n",
              "      <th></th>\n",
              "      <th></th>\n",
              "      <th></th>\n",
              "      <th></th>\n",
              "      <th></th>\n",
              "      <th></th>\n",
              "      <th></th>\n",
              "    </tr>\n",
              "  </thead>\n",
              "  <tbody>\n",
              "    <tr>\n",
              "      <th>1</th>\n",
              "      <td>NaN</td>\n",
              "      <td>-0.45501</td>\n",
              "      <td>NaN</td>\n",
              "      <td>-0.95501</td>\n",
              "      <td>0.04499</td>\n",
              "      <td>NaN</td>\n",
              "      <td>NaN</td>\n",
              "      <td>0.044990</td>\n",
              "      <td>NaN</td>\n",
              "      <td>-0.45501</td>\n",
              "      <td>NaN</td>\n",
              "      <td>0.044990</td>\n",
              "      <td>0.04499</td>\n",
              "      <td>NaN</td>\n",
              "      <td>NaN</td>\n",
              "      <td>NaN</td>\n",
              "      <td>NaN</td>\n",
              "      <td>-0.95501</td>\n",
              "      <td>NaN</td>\n",
              "      <td>NaN</td>\n",
              "      <td>NaN</td>\n",
              "      <td>NaN</td>\n",
              "      <td>NaN</td>\n",
              "      <td>NaN</td>\n",
              "      <td>NaN</td>\n",
              "      <td>-0.95501</td>\n",
              "      <td>NaN</td>\n",
              "      <td>NaN</td>\n",
              "      <td>NaN</td>\n",
              "      <td>NaN</td>\n",
              "      <td>NaN</td>\n",
              "      <td>NaN</td>\n",
              "      <td>NaN</td>\n",
              "      <td>NaN</td>\n",
              "      <td>NaN</td>\n",
              "      <td>1.04499</td>\n",
              "      <td>NaN</td>\n",
              "      <td>NaN</td>\n",
              "      <td>NaN</td>\n",
              "      <td>NaN</td>\n",
              "      <td>...</td>\n",
              "      <td>NaN</td>\n",
              "      <td>NaN</td>\n",
              "      <td>-0.95501</td>\n",
              "      <td>NaN</td>\n",
              "      <td>NaN</td>\n",
              "      <td>NaN</td>\n",
              "      <td>0.04499</td>\n",
              "      <td>-0.95501</td>\n",
              "      <td>NaN</td>\n",
              "      <td>NaN</td>\n",
              "      <td>NaN</td>\n",
              "      <td>NaN</td>\n",
              "      <td>NaN</td>\n",
              "      <td>NaN</td>\n",
              "      <td>-0.95501</td>\n",
              "      <td>NaN</td>\n",
              "      <td>-0.45501</td>\n",
              "      <td>NaN</td>\n",
              "      <td>NaN</td>\n",
              "      <td>NaN</td>\n",
              "      <td>NaN</td>\n",
              "      <td>NaN</td>\n",
              "      <td>-0.455010</td>\n",
              "      <td>NaN</td>\n",
              "      <td>NaN</td>\n",
              "      <td>NaN</td>\n",
              "      <td>NaN</td>\n",
              "      <td>NaN</td>\n",
              "      <td>NaN</td>\n",
              "      <td>NaN</td>\n",
              "      <td>NaN</td>\n",
              "      <td>NaN</td>\n",
              "      <td>0.04499</td>\n",
              "      <td>NaN</td>\n",
              "      <td>NaN</td>\n",
              "      <td>0.044990</td>\n",
              "      <td>NaN</td>\n",
              "      <td>NaN</td>\n",
              "      <td>NaN</td>\n",
              "      <td>-0.95501</td>\n",
              "    </tr>\n",
              "    <tr>\n",
              "      <th>2</th>\n",
              "      <td>NaN</td>\n",
              "      <td>NaN</td>\n",
              "      <td>NaN</td>\n",
              "      <td>NaN</td>\n",
              "      <td>NaN</td>\n",
              "      <td>NaN</td>\n",
              "      <td>NaN</td>\n",
              "      <td>NaN</td>\n",
              "      <td>1.610811</td>\n",
              "      <td>NaN</td>\n",
              "      <td>NaN</td>\n",
              "      <td>NaN</td>\n",
              "      <td>NaN</td>\n",
              "      <td>NaN</td>\n",
              "      <td>NaN</td>\n",
              "      <td>NaN</td>\n",
              "      <td>NaN</td>\n",
              "      <td>NaN</td>\n",
              "      <td>0.110811</td>\n",
              "      <td>-0.889189</td>\n",
              "      <td>NaN</td>\n",
              "      <td>NaN</td>\n",
              "      <td>NaN</td>\n",
              "      <td>NaN</td>\n",
              "      <td>NaN</td>\n",
              "      <td>NaN</td>\n",
              "      <td>NaN</td>\n",
              "      <td>NaN</td>\n",
              "      <td>NaN</td>\n",
              "      <td>NaN</td>\n",
              "      <td>NaN</td>\n",
              "      <td>NaN</td>\n",
              "      <td>NaN</td>\n",
              "      <td>NaN</td>\n",
              "      <td>NaN</td>\n",
              "      <td>NaN</td>\n",
              "      <td>NaN</td>\n",
              "      <td>NaN</td>\n",
              "      <td>NaN</td>\n",
              "      <td>NaN</td>\n",
              "      <td>...</td>\n",
              "      <td>NaN</td>\n",
              "      <td>NaN</td>\n",
              "      <td>NaN</td>\n",
              "      <td>NaN</td>\n",
              "      <td>NaN</td>\n",
              "      <td>NaN</td>\n",
              "      <td>NaN</td>\n",
              "      <td>NaN</td>\n",
              "      <td>NaN</td>\n",
              "      <td>NaN</td>\n",
              "      <td>NaN</td>\n",
              "      <td>NaN</td>\n",
              "      <td>NaN</td>\n",
              "      <td>NaN</td>\n",
              "      <td>NaN</td>\n",
              "      <td>NaN</td>\n",
              "      <td>NaN</td>\n",
              "      <td>NaN</td>\n",
              "      <td>NaN</td>\n",
              "      <td>NaN</td>\n",
              "      <td>NaN</td>\n",
              "      <td>-0.389189</td>\n",
              "      <td>-0.389189</td>\n",
              "      <td>NaN</td>\n",
              "      <td>NaN</td>\n",
              "      <td>NaN</td>\n",
              "      <td>-0.889189</td>\n",
              "      <td>NaN</td>\n",
              "      <td>NaN</td>\n",
              "      <td>NaN</td>\n",
              "      <td>NaN</td>\n",
              "      <td>NaN</td>\n",
              "      <td>NaN</td>\n",
              "      <td>NaN</td>\n",
              "      <td>NaN</td>\n",
              "      <td>NaN</td>\n",
              "      <td>NaN</td>\n",
              "      <td>-0.889189</td>\n",
              "      <td>NaN</td>\n",
              "      <td>NaN</td>\n",
              "    </tr>\n",
              "    <tr>\n",
              "      <th>3</th>\n",
              "      <td>NaN</td>\n",
              "      <td>NaN</td>\n",
              "      <td>NaN</td>\n",
              "      <td>NaN</td>\n",
              "      <td>NaN</td>\n",
              "      <td>NaN</td>\n",
              "      <td>NaN</td>\n",
              "      <td>0.816667</td>\n",
              "      <td>NaN</td>\n",
              "      <td>NaN</td>\n",
              "      <td>NaN</td>\n",
              "      <td>-1.183333</td>\n",
              "      <td>NaN</td>\n",
              "      <td>NaN</td>\n",
              "      <td>NaN</td>\n",
              "      <td>NaN</td>\n",
              "      <td>NaN</td>\n",
              "      <td>NaN</td>\n",
              "      <td>NaN</td>\n",
              "      <td>NaN</td>\n",
              "      <td>NaN</td>\n",
              "      <td>NaN</td>\n",
              "      <td>NaN</td>\n",
              "      <td>NaN</td>\n",
              "      <td>NaN</td>\n",
              "      <td>NaN</td>\n",
              "      <td>NaN</td>\n",
              "      <td>NaN</td>\n",
              "      <td>NaN</td>\n",
              "      <td>NaN</td>\n",
              "      <td>NaN</td>\n",
              "      <td>NaN</td>\n",
              "      <td>NaN</td>\n",
              "      <td>NaN</td>\n",
              "      <td>NaN</td>\n",
              "      <td>NaN</td>\n",
              "      <td>NaN</td>\n",
              "      <td>NaN</td>\n",
              "      <td>NaN</td>\n",
              "      <td>NaN</td>\n",
              "      <td>...</td>\n",
              "      <td>NaN</td>\n",
              "      <td>-0.183333</td>\n",
              "      <td>NaN</td>\n",
              "      <td>-1.683333</td>\n",
              "      <td>NaN</td>\n",
              "      <td>NaN</td>\n",
              "      <td>NaN</td>\n",
              "      <td>NaN</td>\n",
              "      <td>NaN</td>\n",
              "      <td>NaN</td>\n",
              "      <td>NaN</td>\n",
              "      <td>NaN</td>\n",
              "      <td>NaN</td>\n",
              "      <td>NaN</td>\n",
              "      <td>NaN</td>\n",
              "      <td>NaN</td>\n",
              "      <td>NaN</td>\n",
              "      <td>NaN</td>\n",
              "      <td>NaN</td>\n",
              "      <td>-0.183333</td>\n",
              "      <td>NaN</td>\n",
              "      <td>NaN</td>\n",
              "      <td>NaN</td>\n",
              "      <td>NaN</td>\n",
              "      <td>NaN</td>\n",
              "      <td>NaN</td>\n",
              "      <td>NaN</td>\n",
              "      <td>NaN</td>\n",
              "      <td>NaN</td>\n",
              "      <td>NaN</td>\n",
              "      <td>1.816667</td>\n",
              "      <td>NaN</td>\n",
              "      <td>NaN</td>\n",
              "      <td>NaN</td>\n",
              "      <td>NaN</td>\n",
              "      <td>-0.183333</td>\n",
              "      <td>NaN</td>\n",
              "      <td>NaN</td>\n",
              "      <td>NaN</td>\n",
              "      <td>NaN</td>\n",
              "    </tr>\n",
              "    <tr>\n",
              "      <th>4</th>\n",
              "      <td>NaN</td>\n",
              "      <td>NaN</td>\n",
              "      <td>NaN</td>\n",
              "      <td>NaN</td>\n",
              "      <td>NaN</td>\n",
              "      <td>NaN</td>\n",
              "      <td>NaN</td>\n",
              "      <td>NaN</td>\n",
              "      <td>NaN</td>\n",
              "      <td>NaN</td>\n",
              "      <td>NaN</td>\n",
              "      <td>NaN</td>\n",
              "      <td>NaN</td>\n",
              "      <td>NaN</td>\n",
              "      <td>NaN</td>\n",
              "      <td>NaN</td>\n",
              "      <td>NaN</td>\n",
              "      <td>NaN</td>\n",
              "      <td>NaN</td>\n",
              "      <td>NaN</td>\n",
              "      <td>NaN</td>\n",
              "      <td>NaN</td>\n",
              "      <td>NaN</td>\n",
              "      <td>NaN</td>\n",
              "      <td>NaN</td>\n",
              "      <td>NaN</td>\n",
              "      <td>NaN</td>\n",
              "      <td>NaN</td>\n",
              "      <td>NaN</td>\n",
              "      <td>NaN</td>\n",
              "      <td>NaN</td>\n",
              "      <td>NaN</td>\n",
              "      <td>NaN</td>\n",
              "      <td>NaN</td>\n",
              "      <td>NaN</td>\n",
              "      <td>NaN</td>\n",
              "      <td>NaN</td>\n",
              "      <td>NaN</td>\n",
              "      <td>NaN</td>\n",
              "      <td>NaN</td>\n",
              "      <td>...</td>\n",
              "      <td>NaN</td>\n",
              "      <td>NaN</td>\n",
              "      <td>NaN</td>\n",
              "      <td>NaN</td>\n",
              "      <td>NaN</td>\n",
              "      <td>NaN</td>\n",
              "      <td>NaN</td>\n",
              "      <td>NaN</td>\n",
              "      <td>NaN</td>\n",
              "      <td>NaN</td>\n",
              "      <td>NaN</td>\n",
              "      <td>NaN</td>\n",
              "      <td>NaN</td>\n",
              "      <td>NaN</td>\n",
              "      <td>NaN</td>\n",
              "      <td>NaN</td>\n",
              "      <td>NaN</td>\n",
              "      <td>NaN</td>\n",
              "      <td>NaN</td>\n",
              "      <td>NaN</td>\n",
              "      <td>NaN</td>\n",
              "      <td>NaN</td>\n",
              "      <td>NaN</td>\n",
              "      <td>NaN</td>\n",
              "      <td>NaN</td>\n",
              "      <td>NaN</td>\n",
              "      <td>NaN</td>\n",
              "      <td>NaN</td>\n",
              "      <td>NaN</td>\n",
              "      <td>NaN</td>\n",
              "      <td>NaN</td>\n",
              "      <td>NaN</td>\n",
              "      <td>NaN</td>\n",
              "      <td>NaN</td>\n",
              "      <td>NaN</td>\n",
              "      <td>NaN</td>\n",
              "      <td>NaN</td>\n",
              "      <td>NaN</td>\n",
              "      <td>NaN</td>\n",
              "      <td>NaN</td>\n",
              "    </tr>\n",
              "    <tr>\n",
              "      <th>5</th>\n",
              "      <td>NaN</td>\n",
              "      <td>NaN</td>\n",
              "      <td>NaN</td>\n",
              "      <td>NaN</td>\n",
              "      <td>NaN</td>\n",
              "      <td>NaN</td>\n",
              "      <td>NaN</td>\n",
              "      <td>NaN</td>\n",
              "      <td>NaN</td>\n",
              "      <td>NaN</td>\n",
              "      <td>NaN</td>\n",
              "      <td>NaN</td>\n",
              "      <td>NaN</td>\n",
              "      <td>NaN</td>\n",
              "      <td>NaN</td>\n",
              "      <td>NaN</td>\n",
              "      <td>NaN</td>\n",
              "      <td>NaN</td>\n",
              "      <td>NaN</td>\n",
              "      <td>NaN</td>\n",
              "      <td>NaN</td>\n",
              "      <td>NaN</td>\n",
              "      <td>NaN</td>\n",
              "      <td>NaN</td>\n",
              "      <td>NaN</td>\n",
              "      <td>NaN</td>\n",
              "      <td>NaN</td>\n",
              "      <td>NaN</td>\n",
              "      <td>NaN</td>\n",
              "      <td>NaN</td>\n",
              "      <td>NaN</td>\n",
              "      <td>NaN</td>\n",
              "      <td>NaN</td>\n",
              "      <td>NaN</td>\n",
              "      <td>NaN</td>\n",
              "      <td>NaN</td>\n",
              "      <td>NaN</td>\n",
              "      <td>NaN</td>\n",
              "      <td>NaN</td>\n",
              "      <td>NaN</td>\n",
              "      <td>...</td>\n",
              "      <td>NaN</td>\n",
              "      <td>NaN</td>\n",
              "      <td>NaN</td>\n",
              "      <td>NaN</td>\n",
              "      <td>NaN</td>\n",
              "      <td>NaN</td>\n",
              "      <td>NaN</td>\n",
              "      <td>NaN</td>\n",
              "      <td>NaN</td>\n",
              "      <td>NaN</td>\n",
              "      <td>NaN</td>\n",
              "      <td>NaN</td>\n",
              "      <td>NaN</td>\n",
              "      <td>NaN</td>\n",
              "      <td>NaN</td>\n",
              "      <td>-0.133663</td>\n",
              "      <td>NaN</td>\n",
              "      <td>NaN</td>\n",
              "      <td>NaN</td>\n",
              "      <td>NaN</td>\n",
              "      <td>NaN</td>\n",
              "      <td>NaN</td>\n",
              "      <td>NaN</td>\n",
              "      <td>NaN</td>\n",
              "      <td>NaN</td>\n",
              "      <td>NaN</td>\n",
              "      <td>-0.133663</td>\n",
              "      <td>NaN</td>\n",
              "      <td>NaN</td>\n",
              "      <td>NaN</td>\n",
              "      <td>-0.133663</td>\n",
              "      <td>NaN</td>\n",
              "      <td>NaN</td>\n",
              "      <td>NaN</td>\n",
              "      <td>NaN</td>\n",
              "      <td>NaN</td>\n",
              "      <td>NaN</td>\n",
              "      <td>NaN</td>\n",
              "      <td>NaN</td>\n",
              "      <td>NaN</td>\n",
              "    </tr>\n",
              "  </tbody>\n",
              "</table>\n",
              "<p>5 rows × 2071 columns</p>\n",
              "</div>"
            ],
            "text/plain": [
              "userId   1        2     3        4     ...  2068      2069  2070     2071\n",
              "movieId                                ...                               \n",
              "1         NaN -0.45501   NaN -0.95501  ...   NaN       NaN   NaN -0.95501\n",
              "2         NaN      NaN   NaN      NaN  ...   NaN -0.889189   NaN      NaN\n",
              "3         NaN      NaN   NaN      NaN  ...   NaN       NaN   NaN      NaN\n",
              "4         NaN      NaN   NaN      NaN  ...   NaN       NaN   NaN      NaN\n",
              "5         NaN      NaN   NaN      NaN  ...   NaN       NaN   NaN      NaN\n",
              "\n",
              "[5 rows x 2071 columns]"
            ]
          },
          "metadata": {
            "tags": []
          },
          "execution_count": 68
        }
      ]
    },
    {
      "cell_type": "markdown",
      "metadata": {
        "id": "_ddgngXvExdK"
      },
      "source": [
        "Finding the cosine similarity using pairwise distances approach"
      ]
    },
    {
      "cell_type": "code",
      "metadata": {
        "id": "6w_pMqFYExdL"
      },
      "source": [
        "from sklearn.metrics.pairwise import pairwise_distances"
      ],
      "execution_count": null,
      "outputs": []
    },
    {
      "cell_type": "code",
      "metadata": {
        "id": "wvM0YMzqTD6Z",
        "colab": {
          "base_uri": "https://localhost:8080/"
        },
        "outputId": "48a69439-35a3-4427-9ed7-27aad5b45b27"
      },
      "source": [
        "# Item Similarity Matrix\n",
        "item_correlation = 1 - pairwise_distances(df_subtracted.fillna(0), metric='cosine')\n",
        "item_correlation[np.isnan(item_correlation)] = 0\n",
        "print(item_correlation)"
      ],
      "execution_count": null,
      "outputs": [
        {
          "output_type": "stream",
          "text": [
            "[[ 1.          0.10291474 -0.00527634 ...  0.          0.\n",
            "   0.        ]\n",
            " [ 0.10291474  1.          0.03170014 ...  0.          0.\n",
            "   0.        ]\n",
            " [-0.00527634  0.03170014  1.         ...  0.          0.\n",
            "   0.        ]\n",
            " ...\n",
            " [ 0.          0.          0.         ...  0.          0.\n",
            "   0.        ]\n",
            " [ 0.          0.          0.         ...  0.          0.\n",
            "   0.        ]\n",
            " [ 0.          0.          0.         ...  0.          0.\n",
            "   0.        ]]\n"
          ],
          "name": "stdout"
        }
      ]
    },
    {
      "cell_type": "code",
      "metadata": {
        "colab": {
          "base_uri": "https://localhost:8080/"
        },
        "id": "vp8k7bTSIX5Y",
        "outputId": "795323a7-149e-4923-fed5-25d33f96f97e"
      },
      "source": [
        "item_correlation.shape"
      ],
      "execution_count": null,
      "outputs": [
        {
          "output_type": "execute_result",
          "data": {
            "text/plain": [
              "(12911, 12911)"
            ]
          },
          "metadata": {
            "tags": []
          },
          "execution_count": 71
        }
      ]
    },
    {
      "cell_type": "markdown",
      "metadata": {
        "id": "MGf62jf-ExdL"
      },
      "source": [
        "Filtering the correlation only for which the value is greater than 0. (Positively correlated)"
      ]
    },
    {
      "cell_type": "code",
      "metadata": {
        "colab": {
          "base_uri": "https://localhost:8080/"
        },
        "id": "Ag8UtCCgExdL",
        "outputId": "20394f6f-a82c-44bf-a27f-ed61f00371b5"
      },
      "source": [
        "item_correlation[item_correlation<0]=0\n",
        "item_correlation"
      ],
      "execution_count": null,
      "outputs": [
        {
          "output_type": "execute_result",
          "data": {
            "text/plain": [
              "array([[1.        , 0.10291474, 0.        , ..., 0.        , 0.        ,\n",
              "        0.        ],\n",
              "       [0.10291474, 1.        , 0.03170014, ..., 0.        , 0.        ,\n",
              "        0.        ],\n",
              "       [0.        , 0.03170014, 1.        , ..., 0.        , 0.        ,\n",
              "        0.        ],\n",
              "       ...,\n",
              "       [0.        , 0.        , 0.        , ..., 0.        , 0.        ,\n",
              "        0.        ],\n",
              "       [0.        , 0.        , 0.        , ..., 0.        , 0.        ,\n",
              "        0.        ],\n",
              "       [0.        , 0.        , 0.        , ..., 0.        , 0.        ,\n",
              "        0.        ]])"
            ]
          },
          "metadata": {
            "tags": []
          },
          "execution_count": 72
        }
      ]
    },
    {
      "cell_type": "markdown",
      "metadata": {
        "id": "UBVxQ8voExdL"
      },
      "source": [
        "# Prediction - Item Item"
      ]
    },
    {
      "cell_type": "code",
      "metadata": {
        "colab": {
          "base_uri": "https://localhost:8080/"
        },
        "id": "vcj-e9_BExdL",
        "outputId": "30c72d0e-9ce7-491e-e036-bd64e24705a9"
      },
      "source": [
        "item_predicted_ratings = np.dot((df_pivot.fillna(0).T),item_correlation)\n",
        "item_predicted_ratings"
      ],
      "execution_count": null,
      "outputs": [
        {
          "output_type": "execute_result",
          "data": {
            "text/plain": [
              "array([[ 5.83679879,  2.41464654,  1.94850435, ...,  0.        ,\n",
              "         0.        ,  0.        ],\n",
              "       [27.32838057, 18.73037026,  6.83694139, ...,  0.        ,\n",
              "         0.        ,  0.        ],\n",
              "       [71.07549452, 50.83081163, 16.86416369, ...,  0.        ,\n",
              "         0.        ,  0.        ],\n",
              "       ...,\n",
              "       [21.92022103, 20.39922913,  7.56019237, ...,  0.        ,\n",
              "         0.        ,  0.        ],\n",
              "       [ 0.34159079,  0.84726105,  0.66059729, ...,  0.        ,\n",
              "         0.        ,  0.        ],\n",
              "       [16.64338891, 12.69091959,  5.81227628, ...,  0.        ,\n",
              "         0.        ,  0.        ]])"
            ]
          },
          "metadata": {
            "tags": []
          },
          "execution_count": 73
        }
      ]
    },
    {
      "cell_type": "code",
      "metadata": {
        "colab": {
          "base_uri": "https://localhost:8080/"
        },
        "id": "w_wMFJu7ExdM",
        "outputId": "d55ab00c-9921-426e-aafd-58910e684915"
      },
      "source": [
        "item_predicted_ratings.shape"
      ],
      "execution_count": null,
      "outputs": [
        {
          "output_type": "execute_result",
          "data": {
            "text/plain": [
              "(2071, 12911)"
            ]
          },
          "metadata": {
            "tags": []
          },
          "execution_count": 74
        }
      ]
    },
    {
      "cell_type": "code",
      "metadata": {
        "colab": {
          "base_uri": "https://localhost:8080/"
        },
        "id": "D-O03UlpExdM",
        "outputId": "cb717f0c-abff-4a1b-a8f5-0c4cd3d77d68"
      },
      "source": [
        "dummy_train.shape"
      ],
      "execution_count": null,
      "outputs": [
        {
          "output_type": "execute_result",
          "data": {
            "text/plain": [
              "(2071, 12911)"
            ]
          },
          "metadata": {
            "tags": []
          },
          "execution_count": 75
        }
      ]
    },
    {
      "cell_type": "markdown",
      "metadata": {
        "id": "b7H4yJpaExdM"
      },
      "source": [
        "### Filtering the rating only for the movies not rated by the user for recommendation"
      ]
    },
    {
      "cell_type": "code",
      "metadata": {
        "colab": {
          "base_uri": "https://localhost:8080/",
          "height": 282
        },
        "id": "_AfkZebKExdM",
        "outputId": "563fc35a-981f-4d97-8e79-5c3c6cbb2323"
      },
      "source": [
        "item_final_rating = np.multiply(item_predicted_ratings,dummy_train)\n",
        "item_final_rating.head()"
      ],
      "execution_count": null,
      "outputs": [
        {
          "output_type": "execute_result",
          "data": {
            "text/html": [
              "<div>\n",
              "<style scoped>\n",
              "    .dataframe tbody tr th:only-of-type {\n",
              "        vertical-align: middle;\n",
              "    }\n",
              "\n",
              "    .dataframe tbody tr th {\n",
              "        vertical-align: top;\n",
              "    }\n",
              "\n",
              "    .dataframe thead th {\n",
              "        text-align: right;\n",
              "    }\n",
              "</style>\n",
              "<table border=\"1\" class=\"dataframe\">\n",
              "  <thead>\n",
              "    <tr style=\"text-align: right;\">\n",
              "      <th>movieId</th>\n",
              "      <th>1</th>\n",
              "      <th>2</th>\n",
              "      <th>3</th>\n",
              "      <th>4</th>\n",
              "      <th>5</th>\n",
              "      <th>6</th>\n",
              "      <th>7</th>\n",
              "      <th>8</th>\n",
              "      <th>9</th>\n",
              "      <th>10</th>\n",
              "      <th>11</th>\n",
              "      <th>12</th>\n",
              "      <th>13</th>\n",
              "      <th>14</th>\n",
              "      <th>15</th>\n",
              "      <th>16</th>\n",
              "      <th>17</th>\n",
              "      <th>18</th>\n",
              "      <th>19</th>\n",
              "      <th>20</th>\n",
              "      <th>21</th>\n",
              "      <th>22</th>\n",
              "      <th>23</th>\n",
              "      <th>24</th>\n",
              "      <th>25</th>\n",
              "      <th>26</th>\n",
              "      <th>27</th>\n",
              "      <th>28</th>\n",
              "      <th>29</th>\n",
              "      <th>30</th>\n",
              "      <th>31</th>\n",
              "      <th>32</th>\n",
              "      <th>33</th>\n",
              "      <th>34</th>\n",
              "      <th>35</th>\n",
              "      <th>36</th>\n",
              "      <th>38</th>\n",
              "      <th>39</th>\n",
              "      <th>40</th>\n",
              "      <th>41</th>\n",
              "      <th>...</th>\n",
              "      <th>202439</th>\n",
              "      <th>202599</th>\n",
              "      <th>202759</th>\n",
              "      <th>202934</th>\n",
              "      <th>203066</th>\n",
              "      <th>203182</th>\n",
              "      <th>203204</th>\n",
              "      <th>203212</th>\n",
              "      <th>203218</th>\n",
              "      <th>203222</th>\n",
              "      <th>203244</th>\n",
              "      <th>203322</th>\n",
              "      <th>203375</th>\n",
              "      <th>203513</th>\n",
              "      <th>203519</th>\n",
              "      <th>203723</th>\n",
              "      <th>203950</th>\n",
              "      <th>204198</th>\n",
              "      <th>204294</th>\n",
              "      <th>204342</th>\n",
              "      <th>204504</th>\n",
              "      <th>204542</th>\n",
              "      <th>204698</th>\n",
              "      <th>204832</th>\n",
              "      <th>205072</th>\n",
              "      <th>205383</th>\n",
              "      <th>205413</th>\n",
              "      <th>205557</th>\n",
              "      <th>205583</th>\n",
              "      <th>205945</th>\n",
              "      <th>205967</th>\n",
              "      <th>206272</th>\n",
              "      <th>206293</th>\n",
              "      <th>206499</th>\n",
              "      <th>206523</th>\n",
              "      <th>206845</th>\n",
              "      <th>206861</th>\n",
              "      <th>207309</th>\n",
              "      <th>208002</th>\n",
              "      <th>208793</th>\n",
              "    </tr>\n",
              "    <tr>\n",
              "      <th>userId</th>\n",
              "      <th></th>\n",
              "      <th></th>\n",
              "      <th></th>\n",
              "      <th></th>\n",
              "      <th></th>\n",
              "      <th></th>\n",
              "      <th></th>\n",
              "      <th></th>\n",
              "      <th></th>\n",
              "      <th></th>\n",
              "      <th></th>\n",
              "      <th></th>\n",
              "      <th></th>\n",
              "      <th></th>\n",
              "      <th></th>\n",
              "      <th></th>\n",
              "      <th></th>\n",
              "      <th></th>\n",
              "      <th></th>\n",
              "      <th></th>\n",
              "      <th></th>\n",
              "      <th></th>\n",
              "      <th></th>\n",
              "      <th></th>\n",
              "      <th></th>\n",
              "      <th></th>\n",
              "      <th></th>\n",
              "      <th></th>\n",
              "      <th></th>\n",
              "      <th></th>\n",
              "      <th></th>\n",
              "      <th></th>\n",
              "      <th></th>\n",
              "      <th></th>\n",
              "      <th></th>\n",
              "      <th></th>\n",
              "      <th></th>\n",
              "      <th></th>\n",
              "      <th></th>\n",
              "      <th></th>\n",
              "      <th></th>\n",
              "      <th></th>\n",
              "      <th></th>\n",
              "      <th></th>\n",
              "      <th></th>\n",
              "      <th></th>\n",
              "      <th></th>\n",
              "      <th></th>\n",
              "      <th></th>\n",
              "      <th></th>\n",
              "      <th></th>\n",
              "      <th></th>\n",
              "      <th></th>\n",
              "      <th></th>\n",
              "      <th></th>\n",
              "      <th></th>\n",
              "      <th></th>\n",
              "      <th></th>\n",
              "      <th></th>\n",
              "      <th></th>\n",
              "      <th></th>\n",
              "      <th></th>\n",
              "      <th></th>\n",
              "      <th></th>\n",
              "      <th></th>\n",
              "      <th></th>\n",
              "      <th></th>\n",
              "      <th></th>\n",
              "      <th></th>\n",
              "      <th></th>\n",
              "      <th></th>\n",
              "      <th></th>\n",
              "      <th></th>\n",
              "      <th></th>\n",
              "      <th></th>\n",
              "      <th></th>\n",
              "      <th></th>\n",
              "      <th></th>\n",
              "      <th></th>\n",
              "      <th></th>\n",
              "      <th></th>\n",
              "    </tr>\n",
              "  </thead>\n",
              "  <tbody>\n",
              "    <tr>\n",
              "      <th>1</th>\n",
              "      <td>5.836799</td>\n",
              "      <td>2.414647</td>\n",
              "      <td>1.948504</td>\n",
              "      <td>1.053313</td>\n",
              "      <td>1.664116</td>\n",
              "      <td>2.900967</td>\n",
              "      <td>1.464508</td>\n",
              "      <td>0.875935</td>\n",
              "      <td>1.481628</td>\n",
              "      <td>3.313284</td>\n",
              "      <td>1.102115</td>\n",
              "      <td>1.359496</td>\n",
              "      <td>1.377499</td>\n",
              "      <td>1.946804</td>\n",
              "      <td>1.336029</td>\n",
              "      <td>5.331667</td>\n",
              "      <td>3.172505</td>\n",
              "      <td>2.304680</td>\n",
              "      <td>2.634617</td>\n",
              "      <td>1.016137</td>\n",
              "      <td>2.409931</td>\n",
              "      <td>1.691307</td>\n",
              "      <td>1.918475</td>\n",
              "      <td>1.416901</td>\n",
              "      <td>1.893220</td>\n",
              "      <td>1.320966</td>\n",
              "      <td>1.183438</td>\n",
              "      <td>2.636449</td>\n",
              "      <td>3.362342</td>\n",
              "      <td>0.822741</td>\n",
              "      <td>2.399006</td>\n",
              "      <td>4.394929</td>\n",
              "      <td>0.0</td>\n",
              "      <td>3.725530</td>\n",
              "      <td>1.615948</td>\n",
              "      <td>3.287521</td>\n",
              "      <td>0.000000</td>\n",
              "      <td>3.395454</td>\n",
              "      <td>3.145430</td>\n",
              "      <td>2.419277</td>\n",
              "      <td>...</td>\n",
              "      <td>1.179661</td>\n",
              "      <td>0.0</td>\n",
              "      <td>0.0</td>\n",
              "      <td>0.0</td>\n",
              "      <td>0.0</td>\n",
              "      <td>0.0</td>\n",
              "      <td>0.0</td>\n",
              "      <td>0.0</td>\n",
              "      <td>1.546872</td>\n",
              "      <td>0.0</td>\n",
              "      <td>0.701731</td>\n",
              "      <td>0.0</td>\n",
              "      <td>0.081968</td>\n",
              "      <td>0.0</td>\n",
              "      <td>0.0</td>\n",
              "      <td>0.0</td>\n",
              "      <td>0.0</td>\n",
              "      <td>0.0</td>\n",
              "      <td>0.0</td>\n",
              "      <td>0.0</td>\n",
              "      <td>0.0</td>\n",
              "      <td>0.0</td>\n",
              "      <td>4.439799</td>\n",
              "      <td>0.0</td>\n",
              "      <td>0.0</td>\n",
              "      <td>0.457219</td>\n",
              "      <td>0.0</td>\n",
              "      <td>0.0</td>\n",
              "      <td>0.0</td>\n",
              "      <td>0.0</td>\n",
              "      <td>0.0</td>\n",
              "      <td>0.0</td>\n",
              "      <td>0.0</td>\n",
              "      <td>0.0</td>\n",
              "      <td>0.0</td>\n",
              "      <td>0.0</td>\n",
              "      <td>0.0</td>\n",
              "      <td>0.0</td>\n",
              "      <td>0.0</td>\n",
              "      <td>0.0</td>\n",
              "    </tr>\n",
              "    <tr>\n",
              "      <th>2</th>\n",
              "      <td>0.000000</td>\n",
              "      <td>18.730370</td>\n",
              "      <td>6.836941</td>\n",
              "      <td>9.363118</td>\n",
              "      <td>8.222216</td>\n",
              "      <td>13.292342</td>\n",
              "      <td>9.611464</td>\n",
              "      <td>3.705273</td>\n",
              "      <td>9.897551</td>\n",
              "      <td>21.484258</td>\n",
              "      <td>12.570877</td>\n",
              "      <td>10.287221</td>\n",
              "      <td>7.866425</td>\n",
              "      <td>9.498181</td>\n",
              "      <td>5.334188</td>\n",
              "      <td>13.193283</td>\n",
              "      <td>9.741122</td>\n",
              "      <td>4.812225</td>\n",
              "      <td>14.879701</td>\n",
              "      <td>12.377068</td>\n",
              "      <td>12.409858</td>\n",
              "      <td>10.931229</td>\n",
              "      <td>9.433581</td>\n",
              "      <td>11.600822</td>\n",
              "      <td>9.048906</td>\n",
              "      <td>4.787380</td>\n",
              "      <td>4.438859</td>\n",
              "      <td>6.193937</td>\n",
              "      <td>6.149578</td>\n",
              "      <td>5.683170</td>\n",
              "      <td>7.751338</td>\n",
              "      <td>14.194265</td>\n",
              "      <td>0.0</td>\n",
              "      <td>21.333264</td>\n",
              "      <td>4.433457</td>\n",
              "      <td>10.948242</td>\n",
              "      <td>2.440009</td>\n",
              "      <td>16.064186</td>\n",
              "      <td>11.429770</td>\n",
              "      <td>7.405310</td>\n",
              "      <td>...</td>\n",
              "      <td>4.268891</td>\n",
              "      <td>0.0</td>\n",
              "      <td>0.0</td>\n",
              "      <td>0.0</td>\n",
              "      <td>0.0</td>\n",
              "      <td>0.0</td>\n",
              "      <td>0.0</td>\n",
              "      <td>0.0</td>\n",
              "      <td>0.125503</td>\n",
              "      <td>0.0</td>\n",
              "      <td>3.524765</td>\n",
              "      <td>0.0</td>\n",
              "      <td>1.660968</td>\n",
              "      <td>0.0</td>\n",
              "      <td>0.0</td>\n",
              "      <td>0.0</td>\n",
              "      <td>0.0</td>\n",
              "      <td>0.0</td>\n",
              "      <td>0.0</td>\n",
              "      <td>0.0</td>\n",
              "      <td>0.0</td>\n",
              "      <td>0.0</td>\n",
              "      <td>12.640216</td>\n",
              "      <td>0.0</td>\n",
              "      <td>0.0</td>\n",
              "      <td>9.247180</td>\n",
              "      <td>0.0</td>\n",
              "      <td>0.0</td>\n",
              "      <td>0.0</td>\n",
              "      <td>0.0</td>\n",
              "      <td>0.0</td>\n",
              "      <td>0.0</td>\n",
              "      <td>0.0</td>\n",
              "      <td>0.0</td>\n",
              "      <td>0.0</td>\n",
              "      <td>0.0</td>\n",
              "      <td>0.0</td>\n",
              "      <td>0.0</td>\n",
              "      <td>0.0</td>\n",
              "      <td>0.0</td>\n",
              "    </tr>\n",
              "    <tr>\n",
              "      <th>3</th>\n",
              "      <td>71.075495</td>\n",
              "      <td>50.830812</td>\n",
              "      <td>16.864164</td>\n",
              "      <td>36.129112</td>\n",
              "      <td>17.996283</td>\n",
              "      <td>36.056161</td>\n",
              "      <td>19.455536</td>\n",
              "      <td>26.062272</td>\n",
              "      <td>32.047686</td>\n",
              "      <td>42.683568</td>\n",
              "      <td>27.520109</td>\n",
              "      <td>61.090367</td>\n",
              "      <td>39.547316</td>\n",
              "      <td>31.233267</td>\n",
              "      <td>5.282064</td>\n",
              "      <td>45.232143</td>\n",
              "      <td>37.386436</td>\n",
              "      <td>16.083796</td>\n",
              "      <td>40.785107</td>\n",
              "      <td>16.185328</td>\n",
              "      <td>26.430657</td>\n",
              "      <td>42.244606</td>\n",
              "      <td>53.017020</td>\n",
              "      <td>26.684270</td>\n",
              "      <td>19.123080</td>\n",
              "      <td>10.848638</td>\n",
              "      <td>16.203299</td>\n",
              "      <td>19.879640</td>\n",
              "      <td>19.295139</td>\n",
              "      <td>14.518257</td>\n",
              "      <td>28.043347</td>\n",
              "      <td>0.000000</td>\n",
              "      <td>0.0</td>\n",
              "      <td>47.039861</td>\n",
              "      <td>5.779081</td>\n",
              "      <td>33.667706</td>\n",
              "      <td>1.008682</td>\n",
              "      <td>35.253629</td>\n",
              "      <td>44.934213</td>\n",
              "      <td>28.206781</td>\n",
              "      <td>...</td>\n",
              "      <td>27.954654</td>\n",
              "      <td>0.0</td>\n",
              "      <td>0.0</td>\n",
              "      <td>0.0</td>\n",
              "      <td>0.0</td>\n",
              "      <td>0.0</td>\n",
              "      <td>0.0</td>\n",
              "      <td>0.0</td>\n",
              "      <td>7.657680</td>\n",
              "      <td>0.0</td>\n",
              "      <td>53.357426</td>\n",
              "      <td>0.0</td>\n",
              "      <td>5.268821</td>\n",
              "      <td>0.0</td>\n",
              "      <td>0.0</td>\n",
              "      <td>0.0</td>\n",
              "      <td>0.0</td>\n",
              "      <td>0.0</td>\n",
              "      <td>0.0</td>\n",
              "      <td>0.0</td>\n",
              "      <td>0.0</td>\n",
              "      <td>0.0</td>\n",
              "      <td>93.277304</td>\n",
              "      <td>0.0</td>\n",
              "      <td>0.0</td>\n",
              "      <td>48.294710</td>\n",
              "      <td>0.0</td>\n",
              "      <td>0.0</td>\n",
              "      <td>0.0</td>\n",
              "      <td>0.0</td>\n",
              "      <td>0.0</td>\n",
              "      <td>0.0</td>\n",
              "      <td>0.0</td>\n",
              "      <td>0.0</td>\n",
              "      <td>0.0</td>\n",
              "      <td>0.0</td>\n",
              "      <td>0.0</td>\n",
              "      <td>0.0</td>\n",
              "      <td>0.0</td>\n",
              "      <td>0.0</td>\n",
              "    </tr>\n",
              "    <tr>\n",
              "      <th>4</th>\n",
              "      <td>0.000000</td>\n",
              "      <td>16.289441</td>\n",
              "      <td>6.163784</td>\n",
              "      <td>6.882548</td>\n",
              "      <td>5.744073</td>\n",
              "      <td>13.938653</td>\n",
              "      <td>5.300006</td>\n",
              "      <td>8.632429</td>\n",
              "      <td>8.484791</td>\n",
              "      <td>15.868870</td>\n",
              "      <td>7.068904</td>\n",
              "      <td>18.022130</td>\n",
              "      <td>10.858236</td>\n",
              "      <td>10.340895</td>\n",
              "      <td>2.142233</td>\n",
              "      <td>17.976587</td>\n",
              "      <td>12.023357</td>\n",
              "      <td>3.266670</td>\n",
              "      <td>15.553435</td>\n",
              "      <td>7.725462</td>\n",
              "      <td>12.171769</td>\n",
              "      <td>9.115309</td>\n",
              "      <td>17.054987</td>\n",
              "      <td>7.449948</td>\n",
              "      <td>6.094116</td>\n",
              "      <td>3.761508</td>\n",
              "      <td>4.607504</td>\n",
              "      <td>7.811523</td>\n",
              "      <td>5.119653</td>\n",
              "      <td>5.381298</td>\n",
              "      <td>7.681701</td>\n",
              "      <td>18.512415</td>\n",
              "      <td>0.0</td>\n",
              "      <td>17.331468</td>\n",
              "      <td>1.890455</td>\n",
              "      <td>11.455449</td>\n",
              "      <td>1.052716</td>\n",
              "      <td>14.858025</td>\n",
              "      <td>12.627695</td>\n",
              "      <td>7.829542</td>\n",
              "      <td>...</td>\n",
              "      <td>8.776493</td>\n",
              "      <td>0.0</td>\n",
              "      <td>0.0</td>\n",
              "      <td>0.0</td>\n",
              "      <td>0.0</td>\n",
              "      <td>0.0</td>\n",
              "      <td>0.0</td>\n",
              "      <td>0.0</td>\n",
              "      <td>1.433791</td>\n",
              "      <td>0.0</td>\n",
              "      <td>19.421290</td>\n",
              "      <td>0.0</td>\n",
              "      <td>0.000000</td>\n",
              "      <td>0.0</td>\n",
              "      <td>0.0</td>\n",
              "      <td>0.0</td>\n",
              "      <td>0.0</td>\n",
              "      <td>0.0</td>\n",
              "      <td>0.0</td>\n",
              "      <td>0.0</td>\n",
              "      <td>0.0</td>\n",
              "      <td>0.0</td>\n",
              "      <td>44.619777</td>\n",
              "      <td>0.0</td>\n",
              "      <td>0.0</td>\n",
              "      <td>17.844855</td>\n",
              "      <td>0.0</td>\n",
              "      <td>0.0</td>\n",
              "      <td>0.0</td>\n",
              "      <td>0.0</td>\n",
              "      <td>0.0</td>\n",
              "      <td>0.0</td>\n",
              "      <td>0.0</td>\n",
              "      <td>0.0</td>\n",
              "      <td>0.0</td>\n",
              "      <td>0.0</td>\n",
              "      <td>0.0</td>\n",
              "      <td>0.0</td>\n",
              "      <td>0.0</td>\n",
              "      <td>0.0</td>\n",
              "    </tr>\n",
              "    <tr>\n",
              "      <th>5</th>\n",
              "      <td>0.000000</td>\n",
              "      <td>14.295191</td>\n",
              "      <td>7.947143</td>\n",
              "      <td>6.407635</td>\n",
              "      <td>7.038309</td>\n",
              "      <td>7.613087</td>\n",
              "      <td>5.866075</td>\n",
              "      <td>5.893830</td>\n",
              "      <td>8.269718</td>\n",
              "      <td>14.117642</td>\n",
              "      <td>12.441575</td>\n",
              "      <td>7.698015</td>\n",
              "      <td>5.541342</td>\n",
              "      <td>4.908702</td>\n",
              "      <td>4.499263</td>\n",
              "      <td>10.298705</td>\n",
              "      <td>7.104078</td>\n",
              "      <td>8.378062</td>\n",
              "      <td>0.000000</td>\n",
              "      <td>9.927177</td>\n",
              "      <td>9.891820</td>\n",
              "      <td>11.969391</td>\n",
              "      <td>9.993500</td>\n",
              "      <td>10.590708</td>\n",
              "      <td>8.241523</td>\n",
              "      <td>3.209154</td>\n",
              "      <td>5.390730</td>\n",
              "      <td>2.856468</td>\n",
              "      <td>5.802585</td>\n",
              "      <td>5.957798</td>\n",
              "      <td>11.551173</td>\n",
              "      <td>8.406005</td>\n",
              "      <td>0.0</td>\n",
              "      <td>13.986785</td>\n",
              "      <td>4.263240</td>\n",
              "      <td>0.000000</td>\n",
              "      <td>3.780995</td>\n",
              "      <td>0.000000</td>\n",
              "      <td>10.168428</td>\n",
              "      <td>8.421631</td>\n",
              "      <td>...</td>\n",
              "      <td>1.497611</td>\n",
              "      <td>0.0</td>\n",
              "      <td>0.0</td>\n",
              "      <td>0.0</td>\n",
              "      <td>0.0</td>\n",
              "      <td>0.0</td>\n",
              "      <td>0.0</td>\n",
              "      <td>0.0</td>\n",
              "      <td>0.231581</td>\n",
              "      <td>0.0</td>\n",
              "      <td>1.206331</td>\n",
              "      <td>0.0</td>\n",
              "      <td>0.702955</td>\n",
              "      <td>0.0</td>\n",
              "      <td>0.0</td>\n",
              "      <td>0.0</td>\n",
              "      <td>0.0</td>\n",
              "      <td>0.0</td>\n",
              "      <td>0.0</td>\n",
              "      <td>0.0</td>\n",
              "      <td>0.0</td>\n",
              "      <td>0.0</td>\n",
              "      <td>7.815940</td>\n",
              "      <td>0.0</td>\n",
              "      <td>0.0</td>\n",
              "      <td>4.258672</td>\n",
              "      <td>0.0</td>\n",
              "      <td>0.0</td>\n",
              "      <td>0.0</td>\n",
              "      <td>0.0</td>\n",
              "      <td>0.0</td>\n",
              "      <td>0.0</td>\n",
              "      <td>0.0</td>\n",
              "      <td>0.0</td>\n",
              "      <td>0.0</td>\n",
              "      <td>0.0</td>\n",
              "      <td>0.0</td>\n",
              "      <td>0.0</td>\n",
              "      <td>0.0</td>\n",
              "      <td>0.0</td>\n",
              "    </tr>\n",
              "  </tbody>\n",
              "</table>\n",
              "<p>5 rows × 12911 columns</p>\n",
              "</div>"
            ],
            "text/plain": [
              "movieId     1          2          3       ...  207309  208002  208793\n",
              "userId                                    ...                        \n",
              "1         5.836799   2.414647   1.948504  ...     0.0     0.0     0.0\n",
              "2         0.000000  18.730370   6.836941  ...     0.0     0.0     0.0\n",
              "3        71.075495  50.830812  16.864164  ...     0.0     0.0     0.0\n",
              "4         0.000000  16.289441   6.163784  ...     0.0     0.0     0.0\n",
              "5         0.000000  14.295191   7.947143  ...     0.0     0.0     0.0\n",
              "\n",
              "[5 rows x 12911 columns]"
            ]
          },
          "metadata": {
            "tags": []
          },
          "execution_count": 76
        }
      ]
    },
    {
      "cell_type": "markdown",
      "metadata": {
        "id": "WPn1Dz8LExdM"
      },
      "source": [
        "### Finding the top 5 recommendation for the *user*\n",
        "\n"
      ]
    },
    {
      "cell_type": "code",
      "metadata": {
        "id": "tQZl7CAgUiSH",
        "colab": {
          "base_uri": "https://localhost:8080/"
        },
        "outputId": "bcc0fb24-3e92-4a07-a51f-179b39cc4669"
      },
      "source": [
        "# Take the user ID as input\n",
        "user_input = int(input(\"Enter your user name\"))\n",
        "print(user_input)"
      ],
      "execution_count": null,
      "outputs": [
        {
          "output_type": "stream",
          "text": [
            "Enter your user name1\n",
            "1\n"
          ],
          "name": "stdout"
        }
      ]
    },
    {
      "cell_type": "code",
      "metadata": {
        "id": "-4T_IOaXUjXK",
        "colab": {
          "base_uri": "https://localhost:8080/"
        },
        "outputId": "107b71dc-30e9-44a8-8d90-627e33766732"
      },
      "source": [
        "# Recommending the Top 5 products to the user.\n",
        "d = item_final_rating.loc[user_input].sort_values(ascending=False)[0:5]\n",
        "d"
      ],
      "execution_count": null,
      "outputs": [
        {
          "output_type": "execute_result",
          "data": {
            "text/plain": [
              "movieId\n",
              "27834    11.945502\n",
              "7637     11.690961\n",
              "3559     11.530296\n",
              "5269     11.355734\n",
              "6440     11.349935\n",
              "Name: 1, dtype: float64"
            ]
          },
          "metadata": {
            "tags": []
          },
          "execution_count": 78
        }
      ]
    },
    {
      "cell_type": "code",
      "metadata": {
        "id": "7uwU_WtwWoFO"
      },
      "source": [
        "#Mapping with Movie Title / Genres \n",
        "movie_mapping = pd.read_csv('https://raw.githubusercontent.com/antrikshsaxena/NLPCapstone/main/movies.csv', encoding='latin-1')"
      ],
      "execution_count": null,
      "outputs": []
    },
    {
      "cell_type": "code",
      "metadata": {
        "id": "Tttoz7JrWYo2",
        "colab": {
          "base_uri": "https://localhost:8080/",
          "height": 202
        },
        "outputId": "5eec0f8a-39bf-44a8-8409-8e53b65f47b5"
      },
      "source": [
        "d = pd.merge(d,movie_mapping,left_on='movieId',right_on='movieId',how = 'left')\n",
        "d.head()"
      ],
      "execution_count": null,
      "outputs": [
        {
          "output_type": "execute_result",
          "data": {
            "text/html": [
              "<div>\n",
              "<style scoped>\n",
              "    .dataframe tbody tr th:only-of-type {\n",
              "        vertical-align: middle;\n",
              "    }\n",
              "\n",
              "    .dataframe tbody tr th {\n",
              "        vertical-align: top;\n",
              "    }\n",
              "\n",
              "    .dataframe thead th {\n",
              "        text-align: right;\n",
              "    }\n",
              "</style>\n",
              "<table border=\"1\" class=\"dataframe\">\n",
              "  <thead>\n",
              "    <tr style=\"text-align: right;\">\n",
              "      <th></th>\n",
              "      <th>movieId</th>\n",
              "      <th>1</th>\n",
              "      <th>title</th>\n",
              "      <th>genres</th>\n",
              "    </tr>\n",
              "  </thead>\n",
              "  <tbody>\n",
              "    <tr>\n",
              "      <th>0</th>\n",
              "      <td>27834</td>\n",
              "      <td>11.945502</td>\n",
              "      <td>Return, The (Vozvrashcheniye) (2003)</td>\n",
              "      <td>Drama</td>\n",
              "    </tr>\n",
              "    <tr>\n",
              "      <th>1</th>\n",
              "      <td>7637</td>\n",
              "      <td>11.690961</td>\n",
              "      <td>Irma Vep (1996)</td>\n",
              "      <td>Comedy|Drama</td>\n",
              "    </tr>\n",
              "    <tr>\n",
              "      <th>2</th>\n",
              "      <td>3559</td>\n",
              "      <td>11.530296</td>\n",
              "      <td>Limelight (1952)</td>\n",
              "      <td>Comedy|Drama|Romance</td>\n",
              "    </tr>\n",
              "    <tr>\n",
              "      <th>3</th>\n",
              "      <td>5269</td>\n",
              "      <td>11.355734</td>\n",
              "      <td>Piano Teacher, The (La pianiste) (2001)</td>\n",
              "      <td>Drama</td>\n",
              "    </tr>\n",
              "    <tr>\n",
              "      <th>4</th>\n",
              "      <td>6440</td>\n",
              "      <td>11.349935</td>\n",
              "      <td>Barton Fink (1991)</td>\n",
              "      <td>Drama|Thriller</td>\n",
              "    </tr>\n",
              "  </tbody>\n",
              "</table>\n",
              "</div>"
            ],
            "text/plain": [
              "   movieId  ...                genres\n",
              "0    27834  ...                 Drama\n",
              "1     7637  ...          Comedy|Drama\n",
              "2     3559  ...  Comedy|Drama|Romance\n",
              "3     5269  ...                 Drama\n",
              "4     6440  ...        Drama|Thriller\n",
              "\n",
              "[5 rows x 4 columns]"
            ]
          },
          "metadata": {
            "tags": []
          },
          "execution_count": 80
        }
      ]
    },
    {
      "cell_type": "code",
      "metadata": {
        "colab": {
          "base_uri": "https://localhost:8080/",
          "height": 202
        },
        "id": "fg2NiPS2ExdN",
        "outputId": "82303f56-1176-4350-e1c5-d3e3271af88f"
      },
      "source": [
        "train_new = pd.merge(train,movie_mapping,left_on='movieId',right_on='movieId',how='left')\n",
        "train_new[train_new.userId == 1] .head()"
      ],
      "execution_count": null,
      "outputs": [
        {
          "output_type": "execute_result",
          "data": {
            "text/html": [
              "<div>\n",
              "<style scoped>\n",
              "    .dataframe tbody tr th:only-of-type {\n",
              "        vertical-align: middle;\n",
              "    }\n",
              "\n",
              "    .dataframe tbody tr th {\n",
              "        vertical-align: top;\n",
              "    }\n",
              "\n",
              "    .dataframe thead th {\n",
              "        text-align: right;\n",
              "    }\n",
              "</style>\n",
              "<table border=\"1\" class=\"dataframe\">\n",
              "  <thead>\n",
              "    <tr style=\"text-align: right;\">\n",
              "      <th></th>\n",
              "      <th>userId</th>\n",
              "      <th>movieId</th>\n",
              "      <th>rating</th>\n",
              "      <th>timestamp</th>\n",
              "      <th>title</th>\n",
              "      <th>genres</th>\n",
              "    </tr>\n",
              "  </thead>\n",
              "  <tbody>\n",
              "    <tr>\n",
              "      <th>2866</th>\n",
              "      <td>1</td>\n",
              "      <td>8973</td>\n",
              "      <td>4.0</td>\n",
              "      <td>1147869211</td>\n",
              "      <td>Bad Education (La mala educaciÃ³n) (2004)</td>\n",
              "      <td>Drama|Thriller</td>\n",
              "    </tr>\n",
              "    <tr>\n",
              "      <th>4548</th>\n",
              "      <td>1</td>\n",
              "      <td>7318</td>\n",
              "      <td>2.0</td>\n",
              "      <td>1147879850</td>\n",
              "      <td>Passion of the Christ, The (2004)</td>\n",
              "      <td>Drama</td>\n",
              "    </tr>\n",
              "    <tr>\n",
              "      <th>11584</th>\n",
              "      <td>1</td>\n",
              "      <td>4144</td>\n",
              "      <td>5.0</td>\n",
              "      <td>1147868898</td>\n",
              "      <td>In the Mood For Love (Fa yeung nin wa) (2000)</td>\n",
              "      <td>Drama|Romance</td>\n",
              "    </tr>\n",
              "    <tr>\n",
              "      <th>13280</th>\n",
              "      <td>1</td>\n",
              "      <td>8327</td>\n",
              "      <td>5.0</td>\n",
              "      <td>1147879375</td>\n",
              "      <td>Dolls (2002)</td>\n",
              "      <td>Drama|Romance</td>\n",
              "    </tr>\n",
              "    <tr>\n",
              "      <th>17280</th>\n",
              "      <td>1</td>\n",
              "      <td>1260</td>\n",
              "      <td>3.5</td>\n",
              "      <td>1147877857</td>\n",
              "      <td>M (1931)</td>\n",
              "      <td>Crime|Film-Noir|Thriller</td>\n",
              "    </tr>\n",
              "  </tbody>\n",
              "</table>\n",
              "</div>"
            ],
            "text/plain": [
              "       userId  ...                    genres\n",
              "2866        1  ...            Drama|Thriller\n",
              "4548        1  ...                     Drama\n",
              "11584       1  ...             Drama|Romance\n",
              "13280       1  ...             Drama|Romance\n",
              "17280       1  ...  Crime|Film-Noir|Thriller\n",
              "\n",
              "[5 rows x 6 columns]"
            ]
          },
          "metadata": {
            "tags": []
          },
          "execution_count": 81
        }
      ]
    },
    {
      "cell_type": "markdown",
      "metadata": {
        "id": "jjg4AQbcExdN"
      },
      "source": [
        "# Evaluation - Item Item"
      ]
    },
    {
      "cell_type": "markdown",
      "metadata": {
        "id": "qtw9ebU1ExdN"
      },
      "source": [
        "Evaluation will we same as you have seen above for the prediction. The only difference being, you will evaluate for the movie already rated by the user insead of predicting it for the movie not rated by the user. "
      ]
    },
    {
      "cell_type": "code",
      "metadata": {
        "id": "C-EiZ7gNAUQS",
        "colab": {
          "base_uri": "https://localhost:8080/"
        },
        "outputId": "41dd5ab1-d790-4620-b61b-77ec12cb73fe"
      },
      "source": [
        "test.columns"
      ],
      "execution_count": null,
      "outputs": [
        {
          "output_type": "execute_result",
          "data": {
            "text/plain": [
              "Index(['userId', 'movieId', 'rating', 'timestamp'], dtype='object')"
            ]
          },
          "metadata": {
            "tags": []
          },
          "execution_count": 124
        }
      ]
    },
    {
      "cell_type": "code",
      "metadata": {
        "id": "d_ExtVCaWiEq",
        "colab": {
          "base_uri": "https://localhost:8080/"
        },
        "outputId": "5e986076-94d9-4ed4-aa78-26b2b99eec6d"
      },
      "source": [
        "common =  test[test.movieId.isin(train.movieId)]\n",
        "common.shape"
      ],
      "execution_count": null,
      "outputs": [
        {
          "output_type": "execute_result",
          "data": {
            "text/plain": [
              "(88035, 4)"
            ]
          },
          "metadata": {
            "tags": []
          },
          "execution_count": 125
        }
      ]
    },
    {
      "cell_type": "code",
      "metadata": {
        "id": "uXgx9w9c0ti5",
        "colab": {
          "base_uri": "https://localhost:8080/",
          "height": 171
        },
        "outputId": "55285ae8-c3f1-45cb-d3d4-1461e21c21d6"
      },
      "source": [
        "common.head(4)"
      ],
      "execution_count": null,
      "outputs": [
        {
          "output_type": "execute_result",
          "data": {
            "text/html": [
              "<div>\n",
              "<style scoped>\n",
              "    .dataframe tbody tr th:only-of-type {\n",
              "        vertical-align: middle;\n",
              "    }\n",
              "\n",
              "    .dataframe tbody tr th {\n",
              "        vertical-align: top;\n",
              "    }\n",
              "\n",
              "    .dataframe thead th {\n",
              "        text-align: right;\n",
              "    }\n",
              "</style>\n",
              "<table border=\"1\" class=\"dataframe\">\n",
              "  <thead>\n",
              "    <tr style=\"text-align: right;\">\n",
              "      <th></th>\n",
              "      <th>userId</th>\n",
              "      <th>movieId</th>\n",
              "      <th>rating</th>\n",
              "      <th>timestamp</th>\n",
              "    </tr>\n",
              "  </thead>\n",
              "  <tbody>\n",
              "    <tr>\n",
              "      <th>29643</th>\n",
              "      <td>226</td>\n",
              "      <td>3156</td>\n",
              "      <td>1.0</td>\n",
              "      <td>1059516139</td>\n",
              "    </tr>\n",
              "    <tr>\n",
              "      <th>152649</th>\n",
              "      <td>1074</td>\n",
              "      <td>2194</td>\n",
              "      <td>3.0</td>\n",
              "      <td>906133915</td>\n",
              "    </tr>\n",
              "    <tr>\n",
              "      <th>123175</th>\n",
              "      <td>886</td>\n",
              "      <td>4886</td>\n",
              "      <td>3.5</td>\n",
              "      <td>1168350634</td>\n",
              "    </tr>\n",
              "    <tr>\n",
              "      <th>23712</th>\n",
              "      <td>185</td>\n",
              "      <td>1101</td>\n",
              "      <td>4.0</td>\n",
              "      <td>1191923488</td>\n",
              "    </tr>\n",
              "  </tbody>\n",
              "</table>\n",
              "</div>"
            ],
            "text/plain": [
              "        userId  movieId  rating   timestamp\n",
              "29643      226     3156     1.0  1059516139\n",
              "152649    1074     2194     3.0   906133915\n",
              "123175     886     4886     3.5  1168350634\n",
              "23712      185     1101     4.0  1191923488"
            ]
          },
          "metadata": {
            "tags": []
          },
          "execution_count": 126
        }
      ]
    },
    {
      "cell_type": "code",
      "metadata": {
        "id": "3xinGmbxHdsL"
      },
      "source": [
        "common_item_based_matrix = common.pivot_table(index='userId', columns='movieId', values='rating').T"
      ],
      "execution_count": null,
      "outputs": []
    },
    {
      "cell_type": "code",
      "metadata": {
        "id": "bj7SQa36H2tC",
        "colab": {
          "base_uri": "https://localhost:8080/"
        },
        "outputId": "c9ecdd10-359a-4915-9372-c1c4bb6a8f31"
      },
      "source": [
        "common_item_based_matrix.shape"
      ],
      "execution_count": null,
      "outputs": [
        {
          "output_type": "execute_result",
          "data": {
            "text/plain": [
              "(7783, 2071)"
            ]
          },
          "metadata": {
            "tags": []
          },
          "execution_count": 128
        }
      ]
    },
    {
      "cell_type": "code",
      "metadata": {
        "id": "n80CcpaX1UQ8"
      },
      "source": [
        "item_correlation_df = pd.DataFrame(item_correlation)"
      ],
      "execution_count": null,
      "outputs": []
    },
    {
      "cell_type": "code",
      "metadata": {
        "id": "OTOgMuup1g_G",
        "colab": {
          "base_uri": "https://localhost:8080/",
          "height": 129
        },
        "outputId": "fcd743eb-d825-4432-da42-94720a7d99cf"
      },
      "source": [
        "item_correlation_df.head(1)"
      ],
      "execution_count": null,
      "outputs": [
        {
          "output_type": "execute_result",
          "data": {
            "text/html": [
              "<div>\n",
              "<style scoped>\n",
              "    .dataframe tbody tr th:only-of-type {\n",
              "        vertical-align: middle;\n",
              "    }\n",
              "\n",
              "    .dataframe tbody tr th {\n",
              "        vertical-align: top;\n",
              "    }\n",
              "\n",
              "    .dataframe thead th {\n",
              "        text-align: right;\n",
              "    }\n",
              "</style>\n",
              "<table border=\"1\" class=\"dataframe\">\n",
              "  <thead>\n",
              "    <tr style=\"text-align: right;\">\n",
              "      <th></th>\n",
              "      <th>0</th>\n",
              "      <th>1</th>\n",
              "      <th>2</th>\n",
              "      <th>3</th>\n",
              "      <th>4</th>\n",
              "      <th>5</th>\n",
              "      <th>6</th>\n",
              "      <th>7</th>\n",
              "      <th>8</th>\n",
              "      <th>9</th>\n",
              "      <th>10</th>\n",
              "      <th>11</th>\n",
              "      <th>12</th>\n",
              "      <th>13</th>\n",
              "      <th>14</th>\n",
              "      <th>15</th>\n",
              "      <th>16</th>\n",
              "      <th>17</th>\n",
              "      <th>18</th>\n",
              "      <th>19</th>\n",
              "      <th>20</th>\n",
              "      <th>21</th>\n",
              "      <th>22</th>\n",
              "      <th>23</th>\n",
              "      <th>24</th>\n",
              "      <th>25</th>\n",
              "      <th>26</th>\n",
              "      <th>27</th>\n",
              "      <th>28</th>\n",
              "      <th>29</th>\n",
              "      <th>30</th>\n",
              "      <th>31</th>\n",
              "      <th>32</th>\n",
              "      <th>33</th>\n",
              "      <th>34</th>\n",
              "      <th>35</th>\n",
              "      <th>36</th>\n",
              "      <th>37</th>\n",
              "      <th>38</th>\n",
              "      <th>39</th>\n",
              "      <th>...</th>\n",
              "      <th>12871</th>\n",
              "      <th>12872</th>\n",
              "      <th>12873</th>\n",
              "      <th>12874</th>\n",
              "      <th>12875</th>\n",
              "      <th>12876</th>\n",
              "      <th>12877</th>\n",
              "      <th>12878</th>\n",
              "      <th>12879</th>\n",
              "      <th>12880</th>\n",
              "      <th>12881</th>\n",
              "      <th>12882</th>\n",
              "      <th>12883</th>\n",
              "      <th>12884</th>\n",
              "      <th>12885</th>\n",
              "      <th>12886</th>\n",
              "      <th>12887</th>\n",
              "      <th>12888</th>\n",
              "      <th>12889</th>\n",
              "      <th>12890</th>\n",
              "      <th>12891</th>\n",
              "      <th>12892</th>\n",
              "      <th>12893</th>\n",
              "      <th>12894</th>\n",
              "      <th>12895</th>\n",
              "      <th>12896</th>\n",
              "      <th>12897</th>\n",
              "      <th>12898</th>\n",
              "      <th>12899</th>\n",
              "      <th>12900</th>\n",
              "      <th>12901</th>\n",
              "      <th>12902</th>\n",
              "      <th>12903</th>\n",
              "      <th>12904</th>\n",
              "      <th>12905</th>\n",
              "      <th>12906</th>\n",
              "      <th>12907</th>\n",
              "      <th>12908</th>\n",
              "      <th>12909</th>\n",
              "      <th>12910</th>\n",
              "    </tr>\n",
              "  </thead>\n",
              "  <tbody>\n",
              "    <tr>\n",
              "      <th>0</th>\n",
              "      <td>1.0</td>\n",
              "      <td>0.102915</td>\n",
              "      <td>0.0</td>\n",
              "      <td>0.00434</td>\n",
              "      <td>0.095113</td>\n",
              "      <td>0.066226</td>\n",
              "      <td>0.0</td>\n",
              "      <td>0.009237</td>\n",
              "      <td>0.02017</td>\n",
              "      <td>0.110567</td>\n",
              "      <td>0.001906</td>\n",
              "      <td>0.01273</td>\n",
              "      <td>0.037987</td>\n",
              "      <td>0.0</td>\n",
              "      <td>0.021544</td>\n",
              "      <td>0.018412</td>\n",
              "      <td>0.023088</td>\n",
              "      <td>0.0</td>\n",
              "      <td>0.083921</td>\n",
              "      <td>0.0</td>\n",
              "      <td>0.036459</td>\n",
              "      <td>0.011627</td>\n",
              "      <td>0.111087</td>\n",
              "      <td>0.004441</td>\n",
              "      <td>0.024696</td>\n",
              "      <td>0.022684</td>\n",
              "      <td>0.019995</td>\n",
              "      <td>0.0</td>\n",
              "      <td>0.0</td>\n",
              "      <td>0.0</td>\n",
              "      <td>0.045761</td>\n",
              "      <td>0.06942</td>\n",
              "      <td>0.0</td>\n",
              "      <td>0.109849</td>\n",
              "      <td>0.0</td>\n",
              "      <td>0.08708</td>\n",
              "      <td>0.001596</td>\n",
              "      <td>0.046534</td>\n",
              "      <td>0.0</td>\n",
              "      <td>0.0</td>\n",
              "      <td>...</td>\n",
              "      <td>0.0</td>\n",
              "      <td>0.0</td>\n",
              "      <td>0.0</td>\n",
              "      <td>0.0</td>\n",
              "      <td>0.0</td>\n",
              "      <td>0.0</td>\n",
              "      <td>0.0</td>\n",
              "      <td>0.0</td>\n",
              "      <td>0.0</td>\n",
              "      <td>0.0</td>\n",
              "      <td>0.001596</td>\n",
              "      <td>0.0</td>\n",
              "      <td>0.0</td>\n",
              "      <td>0.0</td>\n",
              "      <td>0.0</td>\n",
              "      <td>0.0</td>\n",
              "      <td>0.0</td>\n",
              "      <td>0.0</td>\n",
              "      <td>0.0</td>\n",
              "      <td>0.0</td>\n",
              "      <td>0.0</td>\n",
              "      <td>0.0</td>\n",
              "      <td>0.003606</td>\n",
              "      <td>0.0</td>\n",
              "      <td>0.0</td>\n",
              "      <td>0.0</td>\n",
              "      <td>0.0</td>\n",
              "      <td>0.0</td>\n",
              "      <td>0.0</td>\n",
              "      <td>0.0</td>\n",
              "      <td>0.0</td>\n",
              "      <td>0.0</td>\n",
              "      <td>0.0</td>\n",
              "      <td>0.0</td>\n",
              "      <td>0.0</td>\n",
              "      <td>0.0</td>\n",
              "      <td>0.0</td>\n",
              "      <td>0.0</td>\n",
              "      <td>0.0</td>\n",
              "      <td>0.0</td>\n",
              "    </tr>\n",
              "  </tbody>\n",
              "</table>\n",
              "<p>1 rows × 12911 columns</p>\n",
              "</div>"
            ],
            "text/plain": [
              "   0         1      2        3         4      ...  12906  12907  12908  12909  12910\n",
              "0    1.0  0.102915    0.0  0.00434  0.095113  ...    0.0    0.0    0.0    0.0    0.0\n",
              "\n",
              "[1 rows x 12911 columns]"
            ]
          },
          "metadata": {
            "tags": []
          },
          "execution_count": 130
        }
      ]
    },
    {
      "cell_type": "code",
      "metadata": {
        "id": "EA7LH-mK1dUM",
        "colab": {
          "base_uri": "https://localhost:8080/",
          "height": 282
        },
        "outputId": "e30dea0c-5d80-433d-a7bd-5c2d866cbed8"
      },
      "source": [
        "item_correlation_df['movieId'] = df_subtracted.index\n",
        "item_correlation_df.set_index('movieId',inplace=True)\n",
        "item_correlation_df.head()"
      ],
      "execution_count": null,
      "outputs": [
        {
          "output_type": "execute_result",
          "data": {
            "text/html": [
              "<div>\n",
              "<style scoped>\n",
              "    .dataframe tbody tr th:only-of-type {\n",
              "        vertical-align: middle;\n",
              "    }\n",
              "\n",
              "    .dataframe tbody tr th {\n",
              "        vertical-align: top;\n",
              "    }\n",
              "\n",
              "    .dataframe thead th {\n",
              "        text-align: right;\n",
              "    }\n",
              "</style>\n",
              "<table border=\"1\" class=\"dataframe\">\n",
              "  <thead>\n",
              "    <tr style=\"text-align: right;\">\n",
              "      <th></th>\n",
              "      <th>0</th>\n",
              "      <th>1</th>\n",
              "      <th>2</th>\n",
              "      <th>3</th>\n",
              "      <th>4</th>\n",
              "      <th>5</th>\n",
              "      <th>6</th>\n",
              "      <th>7</th>\n",
              "      <th>8</th>\n",
              "      <th>9</th>\n",
              "      <th>10</th>\n",
              "      <th>11</th>\n",
              "      <th>12</th>\n",
              "      <th>13</th>\n",
              "      <th>14</th>\n",
              "      <th>15</th>\n",
              "      <th>16</th>\n",
              "      <th>17</th>\n",
              "      <th>18</th>\n",
              "      <th>19</th>\n",
              "      <th>20</th>\n",
              "      <th>21</th>\n",
              "      <th>22</th>\n",
              "      <th>23</th>\n",
              "      <th>24</th>\n",
              "      <th>25</th>\n",
              "      <th>26</th>\n",
              "      <th>27</th>\n",
              "      <th>28</th>\n",
              "      <th>29</th>\n",
              "      <th>30</th>\n",
              "      <th>31</th>\n",
              "      <th>32</th>\n",
              "      <th>33</th>\n",
              "      <th>34</th>\n",
              "      <th>35</th>\n",
              "      <th>36</th>\n",
              "      <th>37</th>\n",
              "      <th>38</th>\n",
              "      <th>39</th>\n",
              "      <th>...</th>\n",
              "      <th>12871</th>\n",
              "      <th>12872</th>\n",
              "      <th>12873</th>\n",
              "      <th>12874</th>\n",
              "      <th>12875</th>\n",
              "      <th>12876</th>\n",
              "      <th>12877</th>\n",
              "      <th>12878</th>\n",
              "      <th>12879</th>\n",
              "      <th>12880</th>\n",
              "      <th>12881</th>\n",
              "      <th>12882</th>\n",
              "      <th>12883</th>\n",
              "      <th>12884</th>\n",
              "      <th>12885</th>\n",
              "      <th>12886</th>\n",
              "      <th>12887</th>\n",
              "      <th>12888</th>\n",
              "      <th>12889</th>\n",
              "      <th>12890</th>\n",
              "      <th>12891</th>\n",
              "      <th>12892</th>\n",
              "      <th>12893</th>\n",
              "      <th>12894</th>\n",
              "      <th>12895</th>\n",
              "      <th>12896</th>\n",
              "      <th>12897</th>\n",
              "      <th>12898</th>\n",
              "      <th>12899</th>\n",
              "      <th>12900</th>\n",
              "      <th>12901</th>\n",
              "      <th>12902</th>\n",
              "      <th>12903</th>\n",
              "      <th>12904</th>\n",
              "      <th>12905</th>\n",
              "      <th>12906</th>\n",
              "      <th>12907</th>\n",
              "      <th>12908</th>\n",
              "      <th>12909</th>\n",
              "      <th>12910</th>\n",
              "    </tr>\n",
              "    <tr>\n",
              "      <th>movieId</th>\n",
              "      <th></th>\n",
              "      <th></th>\n",
              "      <th></th>\n",
              "      <th></th>\n",
              "      <th></th>\n",
              "      <th></th>\n",
              "      <th></th>\n",
              "      <th></th>\n",
              "      <th></th>\n",
              "      <th></th>\n",
              "      <th></th>\n",
              "      <th></th>\n",
              "      <th></th>\n",
              "      <th></th>\n",
              "      <th></th>\n",
              "      <th></th>\n",
              "      <th></th>\n",
              "      <th></th>\n",
              "      <th></th>\n",
              "      <th></th>\n",
              "      <th></th>\n",
              "      <th></th>\n",
              "      <th></th>\n",
              "      <th></th>\n",
              "      <th></th>\n",
              "      <th></th>\n",
              "      <th></th>\n",
              "      <th></th>\n",
              "      <th></th>\n",
              "      <th></th>\n",
              "      <th></th>\n",
              "      <th></th>\n",
              "      <th></th>\n",
              "      <th></th>\n",
              "      <th></th>\n",
              "      <th></th>\n",
              "      <th></th>\n",
              "      <th></th>\n",
              "      <th></th>\n",
              "      <th></th>\n",
              "      <th></th>\n",
              "      <th></th>\n",
              "      <th></th>\n",
              "      <th></th>\n",
              "      <th></th>\n",
              "      <th></th>\n",
              "      <th></th>\n",
              "      <th></th>\n",
              "      <th></th>\n",
              "      <th></th>\n",
              "      <th></th>\n",
              "      <th></th>\n",
              "      <th></th>\n",
              "      <th></th>\n",
              "      <th></th>\n",
              "      <th></th>\n",
              "      <th></th>\n",
              "      <th></th>\n",
              "      <th></th>\n",
              "      <th></th>\n",
              "      <th></th>\n",
              "      <th></th>\n",
              "      <th></th>\n",
              "      <th></th>\n",
              "      <th></th>\n",
              "      <th></th>\n",
              "      <th></th>\n",
              "      <th></th>\n",
              "      <th></th>\n",
              "      <th></th>\n",
              "      <th></th>\n",
              "      <th></th>\n",
              "      <th></th>\n",
              "      <th></th>\n",
              "      <th></th>\n",
              "      <th></th>\n",
              "      <th></th>\n",
              "      <th></th>\n",
              "      <th></th>\n",
              "      <th></th>\n",
              "      <th></th>\n",
              "    </tr>\n",
              "  </thead>\n",
              "  <tbody>\n",
              "    <tr>\n",
              "      <th>1</th>\n",
              "      <td>1.000000</td>\n",
              "      <td>0.102915</td>\n",
              "      <td>0.000000</td>\n",
              "      <td>0.004340</td>\n",
              "      <td>0.095113</td>\n",
              "      <td>0.066226</td>\n",
              "      <td>0.000000</td>\n",
              "      <td>0.009237</td>\n",
              "      <td>0.020170</td>\n",
              "      <td>0.110567</td>\n",
              "      <td>0.001906</td>\n",
              "      <td>0.012730</td>\n",
              "      <td>0.037987</td>\n",
              "      <td>0.00000</td>\n",
              "      <td>0.021544</td>\n",
              "      <td>0.018412</td>\n",
              "      <td>0.023088</td>\n",
              "      <td>0.000000</td>\n",
              "      <td>0.083921</td>\n",
              "      <td>0.000000</td>\n",
              "      <td>0.036459</td>\n",
              "      <td>0.011627</td>\n",
              "      <td>0.111087</td>\n",
              "      <td>0.004441</td>\n",
              "      <td>0.024696</td>\n",
              "      <td>0.022684</td>\n",
              "      <td>0.019995</td>\n",
              "      <td>0.000000</td>\n",
              "      <td>0.000000</td>\n",
              "      <td>0.0</td>\n",
              "      <td>0.045761</td>\n",
              "      <td>0.069420</td>\n",
              "      <td>0.0</td>\n",
              "      <td>0.109849</td>\n",
              "      <td>0.0</td>\n",
              "      <td>0.08708</td>\n",
              "      <td>0.001596</td>\n",
              "      <td>0.046534</td>\n",
              "      <td>0.000000</td>\n",
              "      <td>0.000000</td>\n",
              "      <td>...</td>\n",
              "      <td>0.000000</td>\n",
              "      <td>0.0</td>\n",
              "      <td>0.0</td>\n",
              "      <td>0.0</td>\n",
              "      <td>0.0</td>\n",
              "      <td>0.0</td>\n",
              "      <td>0.0</td>\n",
              "      <td>0.0</td>\n",
              "      <td>0.0</td>\n",
              "      <td>0.0</td>\n",
              "      <td>0.001596</td>\n",
              "      <td>0.0</td>\n",
              "      <td>0.000000</td>\n",
              "      <td>0.0</td>\n",
              "      <td>0.0</td>\n",
              "      <td>0.0</td>\n",
              "      <td>0.0</td>\n",
              "      <td>0.0</td>\n",
              "      <td>0.0</td>\n",
              "      <td>0.0</td>\n",
              "      <td>0.0</td>\n",
              "      <td>0.0</td>\n",
              "      <td>0.003606</td>\n",
              "      <td>0.0</td>\n",
              "      <td>0.0</td>\n",
              "      <td>0.00000</td>\n",
              "      <td>0.0</td>\n",
              "      <td>0.0</td>\n",
              "      <td>0.0</td>\n",
              "      <td>0.0</td>\n",
              "      <td>0.0</td>\n",
              "      <td>0.0</td>\n",
              "      <td>0.0</td>\n",
              "      <td>0.0</td>\n",
              "      <td>0.0</td>\n",
              "      <td>0.0</td>\n",
              "      <td>0.0</td>\n",
              "      <td>0.0</td>\n",
              "      <td>0.0</td>\n",
              "      <td>0.0</td>\n",
              "    </tr>\n",
              "    <tr>\n",
              "      <th>2</th>\n",
              "      <td>0.102915</td>\n",
              "      <td>1.000000</td>\n",
              "      <td>0.031700</td>\n",
              "      <td>0.000000</td>\n",
              "      <td>0.060859</td>\n",
              "      <td>0.046665</td>\n",
              "      <td>0.030885</td>\n",
              "      <td>0.025288</td>\n",
              "      <td>0.022028</td>\n",
              "      <td>0.157213</td>\n",
              "      <td>0.075537</td>\n",
              "      <td>0.073021</td>\n",
              "      <td>0.011394</td>\n",
              "      <td>0.02182</td>\n",
              "      <td>0.090197</td>\n",
              "      <td>0.057968</td>\n",
              "      <td>0.022819</td>\n",
              "      <td>0.039248</td>\n",
              "      <td>0.075351</td>\n",
              "      <td>0.050777</td>\n",
              "      <td>0.075855</td>\n",
              "      <td>0.149411</td>\n",
              "      <td>0.122759</td>\n",
              "      <td>0.125354</td>\n",
              "      <td>0.002899</td>\n",
              "      <td>0.037272</td>\n",
              "      <td>0.046453</td>\n",
              "      <td>0.000987</td>\n",
              "      <td>0.000000</td>\n",
              "      <td>0.0</td>\n",
              "      <td>0.068773</td>\n",
              "      <td>0.012696</td>\n",
              "      <td>0.0</td>\n",
              "      <td>0.121856</td>\n",
              "      <td>0.0</td>\n",
              "      <td>0.01059</td>\n",
              "      <td>0.000000</td>\n",
              "      <td>0.078514</td>\n",
              "      <td>0.000000</td>\n",
              "      <td>0.000000</td>\n",
              "      <td>...</td>\n",
              "      <td>0.020464</td>\n",
              "      <td>0.0</td>\n",
              "      <td>0.0</td>\n",
              "      <td>0.0</td>\n",
              "      <td>0.0</td>\n",
              "      <td>0.0</td>\n",
              "      <td>0.0</td>\n",
              "      <td>0.0</td>\n",
              "      <td>0.0</td>\n",
              "      <td>0.0</td>\n",
              "      <td>0.000000</td>\n",
              "      <td>0.0</td>\n",
              "      <td>0.000000</td>\n",
              "      <td>0.0</td>\n",
              "      <td>0.0</td>\n",
              "      <td>0.0</td>\n",
              "      <td>0.0</td>\n",
              "      <td>0.0</td>\n",
              "      <td>0.0</td>\n",
              "      <td>0.0</td>\n",
              "      <td>0.0</td>\n",
              "      <td>0.0</td>\n",
              "      <td>0.000000</td>\n",
              "      <td>0.0</td>\n",
              "      <td>0.0</td>\n",
              "      <td>0.10963</td>\n",
              "      <td>0.0</td>\n",
              "      <td>0.0</td>\n",
              "      <td>0.0</td>\n",
              "      <td>0.0</td>\n",
              "      <td>0.0</td>\n",
              "      <td>0.0</td>\n",
              "      <td>0.0</td>\n",
              "      <td>0.0</td>\n",
              "      <td>0.0</td>\n",
              "      <td>0.0</td>\n",
              "      <td>0.0</td>\n",
              "      <td>0.0</td>\n",
              "      <td>0.0</td>\n",
              "      <td>0.0</td>\n",
              "    </tr>\n",
              "    <tr>\n",
              "      <th>3</th>\n",
              "      <td>0.000000</td>\n",
              "      <td>0.031700</td>\n",
              "      <td>1.000000</td>\n",
              "      <td>0.004382</td>\n",
              "      <td>0.069432</td>\n",
              "      <td>0.011788</td>\n",
              "      <td>0.054688</td>\n",
              "      <td>0.060193</td>\n",
              "      <td>0.100534</td>\n",
              "      <td>0.011718</td>\n",
              "      <td>0.061175</td>\n",
              "      <td>0.000000</td>\n",
              "      <td>0.000000</td>\n",
              "      <td>0.00000</td>\n",
              "      <td>0.000000</td>\n",
              "      <td>0.050120</td>\n",
              "      <td>0.002268</td>\n",
              "      <td>0.020197</td>\n",
              "      <td>0.106894</td>\n",
              "      <td>0.056241</td>\n",
              "      <td>0.002759</td>\n",
              "      <td>0.021814</td>\n",
              "      <td>0.063946</td>\n",
              "      <td>0.073520</td>\n",
              "      <td>0.000000</td>\n",
              "      <td>0.024446</td>\n",
              "      <td>0.128107</td>\n",
              "      <td>0.009599</td>\n",
              "      <td>0.034253</td>\n",
              "      <td>0.0</td>\n",
              "      <td>0.057190</td>\n",
              "      <td>0.000000</td>\n",
              "      <td>0.0</td>\n",
              "      <td>0.033450</td>\n",
              "      <td>0.0</td>\n",
              "      <td>0.00000</td>\n",
              "      <td>0.056231</td>\n",
              "      <td>0.000000</td>\n",
              "      <td>0.035462</td>\n",
              "      <td>0.032828</td>\n",
              "      <td>...</td>\n",
              "      <td>0.000000</td>\n",
              "      <td>0.0</td>\n",
              "      <td>0.0</td>\n",
              "      <td>0.0</td>\n",
              "      <td>0.0</td>\n",
              "      <td>0.0</td>\n",
              "      <td>0.0</td>\n",
              "      <td>0.0</td>\n",
              "      <td>0.0</td>\n",
              "      <td>0.0</td>\n",
              "      <td>0.000000</td>\n",
              "      <td>0.0</td>\n",
              "      <td>0.012623</td>\n",
              "      <td>0.0</td>\n",
              "      <td>0.0</td>\n",
              "      <td>0.0</td>\n",
              "      <td>0.0</td>\n",
              "      <td>0.0</td>\n",
              "      <td>0.0</td>\n",
              "      <td>0.0</td>\n",
              "      <td>0.0</td>\n",
              "      <td>0.0</td>\n",
              "      <td>0.000000</td>\n",
              "      <td>0.0</td>\n",
              "      <td>0.0</td>\n",
              "      <td>0.00000</td>\n",
              "      <td>0.0</td>\n",
              "      <td>0.0</td>\n",
              "      <td>0.0</td>\n",
              "      <td>0.0</td>\n",
              "      <td>0.0</td>\n",
              "      <td>0.0</td>\n",
              "      <td>0.0</td>\n",
              "      <td>0.0</td>\n",
              "      <td>0.0</td>\n",
              "      <td>0.0</td>\n",
              "      <td>0.0</td>\n",
              "      <td>0.0</td>\n",
              "      <td>0.0</td>\n",
              "      <td>0.0</td>\n",
              "    </tr>\n",
              "    <tr>\n",
              "      <th>4</th>\n",
              "      <td>0.004340</td>\n",
              "      <td>0.000000</td>\n",
              "      <td>0.004382</td>\n",
              "      <td>1.000000</td>\n",
              "      <td>0.038519</td>\n",
              "      <td>0.029985</td>\n",
              "      <td>0.019847</td>\n",
              "      <td>0.000000</td>\n",
              "      <td>0.067890</td>\n",
              "      <td>0.000000</td>\n",
              "      <td>0.000000</td>\n",
              "      <td>0.019552</td>\n",
              "      <td>0.000000</td>\n",
              "      <td>0.00000</td>\n",
              "      <td>0.094436</td>\n",
              "      <td>0.000000</td>\n",
              "      <td>0.007044</td>\n",
              "      <td>0.052955</td>\n",
              "      <td>0.000000</td>\n",
              "      <td>0.000000</td>\n",
              "      <td>0.000000</td>\n",
              "      <td>0.081803</td>\n",
              "      <td>0.009588</td>\n",
              "      <td>0.000000</td>\n",
              "      <td>0.000000</td>\n",
              "      <td>0.000000</td>\n",
              "      <td>0.000000</td>\n",
              "      <td>0.000000</td>\n",
              "      <td>0.000000</td>\n",
              "      <td>0.0</td>\n",
              "      <td>0.047059</td>\n",
              "      <td>0.000385</td>\n",
              "      <td>0.0</td>\n",
              "      <td>0.030021</td>\n",
              "      <td>0.0</td>\n",
              "      <td>0.00000</td>\n",
              "      <td>0.000000</td>\n",
              "      <td>0.040589</td>\n",
              "      <td>0.000000</td>\n",
              "      <td>0.013528</td>\n",
              "      <td>...</td>\n",
              "      <td>0.000000</td>\n",
              "      <td>0.0</td>\n",
              "      <td>0.0</td>\n",
              "      <td>0.0</td>\n",
              "      <td>0.0</td>\n",
              "      <td>0.0</td>\n",
              "      <td>0.0</td>\n",
              "      <td>0.0</td>\n",
              "      <td>0.0</td>\n",
              "      <td>0.0</td>\n",
              "      <td>0.000000</td>\n",
              "      <td>0.0</td>\n",
              "      <td>0.000000</td>\n",
              "      <td>0.0</td>\n",
              "      <td>0.0</td>\n",
              "      <td>0.0</td>\n",
              "      <td>0.0</td>\n",
              "      <td>0.0</td>\n",
              "      <td>0.0</td>\n",
              "      <td>0.0</td>\n",
              "      <td>0.0</td>\n",
              "      <td>0.0</td>\n",
              "      <td>0.000000</td>\n",
              "      <td>0.0</td>\n",
              "      <td>0.0</td>\n",
              "      <td>0.00000</td>\n",
              "      <td>0.0</td>\n",
              "      <td>0.0</td>\n",
              "      <td>0.0</td>\n",
              "      <td>0.0</td>\n",
              "      <td>0.0</td>\n",
              "      <td>0.0</td>\n",
              "      <td>0.0</td>\n",
              "      <td>0.0</td>\n",
              "      <td>0.0</td>\n",
              "      <td>0.0</td>\n",
              "      <td>0.0</td>\n",
              "      <td>0.0</td>\n",
              "      <td>0.0</td>\n",
              "      <td>0.0</td>\n",
              "    </tr>\n",
              "    <tr>\n",
              "      <th>5</th>\n",
              "      <td>0.095113</td>\n",
              "      <td>0.060859</td>\n",
              "      <td>0.069432</td>\n",
              "      <td>0.038519</td>\n",
              "      <td>1.000000</td>\n",
              "      <td>0.063813</td>\n",
              "      <td>0.000000</td>\n",
              "      <td>0.000000</td>\n",
              "      <td>0.043664</td>\n",
              "      <td>0.091824</td>\n",
              "      <td>0.070592</td>\n",
              "      <td>0.000000</td>\n",
              "      <td>0.000000</td>\n",
              "      <td>0.00000</td>\n",
              "      <td>0.040252</td>\n",
              "      <td>0.053018</td>\n",
              "      <td>0.000000</td>\n",
              "      <td>0.000000</td>\n",
              "      <td>0.041148</td>\n",
              "      <td>0.000000</td>\n",
              "      <td>0.041346</td>\n",
              "      <td>0.000000</td>\n",
              "      <td>0.007879</td>\n",
              "      <td>0.000000</td>\n",
              "      <td>0.000000</td>\n",
              "      <td>0.069025</td>\n",
              "      <td>0.077936</td>\n",
              "      <td>0.009779</td>\n",
              "      <td>0.023431</td>\n",
              "      <td>0.0</td>\n",
              "      <td>0.065998</td>\n",
              "      <td>0.000000</td>\n",
              "      <td>0.0</td>\n",
              "      <td>0.039640</td>\n",
              "      <td>0.0</td>\n",
              "      <td>0.00000</td>\n",
              "      <td>0.063713</td>\n",
              "      <td>0.020557</td>\n",
              "      <td>0.000000</td>\n",
              "      <td>0.000000</td>\n",
              "      <td>...</td>\n",
              "      <td>0.000000</td>\n",
              "      <td>0.0</td>\n",
              "      <td>0.0</td>\n",
              "      <td>0.0</td>\n",
              "      <td>0.0</td>\n",
              "      <td>0.0</td>\n",
              "      <td>0.0</td>\n",
              "      <td>0.0</td>\n",
              "      <td>0.0</td>\n",
              "      <td>0.0</td>\n",
              "      <td>0.000000</td>\n",
              "      <td>0.0</td>\n",
              "      <td>0.000000</td>\n",
              "      <td>0.0</td>\n",
              "      <td>0.0</td>\n",
              "      <td>0.0</td>\n",
              "      <td>0.0</td>\n",
              "      <td>0.0</td>\n",
              "      <td>0.0</td>\n",
              "      <td>0.0</td>\n",
              "      <td>0.0</td>\n",
              "      <td>0.0</td>\n",
              "      <td>0.000000</td>\n",
              "      <td>0.0</td>\n",
              "      <td>0.0</td>\n",
              "      <td>0.00000</td>\n",
              "      <td>0.0</td>\n",
              "      <td>0.0</td>\n",
              "      <td>0.0</td>\n",
              "      <td>0.0</td>\n",
              "      <td>0.0</td>\n",
              "      <td>0.0</td>\n",
              "      <td>0.0</td>\n",
              "      <td>0.0</td>\n",
              "      <td>0.0</td>\n",
              "      <td>0.0</td>\n",
              "      <td>0.0</td>\n",
              "      <td>0.0</td>\n",
              "      <td>0.0</td>\n",
              "      <td>0.0</td>\n",
              "    </tr>\n",
              "  </tbody>\n",
              "</table>\n",
              "<p>5 rows × 12911 columns</p>\n",
              "</div>"
            ],
            "text/plain": [
              "            0         1         2         3      ...  12907  12908  12909  12910\n",
              "movieId                                          ...                            \n",
              "1        1.000000  0.102915  0.000000  0.004340  ...    0.0    0.0    0.0    0.0\n",
              "2        0.102915  1.000000  0.031700  0.000000  ...    0.0    0.0    0.0    0.0\n",
              "3        0.000000  0.031700  1.000000  0.004382  ...    0.0    0.0    0.0    0.0\n",
              "4        0.004340  0.000000  0.004382  1.000000  ...    0.0    0.0    0.0    0.0\n",
              "5        0.095113  0.060859  0.069432  0.038519  ...    0.0    0.0    0.0    0.0\n",
              "\n",
              "[5 rows x 12911 columns]"
            ]
          },
          "metadata": {
            "tags": []
          },
          "execution_count": 131
        }
      ]
    },
    {
      "cell_type": "code",
      "metadata": {
        "id": "qIjL6zHB1-45"
      },
      "source": [
        "list_name = common.movieId.tolist()"
      ],
      "execution_count": null,
      "outputs": []
    },
    {
      "cell_type": "code",
      "metadata": {
        "id": "sLYXW2c42EjC"
      },
      "source": [
        "item_correlation_df.columns = df_subtracted.index.tolist()\n",
        "\n",
        "item_correlation_df_1 =  item_correlation_df[item_correlation_df.index.isin(list_name)]"
      ],
      "execution_count": null,
      "outputs": []
    },
    {
      "cell_type": "code",
      "metadata": {
        "id": "r5PhoITK2L9i"
      },
      "source": [
        "item_correlation_df_2 = item_correlation_df_1.T[item_correlation_df_1.T.index.isin(list_name)]\n",
        "\n",
        "item_correlation_df_3 = item_correlation_df_2.T"
      ],
      "execution_count": null,
      "outputs": []
    },
    {
      "cell_type": "code",
      "metadata": {
        "colab": {
          "base_uri": "https://localhost:8080/",
          "height": 282
        },
        "id": "A9CBf1QCfiwB",
        "outputId": "9c844c9f-c04e-432f-bc57-33dd66ce7489"
      },
      "source": [
        "item_correlation_df_3.head()"
      ],
      "execution_count": null,
      "outputs": [
        {
          "output_type": "execute_result",
          "data": {
            "text/html": [
              "<div>\n",
              "<style scoped>\n",
              "    .dataframe tbody tr th:only-of-type {\n",
              "        vertical-align: middle;\n",
              "    }\n",
              "\n",
              "    .dataframe tbody tr th {\n",
              "        vertical-align: top;\n",
              "    }\n",
              "\n",
              "    .dataframe thead th {\n",
              "        text-align: right;\n",
              "    }\n",
              "</style>\n",
              "<table border=\"1\" class=\"dataframe\">\n",
              "  <thead>\n",
              "    <tr style=\"text-align: right;\">\n",
              "      <th></th>\n",
              "      <th>1</th>\n",
              "      <th>2</th>\n",
              "      <th>3</th>\n",
              "      <th>4</th>\n",
              "      <th>5</th>\n",
              "      <th>6</th>\n",
              "      <th>7</th>\n",
              "      <th>8</th>\n",
              "      <th>9</th>\n",
              "      <th>10</th>\n",
              "      <th>11</th>\n",
              "      <th>12</th>\n",
              "      <th>13</th>\n",
              "      <th>14</th>\n",
              "      <th>15</th>\n",
              "      <th>16</th>\n",
              "      <th>17</th>\n",
              "      <th>18</th>\n",
              "      <th>19</th>\n",
              "      <th>20</th>\n",
              "      <th>21</th>\n",
              "      <th>22</th>\n",
              "      <th>23</th>\n",
              "      <th>24</th>\n",
              "      <th>25</th>\n",
              "      <th>26</th>\n",
              "      <th>27</th>\n",
              "      <th>28</th>\n",
              "      <th>29</th>\n",
              "      <th>30</th>\n",
              "      <th>31</th>\n",
              "      <th>32</th>\n",
              "      <th>34</th>\n",
              "      <th>35</th>\n",
              "      <th>36</th>\n",
              "      <th>39</th>\n",
              "      <th>40</th>\n",
              "      <th>41</th>\n",
              "      <th>42</th>\n",
              "      <th>43</th>\n",
              "      <th>...</th>\n",
              "      <th>193950</th>\n",
              "      <th>193958</th>\n",
              "      <th>194004</th>\n",
              "      <th>194016</th>\n",
              "      <th>194238</th>\n",
              "      <th>194448</th>\n",
              "      <th>194951</th>\n",
              "      <th>194959</th>\n",
              "      <th>195159</th>\n",
              "      <th>195163</th>\n",
              "      <th>195295</th>\n",
              "      <th>195777</th>\n",
              "      <th>196889</th>\n",
              "      <th>196891</th>\n",
              "      <th>196997</th>\n",
              "      <th>197199</th>\n",
              "      <th>197201</th>\n",
              "      <th>197491</th>\n",
              "      <th>197537</th>\n",
              "      <th>197691</th>\n",
              "      <th>197709</th>\n",
              "      <th>197711</th>\n",
              "      <th>197879</th>\n",
              "      <th>198703</th>\n",
              "      <th>200306</th>\n",
              "      <th>200540</th>\n",
              "      <th>200818</th>\n",
              "      <th>201588</th>\n",
              "      <th>201646</th>\n",
              "      <th>201749</th>\n",
              "      <th>201773</th>\n",
              "      <th>201811</th>\n",
              "      <th>202429</th>\n",
              "      <th>202439</th>\n",
              "      <th>203222</th>\n",
              "      <th>203519</th>\n",
              "      <th>204698</th>\n",
              "      <th>205383</th>\n",
              "      <th>206499</th>\n",
              "      <th>207309</th>\n",
              "    </tr>\n",
              "    <tr>\n",
              "      <th>movieId</th>\n",
              "      <th></th>\n",
              "      <th></th>\n",
              "      <th></th>\n",
              "      <th></th>\n",
              "      <th></th>\n",
              "      <th></th>\n",
              "      <th></th>\n",
              "      <th></th>\n",
              "      <th></th>\n",
              "      <th></th>\n",
              "      <th></th>\n",
              "      <th></th>\n",
              "      <th></th>\n",
              "      <th></th>\n",
              "      <th></th>\n",
              "      <th></th>\n",
              "      <th></th>\n",
              "      <th></th>\n",
              "      <th></th>\n",
              "      <th></th>\n",
              "      <th></th>\n",
              "      <th></th>\n",
              "      <th></th>\n",
              "      <th></th>\n",
              "      <th></th>\n",
              "      <th></th>\n",
              "      <th></th>\n",
              "      <th></th>\n",
              "      <th></th>\n",
              "      <th></th>\n",
              "      <th></th>\n",
              "      <th></th>\n",
              "      <th></th>\n",
              "      <th></th>\n",
              "      <th></th>\n",
              "      <th></th>\n",
              "      <th></th>\n",
              "      <th></th>\n",
              "      <th></th>\n",
              "      <th></th>\n",
              "      <th></th>\n",
              "      <th></th>\n",
              "      <th></th>\n",
              "      <th></th>\n",
              "      <th></th>\n",
              "      <th></th>\n",
              "      <th></th>\n",
              "      <th></th>\n",
              "      <th></th>\n",
              "      <th></th>\n",
              "      <th></th>\n",
              "      <th></th>\n",
              "      <th></th>\n",
              "      <th></th>\n",
              "      <th></th>\n",
              "      <th></th>\n",
              "      <th></th>\n",
              "      <th></th>\n",
              "      <th></th>\n",
              "      <th></th>\n",
              "      <th></th>\n",
              "      <th></th>\n",
              "      <th></th>\n",
              "      <th></th>\n",
              "      <th></th>\n",
              "      <th></th>\n",
              "      <th></th>\n",
              "      <th></th>\n",
              "      <th></th>\n",
              "      <th></th>\n",
              "      <th></th>\n",
              "      <th></th>\n",
              "      <th></th>\n",
              "      <th></th>\n",
              "      <th></th>\n",
              "      <th></th>\n",
              "      <th></th>\n",
              "      <th></th>\n",
              "      <th></th>\n",
              "      <th></th>\n",
              "      <th></th>\n",
              "    </tr>\n",
              "  </thead>\n",
              "  <tbody>\n",
              "    <tr>\n",
              "      <th>1</th>\n",
              "      <td>1.000000</td>\n",
              "      <td>0.102915</td>\n",
              "      <td>0.000000</td>\n",
              "      <td>0.004340</td>\n",
              "      <td>0.095113</td>\n",
              "      <td>0.066226</td>\n",
              "      <td>0.000000</td>\n",
              "      <td>0.009237</td>\n",
              "      <td>0.020170</td>\n",
              "      <td>0.110567</td>\n",
              "      <td>0.001906</td>\n",
              "      <td>0.012730</td>\n",
              "      <td>0.037987</td>\n",
              "      <td>0.00000</td>\n",
              "      <td>0.021544</td>\n",
              "      <td>0.018412</td>\n",
              "      <td>0.023088</td>\n",
              "      <td>0.000000</td>\n",
              "      <td>0.083921</td>\n",
              "      <td>0.000000</td>\n",
              "      <td>0.036459</td>\n",
              "      <td>0.011627</td>\n",
              "      <td>0.111087</td>\n",
              "      <td>0.004441</td>\n",
              "      <td>0.024696</td>\n",
              "      <td>0.022684</td>\n",
              "      <td>0.019995</td>\n",
              "      <td>0.000000</td>\n",
              "      <td>0.000000</td>\n",
              "      <td>0.0</td>\n",
              "      <td>0.045761</td>\n",
              "      <td>0.069420</td>\n",
              "      <td>0.109849</td>\n",
              "      <td>0.0</td>\n",
              "      <td>0.08708</td>\n",
              "      <td>0.046534</td>\n",
              "      <td>0.000000</td>\n",
              "      <td>0.000000</td>\n",
              "      <td>0.000000</td>\n",
              "      <td>0.000000</td>\n",
              "      <td>...</td>\n",
              "      <td>0.0</td>\n",
              "      <td>0.0</td>\n",
              "      <td>0.023605</td>\n",
              "      <td>0.101598</td>\n",
              "      <td>0.0</td>\n",
              "      <td>0.000000</td>\n",
              "      <td>0.000000</td>\n",
              "      <td>0.0</td>\n",
              "      <td>0.012044</td>\n",
              "      <td>0.0</td>\n",
              "      <td>0.0</td>\n",
              "      <td>0.069336</td>\n",
              "      <td>0.001671</td>\n",
              "      <td>0.017733</td>\n",
              "      <td>0.01172</td>\n",
              "      <td>0.016137</td>\n",
              "      <td>0.070932</td>\n",
              "      <td>0.0</td>\n",
              "      <td>0.0</td>\n",
              "      <td>0.0</td>\n",
              "      <td>0.0</td>\n",
              "      <td>0.018821</td>\n",
              "      <td>0.0</td>\n",
              "      <td>0.0</td>\n",
              "      <td>0.000000</td>\n",
              "      <td>0.0000</td>\n",
              "      <td>0.0</td>\n",
              "      <td>0.049834</td>\n",
              "      <td>0.015703</td>\n",
              "      <td>0.0</td>\n",
              "      <td>0.0</td>\n",
              "      <td>0.000000</td>\n",
              "      <td>0.00000</td>\n",
              "      <td>0.000000</td>\n",
              "      <td>0.0</td>\n",
              "      <td>0.0</td>\n",
              "      <td>0.003606</td>\n",
              "      <td>0.00000</td>\n",
              "      <td>0.0</td>\n",
              "      <td>0.0</td>\n",
              "    </tr>\n",
              "    <tr>\n",
              "      <th>2</th>\n",
              "      <td>0.102915</td>\n",
              "      <td>1.000000</td>\n",
              "      <td>0.031700</td>\n",
              "      <td>0.000000</td>\n",
              "      <td>0.060859</td>\n",
              "      <td>0.046665</td>\n",
              "      <td>0.030885</td>\n",
              "      <td>0.025288</td>\n",
              "      <td>0.022028</td>\n",
              "      <td>0.157213</td>\n",
              "      <td>0.075537</td>\n",
              "      <td>0.073021</td>\n",
              "      <td>0.011394</td>\n",
              "      <td>0.02182</td>\n",
              "      <td>0.090197</td>\n",
              "      <td>0.057968</td>\n",
              "      <td>0.022819</td>\n",
              "      <td>0.039248</td>\n",
              "      <td>0.075351</td>\n",
              "      <td>0.050777</td>\n",
              "      <td>0.075855</td>\n",
              "      <td>0.149411</td>\n",
              "      <td>0.122759</td>\n",
              "      <td>0.125354</td>\n",
              "      <td>0.002899</td>\n",
              "      <td>0.037272</td>\n",
              "      <td>0.046453</td>\n",
              "      <td>0.000987</td>\n",
              "      <td>0.000000</td>\n",
              "      <td>0.0</td>\n",
              "      <td>0.068773</td>\n",
              "      <td>0.012696</td>\n",
              "      <td>0.121856</td>\n",
              "      <td>0.0</td>\n",
              "      <td>0.01059</td>\n",
              "      <td>0.078514</td>\n",
              "      <td>0.000000</td>\n",
              "      <td>0.000000</td>\n",
              "      <td>0.000000</td>\n",
              "      <td>0.000459</td>\n",
              "      <td>...</td>\n",
              "      <td>0.0</td>\n",
              "      <td>0.0</td>\n",
              "      <td>0.000000</td>\n",
              "      <td>0.000000</td>\n",
              "      <td>0.0</td>\n",
              "      <td>0.003918</td>\n",
              "      <td>0.000000</td>\n",
              "      <td>0.0</td>\n",
              "      <td>0.005254</td>\n",
              "      <td>0.0</td>\n",
              "      <td>0.0</td>\n",
              "      <td>0.000000</td>\n",
              "      <td>0.000000</td>\n",
              "      <td>0.000000</td>\n",
              "      <td>0.00000</td>\n",
              "      <td>0.000000</td>\n",
              "      <td>0.000000</td>\n",
              "      <td>0.0</td>\n",
              "      <td>0.0</td>\n",
              "      <td>0.0</td>\n",
              "      <td>0.0</td>\n",
              "      <td>0.000000</td>\n",
              "      <td>0.0</td>\n",
              "      <td>0.0</td>\n",
              "      <td>0.000000</td>\n",
              "      <td>0.0516</td>\n",
              "      <td>0.0</td>\n",
              "      <td>0.028379</td>\n",
              "      <td>0.027660</td>\n",
              "      <td>0.0</td>\n",
              "      <td>0.0</td>\n",
              "      <td>0.035445</td>\n",
              "      <td>0.05432</td>\n",
              "      <td>0.020464</td>\n",
              "      <td>0.0</td>\n",
              "      <td>0.0</td>\n",
              "      <td>0.000000</td>\n",
              "      <td>0.10963</td>\n",
              "      <td>0.0</td>\n",
              "      <td>0.0</td>\n",
              "    </tr>\n",
              "    <tr>\n",
              "      <th>3</th>\n",
              "      <td>0.000000</td>\n",
              "      <td>0.031700</td>\n",
              "      <td>1.000000</td>\n",
              "      <td>0.004382</td>\n",
              "      <td>0.069432</td>\n",
              "      <td>0.011788</td>\n",
              "      <td>0.054688</td>\n",
              "      <td>0.060193</td>\n",
              "      <td>0.100534</td>\n",
              "      <td>0.011718</td>\n",
              "      <td>0.061175</td>\n",
              "      <td>0.000000</td>\n",
              "      <td>0.000000</td>\n",
              "      <td>0.00000</td>\n",
              "      <td>0.000000</td>\n",
              "      <td>0.050120</td>\n",
              "      <td>0.002268</td>\n",
              "      <td>0.020197</td>\n",
              "      <td>0.106894</td>\n",
              "      <td>0.056241</td>\n",
              "      <td>0.002759</td>\n",
              "      <td>0.021814</td>\n",
              "      <td>0.063946</td>\n",
              "      <td>0.073520</td>\n",
              "      <td>0.000000</td>\n",
              "      <td>0.024446</td>\n",
              "      <td>0.128107</td>\n",
              "      <td>0.009599</td>\n",
              "      <td>0.034253</td>\n",
              "      <td>0.0</td>\n",
              "      <td>0.057190</td>\n",
              "      <td>0.000000</td>\n",
              "      <td>0.033450</td>\n",
              "      <td>0.0</td>\n",
              "      <td>0.00000</td>\n",
              "      <td>0.000000</td>\n",
              "      <td>0.035462</td>\n",
              "      <td>0.032828</td>\n",
              "      <td>0.051138</td>\n",
              "      <td>0.000000</td>\n",
              "      <td>...</td>\n",
              "      <td>0.0</td>\n",
              "      <td>0.0</td>\n",
              "      <td>0.000000</td>\n",
              "      <td>0.000000</td>\n",
              "      <td>0.0</td>\n",
              "      <td>0.000000</td>\n",
              "      <td>0.034916</td>\n",
              "      <td>0.0</td>\n",
              "      <td>0.000000</td>\n",
              "      <td>0.0</td>\n",
              "      <td>0.0</td>\n",
              "      <td>0.000000</td>\n",
              "      <td>0.000000</td>\n",
              "      <td>0.034427</td>\n",
              "      <td>0.00000</td>\n",
              "      <td>0.000000</td>\n",
              "      <td>0.000000</td>\n",
              "      <td>0.0</td>\n",
              "      <td>0.0</td>\n",
              "      <td>0.0</td>\n",
              "      <td>0.0</td>\n",
              "      <td>0.000000</td>\n",
              "      <td>0.0</td>\n",
              "      <td>0.0</td>\n",
              "      <td>0.000000</td>\n",
              "      <td>0.0000</td>\n",
              "      <td>0.0</td>\n",
              "      <td>0.000000</td>\n",
              "      <td>0.000000</td>\n",
              "      <td>0.0</td>\n",
              "      <td>0.0</td>\n",
              "      <td>0.000000</td>\n",
              "      <td>0.00000</td>\n",
              "      <td>0.000000</td>\n",
              "      <td>0.0</td>\n",
              "      <td>0.0</td>\n",
              "      <td>0.000000</td>\n",
              "      <td>0.00000</td>\n",
              "      <td>0.0</td>\n",
              "      <td>0.0</td>\n",
              "    </tr>\n",
              "    <tr>\n",
              "      <th>4</th>\n",
              "      <td>0.004340</td>\n",
              "      <td>0.000000</td>\n",
              "      <td>0.004382</td>\n",
              "      <td>1.000000</td>\n",
              "      <td>0.038519</td>\n",
              "      <td>0.029985</td>\n",
              "      <td>0.019847</td>\n",
              "      <td>0.000000</td>\n",
              "      <td>0.067890</td>\n",
              "      <td>0.000000</td>\n",
              "      <td>0.000000</td>\n",
              "      <td>0.019552</td>\n",
              "      <td>0.000000</td>\n",
              "      <td>0.00000</td>\n",
              "      <td>0.094436</td>\n",
              "      <td>0.000000</td>\n",
              "      <td>0.007044</td>\n",
              "      <td>0.052955</td>\n",
              "      <td>0.000000</td>\n",
              "      <td>0.000000</td>\n",
              "      <td>0.000000</td>\n",
              "      <td>0.081803</td>\n",
              "      <td>0.009588</td>\n",
              "      <td>0.000000</td>\n",
              "      <td>0.000000</td>\n",
              "      <td>0.000000</td>\n",
              "      <td>0.000000</td>\n",
              "      <td>0.000000</td>\n",
              "      <td>0.000000</td>\n",
              "      <td>0.0</td>\n",
              "      <td>0.047059</td>\n",
              "      <td>0.000385</td>\n",
              "      <td>0.030021</td>\n",
              "      <td>0.0</td>\n",
              "      <td>0.00000</td>\n",
              "      <td>0.040589</td>\n",
              "      <td>0.000000</td>\n",
              "      <td>0.013528</td>\n",
              "      <td>0.000000</td>\n",
              "      <td>0.003085</td>\n",
              "      <td>...</td>\n",
              "      <td>0.0</td>\n",
              "      <td>0.0</td>\n",
              "      <td>0.000000</td>\n",
              "      <td>0.000000</td>\n",
              "      <td>0.0</td>\n",
              "      <td>0.000000</td>\n",
              "      <td>0.000000</td>\n",
              "      <td>0.0</td>\n",
              "      <td>0.000000</td>\n",
              "      <td>0.0</td>\n",
              "      <td>0.0</td>\n",
              "      <td>0.000000</td>\n",
              "      <td>0.000000</td>\n",
              "      <td>0.000000</td>\n",
              "      <td>0.00000</td>\n",
              "      <td>0.000000</td>\n",
              "      <td>0.000000</td>\n",
              "      <td>0.0</td>\n",
              "      <td>0.0</td>\n",
              "      <td>0.0</td>\n",
              "      <td>0.0</td>\n",
              "      <td>0.000000</td>\n",
              "      <td>0.0</td>\n",
              "      <td>0.0</td>\n",
              "      <td>0.389882</td>\n",
              "      <td>0.0000</td>\n",
              "      <td>0.0</td>\n",
              "      <td>0.000000</td>\n",
              "      <td>0.000000</td>\n",
              "      <td>0.0</td>\n",
              "      <td>0.0</td>\n",
              "      <td>0.000000</td>\n",
              "      <td>0.00000</td>\n",
              "      <td>0.000000</td>\n",
              "      <td>0.0</td>\n",
              "      <td>0.0</td>\n",
              "      <td>0.000000</td>\n",
              "      <td>0.00000</td>\n",
              "      <td>0.0</td>\n",
              "      <td>0.0</td>\n",
              "    </tr>\n",
              "    <tr>\n",
              "      <th>5</th>\n",
              "      <td>0.095113</td>\n",
              "      <td>0.060859</td>\n",
              "      <td>0.069432</td>\n",
              "      <td>0.038519</td>\n",
              "      <td>1.000000</td>\n",
              "      <td>0.063813</td>\n",
              "      <td>0.000000</td>\n",
              "      <td>0.000000</td>\n",
              "      <td>0.043664</td>\n",
              "      <td>0.091824</td>\n",
              "      <td>0.070592</td>\n",
              "      <td>0.000000</td>\n",
              "      <td>0.000000</td>\n",
              "      <td>0.00000</td>\n",
              "      <td>0.040252</td>\n",
              "      <td>0.053018</td>\n",
              "      <td>0.000000</td>\n",
              "      <td>0.000000</td>\n",
              "      <td>0.041148</td>\n",
              "      <td>0.000000</td>\n",
              "      <td>0.041346</td>\n",
              "      <td>0.000000</td>\n",
              "      <td>0.007879</td>\n",
              "      <td>0.000000</td>\n",
              "      <td>0.000000</td>\n",
              "      <td>0.069025</td>\n",
              "      <td>0.077936</td>\n",
              "      <td>0.009779</td>\n",
              "      <td>0.023431</td>\n",
              "      <td>0.0</td>\n",
              "      <td>0.065998</td>\n",
              "      <td>0.000000</td>\n",
              "      <td>0.039640</td>\n",
              "      <td>0.0</td>\n",
              "      <td>0.00000</td>\n",
              "      <td>0.020557</td>\n",
              "      <td>0.000000</td>\n",
              "      <td>0.000000</td>\n",
              "      <td>0.029413</td>\n",
              "      <td>0.000000</td>\n",
              "      <td>...</td>\n",
              "      <td>0.0</td>\n",
              "      <td>0.0</td>\n",
              "      <td>0.000000</td>\n",
              "      <td>0.000000</td>\n",
              "      <td>0.0</td>\n",
              "      <td>0.000000</td>\n",
              "      <td>0.000000</td>\n",
              "      <td>0.0</td>\n",
              "      <td>0.003768</td>\n",
              "      <td>0.0</td>\n",
              "      <td>0.0</td>\n",
              "      <td>0.000000</td>\n",
              "      <td>0.000000</td>\n",
              "      <td>0.000000</td>\n",
              "      <td>0.00000</td>\n",
              "      <td>0.000000</td>\n",
              "      <td>0.000000</td>\n",
              "      <td>0.0</td>\n",
              "      <td>0.0</td>\n",
              "      <td>0.0</td>\n",
              "      <td>0.0</td>\n",
              "      <td>0.000000</td>\n",
              "      <td>0.0</td>\n",
              "      <td>0.0</td>\n",
              "      <td>0.000000</td>\n",
              "      <td>0.0000</td>\n",
              "      <td>0.0</td>\n",
              "      <td>0.000000</td>\n",
              "      <td>0.000000</td>\n",
              "      <td>0.0</td>\n",
              "      <td>0.0</td>\n",
              "      <td>0.000000</td>\n",
              "      <td>0.00000</td>\n",
              "      <td>0.000000</td>\n",
              "      <td>0.0</td>\n",
              "      <td>0.0</td>\n",
              "      <td>0.000000</td>\n",
              "      <td>0.00000</td>\n",
              "      <td>0.0</td>\n",
              "      <td>0.0</td>\n",
              "    </tr>\n",
              "  </tbody>\n",
              "</table>\n",
              "<p>5 rows × 7783 columns</p>\n",
              "</div>"
            ],
            "text/plain": [
              "           1         2         3       ...   205383  206499  207309\n",
              "movieId                                ...                         \n",
              "1        1.000000  0.102915  0.000000  ...  0.00000     0.0     0.0\n",
              "2        0.102915  1.000000  0.031700  ...  0.10963     0.0     0.0\n",
              "3        0.000000  0.031700  1.000000  ...  0.00000     0.0     0.0\n",
              "4        0.004340  0.000000  0.004382  ...  0.00000     0.0     0.0\n",
              "5        0.095113  0.060859  0.069432  ...  0.00000     0.0     0.0\n",
              "\n",
              "[5 rows x 7783 columns]"
            ]
          },
          "metadata": {
            "tags": []
          },
          "execution_count": 135
        }
      ]
    },
    {
      "cell_type": "code",
      "metadata": {
        "id": "8d2XAuXw2SgZ",
        "colab": {
          "base_uri": "https://localhost:8080/"
        },
        "outputId": "d0450e69-3afd-425a-b608-76f41bc7f22f"
      },
      "source": [
        "item_correlation_df_3[item_correlation_df_3<0]=0\n",
        "common_item_predicted_ratings = np.dot(item_correlation_df_3, common_item_based_matrix.fillna(0))\n",
        "common_item_predicted_ratings"
      ],
      "execution_count": null,
      "outputs": [
        {
          "output_type": "execute_result",
          "data": {
            "text/plain": [
              "array([[ 1.10153262, 12.83252349, 35.8647666 , ...,  9.1484491 ,\n",
              "         0.51093827,  9.15792271],\n",
              "       [ 0.39077366,  9.74879386, 22.62663044, ...,  7.05031014,\n",
              "         0.92552995,  6.28294116],\n",
              "       [ 0.11700293,  4.30626816,  8.2908921 , ...,  3.77831808,\n",
              "         0.26364204,  3.77408128],\n",
              "       ...,\n",
              "       [ 0.43354838,  3.97316391, 22.48683777, ...,  6.770097  ,\n",
              "         0.1689317 ,  4.1952958 ],\n",
              "       [ 0.        ,  0.        ,  0.        , ...,  0.        ,\n",
              "         0.        ,  0.        ],\n",
              "       [ 0.        ,  0.        ,  0.        , ...,  0.        ,\n",
              "         0.        ,  0.        ]])"
            ]
          },
          "metadata": {
            "tags": []
          },
          "execution_count": 136
        }
      ]
    },
    {
      "cell_type": "code",
      "metadata": {
        "id": "-7SeXXO_bHfM",
        "colab": {
          "base_uri": "https://localhost:8080/"
        },
        "outputId": "5ce66c7b-01c0-46da-d986-ade25900f769"
      },
      "source": [
        "common_item_predicted_ratings.shape"
      ],
      "execution_count": null,
      "outputs": [
        {
          "output_type": "execute_result",
          "data": {
            "text/plain": [
              "(7783, 2071)"
            ]
          },
          "metadata": {
            "tags": []
          },
          "execution_count": 137
        }
      ]
    },
    {
      "cell_type": "markdown",
      "metadata": {
        "id": "ZA5m3_ZFe3-D"
      },
      "source": [
        "Dummy test will be used for evaluation. To evaluate, we will only make prediction on the movies rated by the user. So, this is marked as 1. This is just opposite of dummy_train\n",
        "\n"
      ]
    },
    {
      "cell_type": "code",
      "metadata": {
        "id": "hq4n5DKn2azL"
      },
      "source": [
        "dummy_test = common.copy()\n",
        "\n",
        "dummy_test['rating'] = dummy_test['rating'].apply(lambda x: 1 if x>=1 else 0)\n",
        "\n",
        "dummy_test = dummy_test.pivot_table(index='userId', columns='movieId', values='rating').T.fillna(0)\n",
        "\n",
        "common_item_predicted_ratings = np.multiply(common_item_predicted_ratings,dummy_test)"
      ],
      "execution_count": null,
      "outputs": []
    },
    {
      "cell_type": "markdown",
      "metadata": {
        "id": "AJr9sueCe-pW"
      },
      "source": [
        "The products not rated is marked as 0 for evaluation. And make the item- item matrix representaion.\n"
      ]
    },
    {
      "cell_type": "code",
      "metadata": {
        "id": "Qd8zErT6H7PH"
      },
      "source": [
        "common_ = common.pivot_table(index='userId', columns='movieId', values='rating').T"
      ],
      "execution_count": null,
      "outputs": []
    },
    {
      "cell_type": "code",
      "metadata": {
        "id": "SbTJc6tmIm-d",
        "colab": {
          "base_uri": "https://localhost:8080/"
        },
        "outputId": "7ce821f3-09f2-4f71-ed84-2c1e172a8438"
      },
      "source": [
        "from sklearn.preprocessing import MinMaxScaler\n",
        "from numpy import *\n",
        "\n",
        "X  = common_item_predicted_ratings.copy() \n",
        "X = X[X>0]\n",
        "\n",
        "scaler = MinMaxScaler(feature_range=(1, 5))\n",
        "print(scaler.fit(X))\n",
        "y = (scaler.transform(X))\n",
        "\n",
        "print(y)"
      ],
      "execution_count": null,
      "outputs": [
        {
          "output_type": "stream",
          "text": [
            "MinMaxScaler(copy=True, feature_range=(1, 5))\n",
            "[[       nan        nan 2.52545034 ...        nan        nan        nan]\n",
            " [       nan        nan        nan ...        nan        nan        nan]\n",
            " [       nan        nan        nan ...        nan        nan        nan]\n",
            " ...\n",
            " [       nan        nan        nan ...        nan        nan        nan]\n",
            " [       nan        nan        nan ...        nan        nan        nan]\n",
            " [       nan        nan        nan ...        nan        nan        nan]]\n"
          ],
          "name": "stdout"
        }
      ]
    },
    {
      "cell_type": "code",
      "metadata": {
        "id": "xLvB_o4lDvli"
      },
      "source": [
        "# Finding total non-NaN value\n",
        "total_non_nan = np.count_nonzero(~np.isnan(y))"
      ],
      "execution_count": null,
      "outputs": []
    },
    {
      "cell_type": "code",
      "metadata": {
        "id": "DEFC02uXIneM",
        "colab": {
          "base_uri": "https://localhost:8080/"
        },
        "outputId": "cf7bb08f-eadc-4a12-87f1-834fcc631bed"
      },
      "source": [
        "rmse = (sum(sum((common_ - y )**2))/total_non_nan)**0.5\n",
        "print(rmse)"
      ],
      "execution_count": null,
      "outputs": [
        {
          "output_type": "stream",
          "text": [
            "1.3169197240439345\n"
          ],
          "name": "stdout"
        }
      ]
    },
    {
      "cell_type": "markdown",
      "metadata": {
        "id": "8bVbpNI8i59G"
      },
      "source": [
        "##**Summary - Recommendation Engine**"
      ]
    }
  ]
}