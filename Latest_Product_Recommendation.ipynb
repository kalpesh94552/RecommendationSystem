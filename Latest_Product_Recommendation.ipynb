{
  "nbformat": 4,
  "nbformat_minor": 0,
  "metadata": {
    "colab": {
      "name": "Product Recommendation.ipynb",
      "provenance": [],
      "collapsed_sections": []
    },
    "kernelspec": {
      "name": "python3",
      "display_name": "Python 3.8.0 64-bit ('rasaenv': conda)",
      "metadata": {
        "interpreter": {
          "hash": "0ed9aa097be2cebb5888fd12c731c6c40efb952c2a2faa8d27abb7dff4d06448"
        }
      }
    },
    "language_info": {
      "name": "python",
      "version": "3.8.0"
    }
  },
  "cells": [
    {
      "cell_type": "code",
      "metadata": {
        "id": "JknZznr9_2I2",
        "colab": {
          "base_uri": "https://localhost:8080/"
        },
        "outputId": "9a371339-3eaf-4ffa-db1e-a463d3f1376e"
      },
      "source": [
        "import numpy as np\n",
        "import pandas as pd\n",
        "import sys\n",
        "from collections import Counter\n",
        "import matplotlib.pyplot as plt\n",
        "import re\n",
        "import nltk\n",
        "from nltk.corpus import stopwords\n",
        "nltk.download('stopwords')"
      ],
      "execution_count": 1,
      "outputs": [
        {
          "output_type": "stream",
          "name": "stderr",
          "text": [
            "[nltk_data] Downloading package stopwords to C:\\Users\\Octillion\n[nltk_data]     0017\\AppData\\Roaming\\nltk_data...\n[nltk_data]   Unzipping corpora\\stopwords.zip.\n"
          ]
        },
        {
          "output_type": "execute_result",
          "data": {
            "text/plain": [
              "True"
            ]
          },
          "metadata": {},
          "execution_count": 1
        }
      ]
    },
    {
      "cell_type": "code",
      "metadata": {
        "id": "GaPnpyNG9ro7"
      },
      "source": [
        "#sys.path.append('/content/drive/MyDrive/Capstone/Product Recommender system')\n",
        "#from google.colab import drive\n",
        "#drive.mount('/content/drive')"
      ],
      "execution_count": null,
      "outputs": []
    },
    {
      "cell_type": "code",
      "metadata": {
        "id": "hT1WXRIt_FQx"
      },
      "source": [
        "df = pd.read_csv('input/sample30.csv')"
      ],
      "execution_count": 2,
      "outputs": []
    },
    {
      "cell_type": "code",
      "metadata": {
        "colab": {
          "base_uri": "https://localhost:8080/",
          "height": 581
        },
        "id": "TGk7-M0A_OGR",
        "outputId": "1e354922-bad5-4761-fe5a-03bf95637137"
      },
      "source": [
        "df.head()"
      ],
      "execution_count": 3,
      "outputs": [
        {
          "output_type": "execute_result",
          "data": {
            "text/plain": [
              "                     id            brand  \\\n",
              "0  AV13O1A8GV-KLJ3akUyj  Universal Music   \n",
              "1  AV14LG0R-jtxr-f38QfS         Lundberg   \n",
              "2  AV14LG0R-jtxr-f38QfS         Lundberg   \n",
              "3  AV16khLE-jtxr-f38VFn              K-Y   \n",
              "4  AV16khLE-jtxr-f38VFn              K-Y   \n",
              "\n",
              "                                          categories  \\\n",
              "0  Movies, Music & Books,Music,R&b,Movies & TV,Mo...   \n",
              "1  Food,Packaged Foods,Snacks,Crackers,Snacks, Co...   \n",
              "2  Food,Packaged Foods,Snacks,Crackers,Snacks, Co...   \n",
              "3  Personal Care,Medicine Cabinet,Lubricant/Sperm...   \n",
              "4  Personal Care,Medicine Cabinet,Lubricant/Sperm...   \n",
              "\n",
              "                         manufacturer  \\\n",
              "0  Universal Music Group / Cash Money   \n",
              "1                            Lundberg   \n",
              "2                            Lundberg   \n",
              "3                                 K-Y   \n",
              "4                                 K-Y   \n",
              "\n",
              "                                         name              reviews_date  \\\n",
              "0   Pink Friday: Roman Reloaded Re-Up (w/dvd)  2012-11-30T06:21:45.000Z   \n",
              "1  Lundberg Organic Cinnamon Toast Rice Cakes  2017-07-09T00:00:00.000Z   \n",
              "2  Lundberg Organic Cinnamon Toast Rice Cakes  2017-07-09T00:00:00.000Z   \n",
              "3            K-Y Love Sensuality Pleasure Gel  2016-01-06T00:00:00.000Z   \n",
              "4            K-Y Love Sensuality Pleasure Gel  2016-12-21T00:00:00.000Z   \n",
              "\n",
              "  reviews_didPurchase reviews_doRecommend  reviews_rating  \\\n",
              "0                 NaN                 NaN               5   \n",
              "1                True                 NaN               5   \n",
              "2                True                 NaN               5   \n",
              "3               False               False               1   \n",
              "4               False               False               1   \n",
              "\n",
              "                                        reviews_text reviews_title  \\\n",
              "0  i love this album. it's very good. more to the...  Just Awesome   \n",
              "1  Good flavor. This review was collected as part...          Good   \n",
              "2                                       Good flavor.          Good   \n",
              "3  I read through the reviews on here before look...  Disappointed   \n",
              "4  My husband bought this gel for us. The gel cau...    Irritation   \n",
              "\n",
              "  reviews_userCity reviews_userProvince reviews_username user_sentiment  \n",
              "0      Los Angeles                  NaN           joshua       Positive  \n",
              "1              NaN                  NaN        dorothy w       Positive  \n",
              "2              NaN                  NaN        dorothy w       Positive  \n",
              "3              NaN                  NaN          rebecca       Negative  \n",
              "4              NaN                  NaN        walker557       Negative  "
            ],
            "text/html": "<div>\n<style scoped>\n    .dataframe tbody tr th:only-of-type {\n        vertical-align: middle;\n    }\n\n    .dataframe tbody tr th {\n        vertical-align: top;\n    }\n\n    .dataframe thead th {\n        text-align: right;\n    }\n</style>\n<table border=\"1\" class=\"dataframe\">\n  <thead>\n    <tr style=\"text-align: right;\">\n      <th></th>\n      <th>id</th>\n      <th>brand</th>\n      <th>categories</th>\n      <th>manufacturer</th>\n      <th>name</th>\n      <th>reviews_date</th>\n      <th>reviews_didPurchase</th>\n      <th>reviews_doRecommend</th>\n      <th>reviews_rating</th>\n      <th>reviews_text</th>\n      <th>reviews_title</th>\n      <th>reviews_userCity</th>\n      <th>reviews_userProvince</th>\n      <th>reviews_username</th>\n      <th>user_sentiment</th>\n    </tr>\n  </thead>\n  <tbody>\n    <tr>\n      <th>0</th>\n      <td>AV13O1A8GV-KLJ3akUyj</td>\n      <td>Universal Music</td>\n      <td>Movies, Music &amp; Books,Music,R&amp;b,Movies &amp; TV,Mo...</td>\n      <td>Universal Music Group / Cash Money</td>\n      <td>Pink Friday: Roman Reloaded Re-Up (w/dvd)</td>\n      <td>2012-11-30T06:21:45.000Z</td>\n      <td>NaN</td>\n      <td>NaN</td>\n      <td>5</td>\n      <td>i love this album. it's very good. more to the...</td>\n      <td>Just Awesome</td>\n      <td>Los Angeles</td>\n      <td>NaN</td>\n      <td>joshua</td>\n      <td>Positive</td>\n    </tr>\n    <tr>\n      <th>1</th>\n      <td>AV14LG0R-jtxr-f38QfS</td>\n      <td>Lundberg</td>\n      <td>Food,Packaged Foods,Snacks,Crackers,Snacks, Co...</td>\n      <td>Lundberg</td>\n      <td>Lundberg Organic Cinnamon Toast Rice Cakes</td>\n      <td>2017-07-09T00:00:00.000Z</td>\n      <td>True</td>\n      <td>NaN</td>\n      <td>5</td>\n      <td>Good flavor. This review was collected as part...</td>\n      <td>Good</td>\n      <td>NaN</td>\n      <td>NaN</td>\n      <td>dorothy w</td>\n      <td>Positive</td>\n    </tr>\n    <tr>\n      <th>2</th>\n      <td>AV14LG0R-jtxr-f38QfS</td>\n      <td>Lundberg</td>\n      <td>Food,Packaged Foods,Snacks,Crackers,Snacks, Co...</td>\n      <td>Lundberg</td>\n      <td>Lundberg Organic Cinnamon Toast Rice Cakes</td>\n      <td>2017-07-09T00:00:00.000Z</td>\n      <td>True</td>\n      <td>NaN</td>\n      <td>5</td>\n      <td>Good flavor.</td>\n      <td>Good</td>\n      <td>NaN</td>\n      <td>NaN</td>\n      <td>dorothy w</td>\n      <td>Positive</td>\n    </tr>\n    <tr>\n      <th>3</th>\n      <td>AV16khLE-jtxr-f38VFn</td>\n      <td>K-Y</td>\n      <td>Personal Care,Medicine Cabinet,Lubricant/Sperm...</td>\n      <td>K-Y</td>\n      <td>K-Y Love Sensuality Pleasure Gel</td>\n      <td>2016-01-06T00:00:00.000Z</td>\n      <td>False</td>\n      <td>False</td>\n      <td>1</td>\n      <td>I read through the reviews on here before look...</td>\n      <td>Disappointed</td>\n      <td>NaN</td>\n      <td>NaN</td>\n      <td>rebecca</td>\n      <td>Negative</td>\n    </tr>\n    <tr>\n      <th>4</th>\n      <td>AV16khLE-jtxr-f38VFn</td>\n      <td>K-Y</td>\n      <td>Personal Care,Medicine Cabinet,Lubricant/Sperm...</td>\n      <td>K-Y</td>\n      <td>K-Y Love Sensuality Pleasure Gel</td>\n      <td>2016-12-21T00:00:00.000Z</td>\n      <td>False</td>\n      <td>False</td>\n      <td>1</td>\n      <td>My husband bought this gel for us. The gel cau...</td>\n      <td>Irritation</td>\n      <td>NaN</td>\n      <td>NaN</td>\n      <td>walker557</td>\n      <td>Negative</td>\n    </tr>\n  </tbody>\n</table>\n</div>"
          },
          "metadata": {},
          "execution_count": 3
        }
      ]
    },
    {
      "cell_type": "code",
      "metadata": {
        "colab": {
          "base_uri": "https://localhost:8080/"
        },
        "id": "wQhz8_6G_0XH",
        "outputId": "ea234310-e54c-40d8-c13f-77245ea3f408"
      },
      "source": [
        "df.shape"
      ],
      "execution_count": 4,
      "outputs": [
        {
          "output_type": "execute_result",
          "data": {
            "text/plain": [
              "(30000, 15)"
            ]
          },
          "metadata": {},
          "execution_count": 4
        }
      ]
    },
    {
      "cell_type": "code",
      "metadata": {
        "colab": {
          "base_uri": "https://localhost:8080/"
        },
        "id": "Wt1wCEy0_5Bc",
        "outputId": "6052a9a4-9c5a-428a-92e3-b61676e4ad83"
      },
      "source": [
        "df.isna().sum()"
      ],
      "execution_count": 5,
      "outputs": [
        {
          "output_type": "execute_result",
          "data": {
            "text/plain": [
              "id                          0\n",
              "brand                       0\n",
              "categories                  0\n",
              "manufacturer              141\n",
              "name                        0\n",
              "reviews_date               46\n",
              "reviews_didPurchase     14068\n",
              "reviews_doRecommend      2570\n",
              "reviews_rating              0\n",
              "reviews_text                0\n",
              "reviews_title             190\n",
              "reviews_userCity        28071\n",
              "reviews_userProvince    29830\n",
              "reviews_username           63\n",
              "user_sentiment              1\n",
              "dtype: int64"
            ]
          },
          "metadata": {},
          "execution_count": 5
        }
      ]
    },
    {
      "cell_type": "code",
      "metadata": {
        "colab": {
          "base_uri": "https://localhost:8080/"
        },
        "id": "-upX79N9EePh",
        "outputId": "787507b0-d0c6-4c09-a542-6cf6dc0c4a28"
      },
      "source": [
        "Counter(df['user_sentiment'])"
      ],
      "execution_count": 6,
      "outputs": [
        {
          "output_type": "execute_result",
          "data": {
            "text/plain": [
              "Counter({'Positive': 26632, 'Negative': 3367, nan: 1})"
            ]
          },
          "metadata": {},
          "execution_count": 6
        }
      ]
    },
    {
      "cell_type": "code",
      "metadata": {
        "colab": {
          "base_uri": "https://localhost:8080/"
        },
        "id": "DrgAUlrGHWmN",
        "outputId": "32b4562f-1c49-4928-e709-ec52987066fc"
      },
      "source": [
        "Counter(df['user_sentiment'][df['reviews_title'].isna()])"
      ],
      "execution_count": 7,
      "outputs": [
        {
          "output_type": "execute_result",
          "data": {
            "text/plain": [
              "Counter({'Positive': 168, 'Negative': 22})"
            ]
          },
          "metadata": {},
          "execution_count": 7
        }
      ]
    },
    {
      "cell_type": "code",
      "metadata": {
        "id": "_RSdTKDQIJ_m"
      },
      "source": [
        "duplicate = df[df['id'].duplicated()]"
      ],
      "execution_count": 8,
      "outputs": []
    },
    {
      "cell_type": "code",
      "metadata": {
        "colab": {
          "base_uri": "https://localhost:8080/"
        },
        "id": "a1OvYxfv2Wp8",
        "outputId": "18c69994-bc4a-48c7-ed38-5f9724eff633"
      },
      "source": [
        "duplicate.shape"
      ],
      "execution_count": 9,
      "outputs": [
        {
          "output_type": "execute_result",
          "data": {
            "text/plain": [
              "(29729, 15)"
            ]
          },
          "metadata": {},
          "execution_count": 9
        }
      ]
    },
    {
      "cell_type": "code",
      "metadata": {
        "colab": {
          "base_uri": "https://localhost:8080/"
        },
        "id": "DXI3GR752XtF",
        "outputId": "adce0c8e-c717-4579-e23e-2fe8e530ed71"
      },
      "source": [
        "#data overview\n",
        "print('Rows: ', df.shape[0])\n",
        "print('columns: ', df.shape[1])\n",
        "print('\\nfeatures: ', df.columns.tolist())\n",
        "print('\\nMissing values: ', df.isnull().values.sum())\n",
        "print('\\nUnique values: \\n', df.nunique() )"
      ],
      "execution_count": 10,
      "outputs": [
        {
          "output_type": "stream",
          "name": "stdout",
          "text": [
            "Rows:  30000\n",
            "columns:  15\n",
            "\n",
            "features:  ['id', 'brand', 'categories', 'manufacturer', 'name', 'reviews_date', 'reviews_didPurchase', 'reviews_doRecommend', 'reviews_rating', 'reviews_text', 'reviews_title', 'reviews_userCity', 'reviews_userProvince', 'reviews_username', 'user_sentiment']\n",
            "\n",
            "Missing values:  74980\n",
            "\n",
            "Unique values: \n",
            " id                        271\n",
            "brand                     214\n",
            "categories                270\n",
            "manufacturer              227\n",
            "name                      271\n",
            "reviews_date             6857\n",
            "reviews_didPurchase         2\n",
            "reviews_doRecommend         2\n",
            "reviews_rating              5\n",
            "reviews_text            27282\n",
            "reviews_title           18535\n",
            "reviews_userCity          977\n",
            "reviews_userProvince       42\n",
            "reviews_username        24914\n",
            "user_sentiment              2\n",
            "dtype: int64\n"
          ]
        }
      ]
    },
    {
      "cell_type": "code",
      "metadata": {
        "id": "BMHEMTAv_5jZ",
        "colab": {
          "base_uri": "https://localhost:8080/"
        },
        "outputId": "ba20d8c9-825c-4993-da02-d64366936942"
      },
      "source": [
        "df.columns"
      ],
      "execution_count": 11,
      "outputs": [
        {
          "output_type": "execute_result",
          "data": {
            "text/plain": [
              "Index(['id', 'brand', 'categories', 'manufacturer', 'name', 'reviews_date',\n",
              "       'reviews_didPurchase', 'reviews_doRecommend', 'reviews_rating',\n",
              "       'reviews_text', 'reviews_title', 'reviews_userCity',\n",
              "       'reviews_userProvince', 'reviews_username', 'user_sentiment'],\n",
              "      dtype='object')"
            ]
          },
          "metadata": {},
          "execution_count": 11
        }
      ]
    },
    {
      "cell_type": "code",
      "metadata": {
        "id": "p6UiO_Z4AR4_"
      },
      "source": [
        "df_master = df[['reviews_rating',\n",
        "       'reviews_text', 'reviews_title','user_sentiment']].copy()"
      ],
      "execution_count": 12,
      "outputs": []
    },
    {
      "cell_type": "code",
      "metadata": {
        "colab": {
          "base_uri": "https://localhost:8080/",
          "height": 204
        },
        "id": "u0m1kmBnxaAh",
        "outputId": "f3137fea-15b5-4b8b-922e-daa6f5dd8b4e"
      },
      "source": [
        "df_master.head()"
      ],
      "execution_count": 13,
      "outputs": [
        {
          "output_type": "execute_result",
          "data": {
            "text/plain": [
              "   reviews_rating                                       reviews_text  \\\n",
              "0               5  i love this album. it's very good. more to the...   \n",
              "1               5  Good flavor. This review was collected as part...   \n",
              "2               5                                       Good flavor.   \n",
              "3               1  I read through the reviews on here before look...   \n",
              "4               1  My husband bought this gel for us. The gel cau...   \n",
              "\n",
              "  reviews_title user_sentiment  \n",
              "0  Just Awesome       Positive  \n",
              "1          Good       Positive  \n",
              "2          Good       Positive  \n",
              "3  Disappointed       Negative  \n",
              "4    Irritation       Negative  "
            ],
            "text/html": "<div>\n<style scoped>\n    .dataframe tbody tr th:only-of-type {\n        vertical-align: middle;\n    }\n\n    .dataframe tbody tr th {\n        vertical-align: top;\n    }\n\n    .dataframe thead th {\n        text-align: right;\n    }\n</style>\n<table border=\"1\" class=\"dataframe\">\n  <thead>\n    <tr style=\"text-align: right;\">\n      <th></th>\n      <th>reviews_rating</th>\n      <th>reviews_text</th>\n      <th>reviews_title</th>\n      <th>user_sentiment</th>\n    </tr>\n  </thead>\n  <tbody>\n    <tr>\n      <th>0</th>\n      <td>5</td>\n      <td>i love this album. it's very good. more to the...</td>\n      <td>Just Awesome</td>\n      <td>Positive</td>\n    </tr>\n    <tr>\n      <th>1</th>\n      <td>5</td>\n      <td>Good flavor. This review was collected as part...</td>\n      <td>Good</td>\n      <td>Positive</td>\n    </tr>\n    <tr>\n      <th>2</th>\n      <td>5</td>\n      <td>Good flavor.</td>\n      <td>Good</td>\n      <td>Positive</td>\n    </tr>\n    <tr>\n      <th>3</th>\n      <td>1</td>\n      <td>I read through the reviews on here before look...</td>\n      <td>Disappointed</td>\n      <td>Negative</td>\n    </tr>\n    <tr>\n      <th>4</th>\n      <td>1</td>\n      <td>My husband bought this gel for us. The gel cau...</td>\n      <td>Irritation</td>\n      <td>Negative</td>\n    </tr>\n  </tbody>\n</table>\n</div>"
          },
          "metadata": {},
          "execution_count": 13
        }
      ]
    },
    {
      "cell_type": "code",
      "metadata": {
        "id": "DcOibaK6xb2A"
      },
      "source": [
        "df_master['merged'] = df['reviews_title'] + \" \" + df['reviews_text']"
      ],
      "execution_count": 22,
      "outputs": []
    },
    {
      "cell_type": "code",
      "metadata": {
        "colab": {
          "base_uri": "https://localhost:8080/",
          "height": 52
        },
        "id": "cYUWIW7iyHoA",
        "outputId": "94199e12-97f1-4c4b-acd8-2cf8ffe2d66a"
      },
      "source": [
        "df_master['merged'].iloc[0]"
      ],
      "execution_count": 23,
      "outputs": [
        {
          "output_type": "execute_result",
          "data": {
            "text/plain": [
              "\"Just Awesome i love this album. it's very good. more to the hip hop side than her current pop sound.. SO HYPE! i listen to this everyday at the gym! i give it 5star rating all the way. her metaphors are just crazy.\""
            ]
          },
          "metadata": {},
          "execution_count": 23
        }
      ]
    },
    {
      "cell_type": "code",
      "metadata": {
        "colab": {
          "base_uri": "https://localhost:8080/",
          "height": 272
        },
        "id": "M1ux3QeFyJcG",
        "outputId": "22c37d58-eec0-4c7f-e32e-7b561818d488"
      },
      "source": [
        "df_master.head()"
      ],
      "execution_count": 24,
      "outputs": [
        {
          "output_type": "execute_result",
          "data": {
            "text/plain": [
              "   reviews_rating                                       reviews_text  \\\n",
              "0               5  i love this album. it's very good. more to the...   \n",
              "1               5  Good flavor. This review was collected as part...   \n",
              "2               5                                       Good flavor.   \n",
              "3               1  I read through the reviews on here before look...   \n",
              "4               1  My husband bought this gel for us. The gel cau...   \n",
              "\n",
              "  reviews_title user_sentiment  \\\n",
              "0  Just Awesome       Positive   \n",
              "1          Good       Positive   \n",
              "2          Good       Positive   \n",
              "3  Disappointed       Negative   \n",
              "4    Irritation       Negative   \n",
              "\n",
              "                                              merged  \n",
              "0  Just Awesome i love this album. it's very good...  \n",
              "1  Good Good flavor. This review was collected as...  \n",
              "2                                  Good Good flavor.  \n",
              "3  Disappointed I read through the reviews on her...  \n",
              "4  Irritation My husband bought this gel for us. ...  "
            ],
            "text/html": "<div>\n<style scoped>\n    .dataframe tbody tr th:only-of-type {\n        vertical-align: middle;\n    }\n\n    .dataframe tbody tr th {\n        vertical-align: top;\n    }\n\n    .dataframe thead th {\n        text-align: right;\n    }\n</style>\n<table border=\"1\" class=\"dataframe\">\n  <thead>\n    <tr style=\"text-align: right;\">\n      <th></th>\n      <th>reviews_rating</th>\n      <th>reviews_text</th>\n      <th>reviews_title</th>\n      <th>user_sentiment</th>\n      <th>merged</th>\n    </tr>\n  </thead>\n  <tbody>\n    <tr>\n      <th>0</th>\n      <td>5</td>\n      <td>i love this album. it's very good. more to the...</td>\n      <td>Just Awesome</td>\n      <td>Positive</td>\n      <td>Just Awesome i love this album. it's very good...</td>\n    </tr>\n    <tr>\n      <th>1</th>\n      <td>5</td>\n      <td>Good flavor. This review was collected as part...</td>\n      <td>Good</td>\n      <td>Positive</td>\n      <td>Good Good flavor. This review was collected as...</td>\n    </tr>\n    <tr>\n      <th>2</th>\n      <td>5</td>\n      <td>Good flavor.</td>\n      <td>Good</td>\n      <td>Positive</td>\n      <td>Good Good flavor.</td>\n    </tr>\n    <tr>\n      <th>3</th>\n      <td>1</td>\n      <td>I read through the reviews on here before look...</td>\n      <td>Disappointed</td>\n      <td>Negative</td>\n      <td>Disappointed I read through the reviews on her...</td>\n    </tr>\n    <tr>\n      <th>4</th>\n      <td>1</td>\n      <td>My husband bought this gel for us. The gel cau...</td>\n      <td>Irritation</td>\n      <td>Negative</td>\n      <td>Irritation My husband bought this gel for us. ...</td>\n    </tr>\n  </tbody>\n</table>\n</div>"
          },
          "metadata": {},
          "execution_count": 24
        }
      ]
    },
    {
      "cell_type": "code",
      "metadata": {
        "colab": {
          "base_uri": "https://localhost:8080/"
        },
        "id": "RN-xsoCsEwFS",
        "outputId": "1102c612-059e-4656-a3f3-732b29299d77"
      },
      "source": [
        "df_master.info()"
      ],
      "execution_count": 25,
      "outputs": [
        {
          "output_type": "stream",
          "name": "stdout",
          "text": [
            "<class 'pandas.core.frame.DataFrame'>\nRangeIndex: 30000 entries, 0 to 29999\nData columns (total 5 columns):\n #   Column          Non-Null Count  Dtype \n---  ------          --------------  ----- \n 0   reviews_rating  30000 non-null  int64 \n 1   reviews_text    30000 non-null  object\n 2   reviews_title   29810 non-null  object\n 3   user_sentiment  29999 non-null  object\n 4   merged          29810 non-null  object\ndtypes: int64(1), object(4)\nmemory usage: 1.1+ MB\n"
          ]
        }
      ]
    },
    {
      "cell_type": "code",
      "metadata": {
        "colab": {
          "base_uri": "https://localhost:8080/",
          "height": 52
        },
        "id": "lZTyUUTUEwQV",
        "outputId": "77c9c7e0-da29-44a1-d8ae-02b5b82beb32"
      },
      "source": [
        "df_master['merged'][0]"
      ],
      "execution_count": 26,
      "outputs": [
        {
          "output_type": "execute_result",
          "data": {
            "text/plain": [
              "\"Just Awesome i love this album. it's very good. more to the hip hop side than her current pop sound.. SO HYPE! i listen to this everyday at the gym! i give it 5star rating all the way. her metaphors are just crazy.\""
            ]
          },
          "metadata": {},
          "execution_count": 26
        }
      ]
    },
    {
      "cell_type": "code",
      "metadata": {
        "id": "aPmNgM-z6KTw"
      },
      "source": [
        "df_master['newMerged'] = df_master['merged'].str.lower().str.split()"
      ],
      "execution_count": 27,
      "outputs": []
    },
    {
      "cell_type": "code",
      "metadata": {
        "colab": {
          "base_uri": "https://localhost:8080/"
        },
        "id": "oTFDyHWl-3MX",
        "outputId": "cc01861c-fd45-4cbc-bced-e24fc33dc157"
      },
      "source": [
        "type(df_master['newMerged'][0])\n",
        "df_master['newMerged'].head()"
      ],
      "execution_count": 28,
      "outputs": [
        {
          "output_type": "execute_result",
          "data": {
            "text/plain": [
              "0    [just, awesome, i, love, this, album., it's, v...\n",
              "1    [good, good, flavor., this, review, was, colle...\n",
              "2                                [good, good, flavor.]\n",
              "3    [disappointed, i, read, through, the, reviews,...\n",
              "4    [irritation, my, husband, bought, this, gel, f...\n",
              "Name: newMerged, dtype: object"
            ]
          },
          "metadata": {},
          "execution_count": 28
        }
      ]
    },
    {
      "cell_type": "code",
      "metadata": {
        "id": "Rbw5L7_kz7_Y",
        "colab": {
          "base_uri": "https://localhost:8080/"
        },
        "outputId": "5e4ff68f-bb07-4698-b0a1-78551ad21464"
      },
      "source": [
        "for x in df_master['newMerged'][0]:\n",
        "  print(x)"
      ],
      "execution_count": 29,
      "outputs": [
        {
          "output_type": "stream",
          "name": "stdout",
          "text": [
            "just\nawesome\ni\nlove\nthis\nalbum.\nit's\nvery\ngood.\nmore\nto\nthe\nhip\nhop\nside\nthan\nher\ncurrent\npop\nsound..\nso\nhype!\ni\nlisten\nto\nthis\neveryday\nat\nthe\ngym!\ni\ngive\nit\n5star\nrating\nall\nthe\nway.\nher\nmetaphors\nare\njust\ncrazy.\n"
          ]
        }
      ]
    },
    {
      "cell_type": "code",
      "metadata": {
        "colab": {
          "base_uri": "https://localhost:8080/"
        },
        "id": "MLjYkdqT-rw-",
        "outputId": "c49b1a8c-4b8e-4aa4-c293-93502e16cc54"
      },
      "source": [
        "[item for item in df_master['newMerged'][0] if not item in stop]"
      ],
      "execution_count": 30,
      "outputs": [
        {
          "output_type": "error",
          "ename": "TypeError",
          "evalue": "argument of type 'WordListCorpusReader' is not iterable",
          "traceback": [
            "\u001b[1;31m---------------------------------------------------------------------------\u001b[0m",
            "\u001b[1;31mTypeError\u001b[0m                                 Traceback (most recent call last)",
            "\u001b[1;32m<ipython-input-30-3b3c4c691ff1>\u001b[0m in \u001b[0;36m<module>\u001b[1;34m\u001b[0m\n\u001b[1;32m----> 1\u001b[1;33m \u001b[1;33m[\u001b[0m\u001b[0mitem\u001b[0m \u001b[1;32mfor\u001b[0m \u001b[0mitem\u001b[0m \u001b[1;32min\u001b[0m \u001b[0mdf_master\u001b[0m\u001b[1;33m[\u001b[0m\u001b[1;34m'newMerged'\u001b[0m\u001b[1;33m]\u001b[0m\u001b[1;33m[\u001b[0m\u001b[1;36m0\u001b[0m\u001b[1;33m]\u001b[0m \u001b[1;32mif\u001b[0m \u001b[1;32mnot\u001b[0m \u001b[0mitem\u001b[0m \u001b[1;32min\u001b[0m \u001b[0mstop\u001b[0m\u001b[1;33m]\u001b[0m\u001b[1;33m\u001b[0m\u001b[1;33m\u001b[0m\u001b[0m\n\u001b[0m",
            "\u001b[1;32m<ipython-input-30-3b3c4c691ff1>\u001b[0m in \u001b[0;36m<listcomp>\u001b[1;34m(.0)\u001b[0m\n\u001b[1;32m----> 1\u001b[1;33m \u001b[1;33m[\u001b[0m\u001b[0mitem\u001b[0m \u001b[1;32mfor\u001b[0m \u001b[0mitem\u001b[0m \u001b[1;32min\u001b[0m \u001b[0mdf_master\u001b[0m\u001b[1;33m[\u001b[0m\u001b[1;34m'newMerged'\u001b[0m\u001b[1;33m]\u001b[0m\u001b[1;33m[\u001b[0m\u001b[1;36m0\u001b[0m\u001b[1;33m]\u001b[0m \u001b[1;32mif\u001b[0m \u001b[1;32mnot\u001b[0m \u001b[0mitem\u001b[0m \u001b[1;32min\u001b[0m \u001b[0mstop\u001b[0m\u001b[1;33m]\u001b[0m\u001b[1;33m\u001b[0m\u001b[1;33m\u001b[0m\u001b[0m\n\u001b[0m",
            "\u001b[1;31mTypeError\u001b[0m: argument of type 'WordListCorpusReader' is not iterable"
          ]
        }
      ]
    },
    {
      "cell_type": "code",
      "metadata": {
        "colab": {
          "base_uri": "https://localhost:8080/",
          "height": 302
        },
        "id": "qGHp4BVDAvqn",
        "outputId": "366f062d-6779-476b-b764-e50606e65d8c"
      },
      "source": [
        "df_master['newMerged'].apply(lambda x:[item for item in [x] if not item in stop])"
      ],
      "execution_count": 31,
      "outputs": [
        {
          "output_type": "error",
          "ename": "TypeError",
          "evalue": "argument of type 'WordListCorpusReader' is not iterable",
          "traceback": [
            "\u001b[1;31m---------------------------------------------------------------------------\u001b[0m",
            "\u001b[1;31mTypeError\u001b[0m                                 Traceback (most recent call last)",
            "\u001b[1;32m<ipython-input-31-7a6982605cd5>\u001b[0m in \u001b[0;36m<module>\u001b[1;34m\u001b[0m\n\u001b[1;32m----> 1\u001b[1;33m \u001b[0mdf_master\u001b[0m\u001b[1;33m[\u001b[0m\u001b[1;34m'newMerged'\u001b[0m\u001b[1;33m]\u001b[0m\u001b[1;33m.\u001b[0m\u001b[0mapply\u001b[0m\u001b[1;33m(\u001b[0m\u001b[1;32mlambda\u001b[0m \u001b[0mx\u001b[0m\u001b[1;33m:\u001b[0m\u001b[1;33m[\u001b[0m\u001b[0mitem\u001b[0m \u001b[1;32mfor\u001b[0m \u001b[0mitem\u001b[0m \u001b[1;32min\u001b[0m \u001b[1;33m[\u001b[0m\u001b[0mx\u001b[0m\u001b[1;33m]\u001b[0m \u001b[1;32mif\u001b[0m \u001b[1;32mnot\u001b[0m \u001b[0mitem\u001b[0m \u001b[1;32min\u001b[0m \u001b[0mstop\u001b[0m\u001b[1;33m]\u001b[0m\u001b[1;33m)\u001b[0m\u001b[1;33m\u001b[0m\u001b[1;33m\u001b[0m\u001b[0m\n\u001b[0m",
            "\u001b[1;32mC:\\Anaconda3_64bit\\envs\\rasaenv\\lib\\site-packages\\pandas\\core\\series.py\u001b[0m in \u001b[0;36mapply\u001b[1;34m(self, func, convert_dtype, args, **kwds)\u001b[0m\n\u001b[0;32m   4136\u001b[0m             \u001b[1;32melse\u001b[0m\u001b[1;33m:\u001b[0m\u001b[1;33m\u001b[0m\u001b[1;33m\u001b[0m\u001b[0m\n\u001b[0;32m   4137\u001b[0m                 \u001b[0mvalues\u001b[0m \u001b[1;33m=\u001b[0m \u001b[0mself\u001b[0m\u001b[1;33m.\u001b[0m\u001b[0mastype\u001b[0m\u001b[1;33m(\u001b[0m\u001b[0mobject\u001b[0m\u001b[1;33m)\u001b[0m\u001b[1;33m.\u001b[0m\u001b[0m_values\u001b[0m\u001b[1;33m\u001b[0m\u001b[1;33m\u001b[0m\u001b[0m\n\u001b[1;32m-> 4138\u001b[1;33m                 \u001b[0mmapped\u001b[0m \u001b[1;33m=\u001b[0m \u001b[0mlib\u001b[0m\u001b[1;33m.\u001b[0m\u001b[0mmap_infer\u001b[0m\u001b[1;33m(\u001b[0m\u001b[0mvalues\u001b[0m\u001b[1;33m,\u001b[0m \u001b[0mf\u001b[0m\u001b[1;33m,\u001b[0m \u001b[0mconvert\u001b[0m\u001b[1;33m=\u001b[0m\u001b[0mconvert_dtype\u001b[0m\u001b[1;33m)\u001b[0m\u001b[1;33m\u001b[0m\u001b[1;33m\u001b[0m\u001b[0m\n\u001b[0m\u001b[0;32m   4139\u001b[0m \u001b[1;33m\u001b[0m\u001b[0m\n\u001b[0;32m   4140\u001b[0m         \u001b[1;32mif\u001b[0m \u001b[0mlen\u001b[0m\u001b[1;33m(\u001b[0m\u001b[0mmapped\u001b[0m\u001b[1;33m)\u001b[0m \u001b[1;32mand\u001b[0m \u001b[0misinstance\u001b[0m\u001b[1;33m(\u001b[0m\u001b[0mmapped\u001b[0m\u001b[1;33m[\u001b[0m\u001b[1;36m0\u001b[0m\u001b[1;33m]\u001b[0m\u001b[1;33m,\u001b[0m \u001b[0mSeries\u001b[0m\u001b[1;33m)\u001b[0m\u001b[1;33m:\u001b[0m\u001b[1;33m\u001b[0m\u001b[1;33m\u001b[0m\u001b[0m\n",
            "\u001b[1;32mpandas\\_libs\\lib.pyx\u001b[0m in \u001b[0;36mpandas._libs.lib.map_infer\u001b[1;34m()\u001b[0m\n",
            "\u001b[1;32m<ipython-input-31-7a6982605cd5>\u001b[0m in \u001b[0;36m<lambda>\u001b[1;34m(x)\u001b[0m\n\u001b[1;32m----> 1\u001b[1;33m \u001b[0mdf_master\u001b[0m\u001b[1;33m[\u001b[0m\u001b[1;34m'newMerged'\u001b[0m\u001b[1;33m]\u001b[0m\u001b[1;33m.\u001b[0m\u001b[0mapply\u001b[0m\u001b[1;33m(\u001b[0m\u001b[1;32mlambda\u001b[0m \u001b[0mx\u001b[0m\u001b[1;33m:\u001b[0m\u001b[1;33m[\u001b[0m\u001b[0mitem\u001b[0m \u001b[1;32mfor\u001b[0m \u001b[0mitem\u001b[0m \u001b[1;32min\u001b[0m \u001b[1;33m[\u001b[0m\u001b[0mx\u001b[0m\u001b[1;33m]\u001b[0m \u001b[1;32mif\u001b[0m \u001b[1;32mnot\u001b[0m \u001b[0mitem\u001b[0m \u001b[1;32min\u001b[0m \u001b[0mstop\u001b[0m\u001b[1;33m]\u001b[0m\u001b[1;33m)\u001b[0m\u001b[1;33m\u001b[0m\u001b[1;33m\u001b[0m\u001b[0m\n\u001b[0m",
            "\u001b[1;32m<ipython-input-31-7a6982605cd5>\u001b[0m in \u001b[0;36m<listcomp>\u001b[1;34m(.0)\u001b[0m\n\u001b[1;32m----> 1\u001b[1;33m \u001b[0mdf_master\u001b[0m\u001b[1;33m[\u001b[0m\u001b[1;34m'newMerged'\u001b[0m\u001b[1;33m]\u001b[0m\u001b[1;33m.\u001b[0m\u001b[0mapply\u001b[0m\u001b[1;33m(\u001b[0m\u001b[1;32mlambda\u001b[0m \u001b[0mx\u001b[0m\u001b[1;33m:\u001b[0m\u001b[1;33m[\u001b[0m\u001b[0mitem\u001b[0m \u001b[1;32mfor\u001b[0m \u001b[0mitem\u001b[0m \u001b[1;32min\u001b[0m \u001b[1;33m[\u001b[0m\u001b[0mx\u001b[0m\u001b[1;33m]\u001b[0m \u001b[1;32mif\u001b[0m \u001b[1;32mnot\u001b[0m \u001b[0mitem\u001b[0m \u001b[1;32min\u001b[0m \u001b[0mstop\u001b[0m\u001b[1;33m]\u001b[0m\u001b[1;33m)\u001b[0m\u001b[1;33m\u001b[0m\u001b[1;33m\u001b[0m\u001b[0m\n\u001b[0m",
            "\u001b[1;31mTypeError\u001b[0m: argument of type 'WordListCorpusReader' is not iterable"
          ]
        }
      ]
    },
    {
      "cell_type": "code",
      "metadata": {
        "id": "XYA_3BAPCbFo"
      },
      "source": [
        "def remove_stops(row):\n",
        "    my_list = row['stemmed_words']\n",
        "    meaningful_words = [w for w in my_list if not w in stops]\n",
        "    return (meaningful_words)\n",
        "\n"
      ],
      "execution_count": null,
      "outputs": []
    },
    {
      "cell_type": "code",
      "metadata": {
        "colab": {
          "base_uri": "https://localhost:8080/"
        },
        "id": "YD5oUfqjEkXq",
        "outputId": "57d675bd-8dfd-400b-b095-a968718158a4"
      },
      "source": [
        "type(df_master['newMerged'][0])"
      ],
      "execution_count": null,
      "outputs": [
        {
          "output_type": "execute_result",
          "data": {
            "text/plain": [
              "list"
            ]
          },
          "metadata": {
            "tags": []
          },
          "execution_count": 27
        }
      ]
    },
    {
      "cell_type": "code",
      "metadata": {
        "colab": {
          "base_uri": "https://localhost:8080/",
          "height": 302
        },
        "id": "mXEwhp3hEmxA",
        "outputId": "2a3007f7-f3ab-44c6-d5f7-75f2c0600d2a"
      },
      "source": [
        "df_master['newMerged'].apply(lambda x:[item for item in x if not item in stop])"
      ],
      "execution_count": null,
      "outputs": [
        {
          "output_type": "error",
          "ename": "TypeError",
          "evalue": "ignored",
          "traceback": [
            "\u001b[0;31m---------------------------------------------------------------------------\u001b[0m",
            "\u001b[0;31mTypeError\u001b[0m                                 Traceback (most recent call last)",
            "\u001b[0;32m<ipython-input-28-08e3b2e2384a>\u001b[0m in \u001b[0;36m<module>\u001b[0;34m()\u001b[0m\n\u001b[0;32m----> 1\u001b[0;31m \u001b[0mdf_master\u001b[0m\u001b[0;34m[\u001b[0m\u001b[0;34m'newMerged'\u001b[0m\u001b[0;34m]\u001b[0m\u001b[0;34m.\u001b[0m\u001b[0mapply\u001b[0m\u001b[0;34m(\u001b[0m\u001b[0;32mlambda\u001b[0m \u001b[0mx\u001b[0m\u001b[0;34m:\u001b[0m\u001b[0;34m[\u001b[0m\u001b[0mitem\u001b[0m \u001b[0;32mfor\u001b[0m \u001b[0mitem\u001b[0m \u001b[0;32min\u001b[0m \u001b[0mx\u001b[0m \u001b[0;32mif\u001b[0m \u001b[0;32mnot\u001b[0m \u001b[0mitem\u001b[0m \u001b[0;32min\u001b[0m \u001b[0mstop\u001b[0m\u001b[0;34m]\u001b[0m\u001b[0;34m)\u001b[0m\u001b[0;34m\u001b[0m\u001b[0;34m\u001b[0m\u001b[0m\n\u001b[0m",
            "\u001b[0;32m/usr/local/lib/python3.7/dist-packages/pandas/core/series.py\u001b[0m in \u001b[0;36mapply\u001b[0;34m(self, func, convert_dtype, args, **kwds)\u001b[0m\n\u001b[1;32m   4211\u001b[0m             \u001b[0;32melse\u001b[0m\u001b[0;34m:\u001b[0m\u001b[0;34m\u001b[0m\u001b[0;34m\u001b[0m\u001b[0m\n\u001b[1;32m   4212\u001b[0m                 \u001b[0mvalues\u001b[0m \u001b[0;34m=\u001b[0m \u001b[0mself\u001b[0m\u001b[0;34m.\u001b[0m\u001b[0mastype\u001b[0m\u001b[0;34m(\u001b[0m\u001b[0mobject\u001b[0m\u001b[0;34m)\u001b[0m\u001b[0;34m.\u001b[0m\u001b[0m_values\u001b[0m\u001b[0;34m\u001b[0m\u001b[0;34m\u001b[0m\u001b[0m\n\u001b[0;32m-> 4213\u001b[0;31m                 \u001b[0mmapped\u001b[0m \u001b[0;34m=\u001b[0m \u001b[0mlib\u001b[0m\u001b[0;34m.\u001b[0m\u001b[0mmap_infer\u001b[0m\u001b[0;34m(\u001b[0m\u001b[0mvalues\u001b[0m\u001b[0;34m,\u001b[0m \u001b[0mf\u001b[0m\u001b[0;34m,\u001b[0m \u001b[0mconvert\u001b[0m\u001b[0;34m=\u001b[0m\u001b[0mconvert_dtype\u001b[0m\u001b[0;34m)\u001b[0m\u001b[0;34m\u001b[0m\u001b[0;34m\u001b[0m\u001b[0m\n\u001b[0m\u001b[1;32m   4214\u001b[0m \u001b[0;34m\u001b[0m\u001b[0m\n\u001b[1;32m   4215\u001b[0m         \u001b[0;32mif\u001b[0m \u001b[0mlen\u001b[0m\u001b[0;34m(\u001b[0m\u001b[0mmapped\u001b[0m\u001b[0;34m)\u001b[0m \u001b[0;32mand\u001b[0m \u001b[0misinstance\u001b[0m\u001b[0;34m(\u001b[0m\u001b[0mmapped\u001b[0m\u001b[0;34m[\u001b[0m\u001b[0;36m0\u001b[0m\u001b[0;34m]\u001b[0m\u001b[0;34m,\u001b[0m \u001b[0mSeries\u001b[0m\u001b[0;34m)\u001b[0m\u001b[0;34m:\u001b[0m\u001b[0;34m\u001b[0m\u001b[0;34m\u001b[0m\u001b[0m\n",
            "\u001b[0;32mpandas/_libs/lib.pyx\u001b[0m in \u001b[0;36mpandas._libs.lib.map_infer\u001b[0;34m()\u001b[0m\n",
            "\u001b[0;32m<ipython-input-28-08e3b2e2384a>\u001b[0m in \u001b[0;36m<lambda>\u001b[0;34m(x)\u001b[0m\n\u001b[0;32m----> 1\u001b[0;31m \u001b[0mdf_master\u001b[0m\u001b[0;34m[\u001b[0m\u001b[0;34m'newMerged'\u001b[0m\u001b[0;34m]\u001b[0m\u001b[0;34m.\u001b[0m\u001b[0mapply\u001b[0m\u001b[0;34m(\u001b[0m\u001b[0;32mlambda\u001b[0m \u001b[0mx\u001b[0m\u001b[0;34m:\u001b[0m\u001b[0;34m[\u001b[0m\u001b[0mitem\u001b[0m \u001b[0;32mfor\u001b[0m \u001b[0mitem\u001b[0m \u001b[0;32min\u001b[0m \u001b[0mx\u001b[0m \u001b[0;32mif\u001b[0m \u001b[0;32mnot\u001b[0m \u001b[0mitem\u001b[0m \u001b[0;32min\u001b[0m \u001b[0mstop\u001b[0m\u001b[0;34m]\u001b[0m\u001b[0;34m)\u001b[0m\u001b[0;34m\u001b[0m\u001b[0;34m\u001b[0m\u001b[0m\n\u001b[0m",
            "\u001b[0;31mTypeError\u001b[0m: 'float' object is not iterable"
          ]
        }
      ]
    }
  ]
}